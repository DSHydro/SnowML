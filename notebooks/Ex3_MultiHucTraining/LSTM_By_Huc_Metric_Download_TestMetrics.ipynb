{
 "cells": [
  {
   "cell_type": "markdown",
   "id": "40c7cd88-c6f2-49c0-a317-1ae3e07266d7",
   "metadata": {},
   "source": [
    "# Notebook to Investigate LSTM Performance Variance by Huc Type - Assemble Metrics And Data for Test Sets"
   ]
  },
  {
   "cell_type": "markdown",
   "id": "e190667a-9b99-44c4-87a8-8d36f8bea340",
   "metadata": {},
   "source": [
    "# Step 0 - Set up Notebook"
   ]
  },
  {
   "cell_type": "code",
   "execution_count": 4,
   "id": "bef22fa2-0a8e-4982-bd09-bdb98e4d848c",
   "metadata": {},
   "outputs": [],
   "source": [
    "# import needed libaries\n",
    "import os\n",
    "import boto3\n",
    "import mlflow\n",
    "import time\n",
    "from PIL import Image\n",
    "import pandas as pd\n",
    "import geopandas as gpd\n",
    "import matplotlib.pyplot as plt\n",
    "import seaborn as sns\n",
    "import numpy as np\n",
    "from snowML.datapipe import snow_types as st\n",
    "from snowML.datapipe import get_geos as gg\n",
    "from snowML.datapipe import data_utils as du\n",
    "from snowML.datapipe import get_dem as gd\n",
    "from snowML.viz import download_metrics as dm"
   ]
  },
  {
   "cell_type": "code",
   "execution_count": 5,
   "id": "a97c2faf-fcda-42d0-9120-0eacc9073064",
   "metadata": {},
   "outputs": [
    {
     "data": {
      "text/plain": [
       "True"
      ]
     },
     "execution_count": 5,
     "metadata": {},
     "output_type": "execute_result"
    }
   ],
   "source": [
    "# initialize erathengine credentials\n",
    "import ee\n",
    "ee.Authenticate()"
   ]
  },
  {
   "cell_type": "markdown",
   "id": "06deed74-0fac-4b31-8687-14affeefeccc",
   "metadata": {},
   "source": [
    "# Step1 - Get MLFlow Metrics"
   ]
  },
  {
   "cell_type": "code",
   "execution_count": 6,
   "id": "f56f849d-2653-497f-a35e-f218e4cd500a",
   "metadata": {},
   "outputs": [],
   "source": [
    "# function to extract only a specific metric\n",
    "def extract_metric(df, metric_name):\n",
    "    \"\"\"Extracts rows where the Metric column ends with 'metric_name' and returns only Metric and Value columns.\"\"\"\n",
    "    return df[df['Metric'].str.endswith(metric_name)][['Metric', 'Value']].sort_values(by='Metric')"
   ]
  },
  {
   "cell_type": "code",
   "execution_count": 7,
   "id": "5516a464-ebce-40ee-9461-f1cd6fed5382",
   "metadata": {},
   "outputs": [],
   "source": [
    "# function to extract data from a given epoch \n",
    "def summarize_by_step(df, step, agg_lev = 12):\n",
    "    df_filtered = df[df[\"Step\"] == step].copy()\n",
    "    df_filtered[\"Metric_Type\"] = df_filtered[\"Metric\"].str.extract(r\"(test_mse|test_kge|test_r2)\")\n",
    "    df_filtered[\"HUC_ID\"] = df_filtered[\"Metric\"].str.extract(fr\"(\\d{{{agg_lev}}})\")  \n",
    "    df_pivot = df_filtered.pivot(index=\"HUC_ID\", columns=\"Metric_Type\", values=\"Value\")\n",
    "    df_pivot.columns = [\"Test KGE\", \"Test MSE\", \"Test_R2\"]\n",
    "    df_pivot_sorted = df_pivot.sort_index()\n",
    "    df_selected = df_pivot_sorted[[\"Test MSE\", \"Test KGE\", \"Test_R2\"]]\n",
    "    # print(df_selected)\n",
    "    return df_selected"
   ]
  },
  {
   "cell_type": "code",
   "execution_count": 8,
   "id": "72f9cff8-9dd6-4f87-a22f-e7fe7268ae88",
   "metadata": {},
   "outputs": [
    {
     "name": "stdout",
     "output_type": "stream",
     "text": [
      "{'Test_Set_A': 'ccc1af0a3007412bb23cbd4a7cb0d431', 'Test_Set_B': '148f7dddc0814c4f86bb93edbc425c4c'}\n"
     ]
    }
   ],
   "source": [
    "# create a dictionary of run_ids \n",
    "run_dict = dm.create_run_dict_Ex3Eval()\n",
    "print(run_dict)"
   ]
  },
  {
   "cell_type": "code",
   "execution_count": 9,
   "id": "4308c17e-a34b-4f1c-95d4-29d09825f5ba",
   "metadata": {},
   "outputs": [],
   "source": [
    "# create a dictionary of dataframes corresponding to the run_id shortname uploading from local files \n",
    "df_dict = {}\n",
    "for key in run_dict.keys(): \n",
    "    run_id = run_dict[key]\n",
    "    file = f\"../../data/run_id_data/metrics_from_{run_id}.csv\"\n",
    "    df_metrics = pd.read_csv(file)\n",
    "    #print(df_metrics.shape)\n",
    "    df_dict[key] = df_metrics"
   ]
  },
  {
   "cell_type": "code",
   "execution_count": 10,
   "id": "a6537ff3-566c-43cb-a0be-544abb8d8152",
   "metadata": {},
   "outputs": [
    {
     "data": {
      "text/html": [
       "<div>\n",
       "<style scoped>\n",
       "    .dataframe tbody tr th:only-of-type {\n",
       "        vertical-align: middle;\n",
       "    }\n",
       "\n",
       "    .dataframe tbody tr th {\n",
       "        vertical-align: top;\n",
       "    }\n",
       "\n",
       "    .dataframe thead th {\n",
       "        text-align: right;\n",
       "    }\n",
       "</style>\n",
       "<table border=\"1\" class=\"dataframe\">\n",
       "  <thead>\n",
       "    <tr style=\"text-align: right;\">\n",
       "      <th></th>\n",
       "      <th>Test MSE</th>\n",
       "      <th>Test KGE</th>\n",
       "      <th>Test_R2</th>\n",
       "    </tr>\n",
       "    <tr>\n",
       "      <th>HUC_ID</th>\n",
       "      <th></th>\n",
       "      <th></th>\n",
       "      <th></th>\n",
       "    </tr>\n",
       "  </thead>\n",
       "  <tbody>\n",
       "    <tr>\n",
       "      <th>170103020201</th>\n",
       "      <td>0.001897</td>\n",
       "      <td>0.841758</td>\n",
       "      <td>0.924090</td>\n",
       "    </tr>\n",
       "    <tr>\n",
       "      <th>170103020301</th>\n",
       "      <td>0.000845</td>\n",
       "      <td>0.924311</td>\n",
       "      <td>0.917509</td>\n",
       "    </tr>\n",
       "  </tbody>\n",
       "</table>\n",
       "</div>"
      ],
      "text/plain": [
       "              Test MSE  Test KGE   Test_R2\n",
       "HUC_ID                                    \n",
       "170103020201  0.001897  0.841758  0.924090\n",
       "170103020301  0.000845  0.924311  0.917509"
      ]
     },
     "execution_count": 10,
     "metadata": {},
     "output_type": "execute_result"
    }
   ],
   "source": [
    "# summarize results Test Set A \n",
    "df_metrics_A = df_dict[\"Test_Set_A\"]\n",
    "df_summary_A = summarize_by_step(df_metrics_A, 0)\n",
    "df_summary_A.head(2)"
   ]
  },
  {
   "cell_type": "code",
   "execution_count": 11,
   "id": "6eb8667b-0fca-4c95-ad97-51f8564967a5",
   "metadata": {},
   "outputs": [
    {
     "data": {
      "text/html": [
       "<div>\n",
       "<style scoped>\n",
       "    .dataframe tbody tr th:only-of-type {\n",
       "        vertical-align: middle;\n",
       "    }\n",
       "\n",
       "    .dataframe tbody tr th {\n",
       "        vertical-align: top;\n",
       "    }\n",
       "\n",
       "    .dataframe thead th {\n",
       "        text-align: right;\n",
       "    }\n",
       "</style>\n",
       "<table border=\"1\" class=\"dataframe\">\n",
       "  <thead>\n",
       "    <tr style=\"text-align: right;\">\n",
       "      <th></th>\n",
       "      <th>Test MSE</th>\n",
       "      <th>Test KGE</th>\n",
       "      <th>Test_R2</th>\n",
       "    </tr>\n",
       "    <tr>\n",
       "      <th>HUC_ID</th>\n",
       "      <th></th>\n",
       "      <th></th>\n",
       "      <th></th>\n",
       "    </tr>\n",
       "  </thead>\n",
       "  <tbody>\n",
       "    <tr>\n",
       "      <th>170300010101</th>\n",
       "      <td>0.011511</td>\n",
       "      <td>0.784917</td>\n",
       "      <td>0.935723</td>\n",
       "    </tr>\n",
       "    <tr>\n",
       "      <th>170300010102</th>\n",
       "      <td>0.018615</td>\n",
       "      <td>0.710050</td>\n",
       "      <td>0.900482</td>\n",
       "    </tr>\n",
       "  </tbody>\n",
       "</table>\n",
       "</div>"
      ],
      "text/plain": [
       "              Test MSE  Test KGE   Test_R2\n",
       "HUC_ID                                    \n",
       "170300010101  0.011511  0.784917  0.935723\n",
       "170300010102  0.018615  0.710050  0.900482"
      ]
     },
     "execution_count": 11,
     "metadata": {},
     "output_type": "execute_result"
    }
   ],
   "source": [
    "# summarize results Test Set B \n",
    "df_metrics_B = df_dict[\"Test_Set_B\"]\n",
    "df_summary_B = summarize_by_step(df_metrics_B, 0)\n",
    "df_summary_B.head(2)"
   ]
  },
  {
   "cell_type": "markdown",
   "id": "fc23f6ce-3c32-457d-9e5b-df39803dbdcf",
   "metadata": {},
   "source": [
    "# Step 2 - Plot histogram of test_kge "
   ]
  },
  {
   "cell_type": "code",
   "execution_count": 15,
   "id": "473fb629-141e-4372-b7d9-856450919f24",
   "metadata": {},
   "outputs": [],
   "source": [
    "def plot_test_kge_histogram(df, title = \"histogram\"):\n",
    "    \"\"\"\n",
    "    Plots a histogram of the test_kge values from a pandas DataFrame and saves it as 'histogram.png'.\n",
    "    \n",
    "    Parameters:\n",
    "    df (pd.DataFrame): DataFrame containing the column 'test_kge'.\n",
    "    \"\"\"\n",
    "    if 'Test KGE' not in df.columns:\n",
    "        raise ValueError(\"DataFrame must contain a 'Test KGE' column\")\n",
    "    \n",
    "    test_kge_values = df['Test KGE'].dropna()\n",
    "    median_kge = np.median(test_kge_values)\n",
    "    \n",
    "    plt.figure(figsize=(8, 6))\n",
    "    plt.hist(df['Test KGE'].dropna(), bins=20, edgecolor='black', alpha=0.7)\n",
    "    plt.axvline(median_kge, color='red', linestyle='dashed', linewidth=2, label=f'Median: {median_kge:.2f}')\n",
    "    plt.text(median_kge, plt.ylim()[1] * 0.9, f'Median: {median_kge:.2f}', color='red', ha='right', fontsize=12, fontweight='bold')\n",
    "    plt.xlabel('Test KGE')\n",
    "    plt.ylabel('Frequency')\n",
    "    plt.title(title)\n",
    "    plt.grid(axis='y', linestyle='--', alpha=0.7)\n",
    "    output_file = f\"charts/{title}.png\"\n",
    "    plt.savefig(output_file)\n",
    "    plt.show()\n",
    "    plt.close()\n",
    "    return plt\n"
   ]
  },
  {
   "cell_type": "code",
   "execution_count": 16,
   "id": "cebefb15-2a6b-4ccd-b791-2726271a85cf",
   "metadata": {},
   "outputs": [
    {
     "data": {
      "image/png": "[encoded data removed]",
      "text/plain": [
       "<Figure size 800x600 with 1 Axes>"
      ]
     },
     "metadata": {},
     "output_type": "display_data"
    },
    {
     "data": {
      "text/plain": [
       "<module 'matplotlib.pyplot' from '/home/suetboyd/miniconda3/lib/python3.11/site-packages/matplotlib/pyplot.py'>"
      ]
     },
     "execution_count": 16,
     "metadata": {},
     "output_type": "execute_result"
    }
   ],
   "source": [
    "plot_test_kge_histogram(df_summary_A, title = \"Historgram of Test KGE For HUC12 Sub-Watersheds In Test Set A\")"
   ]
  },
  {
   "cell_type": "code",
   "execution_count": 17,
   "id": "019d22f1-7cbd-46cd-95af-65c5279fdca8",
   "metadata": {},
   "outputs": [
    {
     "data": {
      "image/png": "[encoded data removed]",
      "text/plain": [
       "<Figure size 800x600 with 1 Axes>"
      ]
     },
     "metadata": {},
     "output_type": "display_data"
    },
    {
     "data": {
      "text/plain": [
       "<module 'matplotlib.pyplot' from '/home/suetboyd/miniconda3/lib/python3.11/site-packages/matplotlib/pyplot.py'>"
      ]
     },
     "execution_count": 17,
     "metadata": {},
     "output_type": "execute_result"
    }
   ],
   "source": [
    "plot_test_kge_histogram(df_summary_A, title = \"Historgram of Test KGE For HUC12 Sub-Watersheds In Test Set B\")\n"
   ]
  },
  {
   "cell_type": "markdown",
   "id": "ec9134cf-21bc-4943-9d38-f24eb72d2e01",
   "metadata": {},
   "source": [
    "## Step 3 Add in Snow Class Data "
   ]
  },
  {
   "cell_type": "code",
   "execution_count": 12,
   "id": "9c8b3b8b-d4d8-410b-9fa9-e53fe9bb243d",
   "metadata": {},
   "outputs": [],
   "source": [
    "def get_snow_type_data(huc_list): \n",
    "    df_dict = {}\n",
    "    count = 0\n",
    "    time_start = time.time()\n",
    "    input_pairs = [[huc, '12'] for huc in huc_list]\n",
    "    for input_pair in input_pairs: \n",
    "        count += 1\n",
    "        _, _, df_predom = st.process_all(input_pair[0], input_pair[1])\n",
    "        df_dict[input_pair[0]] = df_predom\n",
    "        if count % 20 == 0: \n",
    "            print(f\"Finished processing huc {count} out of {len(huc_list)}\")\n",
    "            du.elapsed(time_start)\n",
    "    print(\"all done\")\n",
    "    return df_dict\n",
    "\n"
   ]
  },
  {
   "cell_type": "code",
   "execution_count": 13,
   "id": "6621144b-0fda-4455-9c6f-7b0b04933be0",
   "metadata": {},
   "outputs": [],
   "source": [
    "def combine_dfs(df_dict): \n",
    "    df_list = []\n",
    "    for huc_id, df in df_dict.items():\n",
    "        df_list.append(df)\n",
    "    df_snow_types = pd.concat(df_list)\n",
    "    df_snow_types = df_snow_types.set_index(\"huc_id\")\n",
    "    df_snow_types = df_snow_types[[\"Predominant_Snow\"]]\n",
    "    df_snow_types[\"color_snow_type\"] = df_snow_types[\"Predominant_Snow\"].map(color_map).fillna(\"white\")\n",
    "    return df_snow_types "
   ]
  },
  {
   "cell_type": "code",
   "execution_count": 14,
   "id": "d5c2ff0b-91bf-46c3-ae05-f25661f0bda8",
   "metadata": {},
   "outputs": [],
   "source": [
    "# Define color mapping\n",
    "color_map = {\n",
    "    \"Ephemeral\": \"blue\",\n",
    "    \"Maritime\": \"yellow\",\n",
    "    \"Montane Forest\": \"orange\"\n",
    "}"
   ]
  },
  {
   "cell_type": "code",
   "execution_count": 15,
   "id": "114b2160-0f70-49c5-b78c-4d9aa3dc6e95",
   "metadata": {},
   "outputs": [
    {
     "ename": "PermissionError",
     "evalue": "The difference between the request time and the current time is too large.",
     "output_type": "error",
     "traceback": [
      "\u001b[0;31m---------------------------------------------------------------------------\u001b[0m",
      "\u001b[0;31mClientError\u001b[0m                               Traceback (most recent call last)",
      "File \u001b[0;32m~/miniconda3/lib/python3.11/site-packages/s3fs/core.py:114\u001b[0m, in \u001b[0;36m_error_wrapper\u001b[0;34m(func, args, kwargs, retries)\u001b[0m\n\u001b[1;32m    113\u001b[0m \u001b[38;5;28;01mtry\u001b[39;00m:\n\u001b[0;32m--> 114\u001b[0m     \u001b[38;5;28;01mreturn\u001b[39;00m \u001b[38;5;28;01mawait\u001b[39;00m func(\u001b[38;5;241m*\u001b[39margs, \u001b[38;5;241m*\u001b[39m\u001b[38;5;241m*\u001b[39mkwargs)\n\u001b[1;32m    115\u001b[0m \u001b[38;5;28;01mexcept\u001b[39;00m S3_RETRYABLE_ERRORS \u001b[38;5;28;01mas\u001b[39;00m e:\n",
      "File \u001b[0;32m~/miniconda3/lib/python3.11/site-packages/aiobotocore/client.py:412\u001b[0m, in \u001b[0;36mAioBaseClient._make_api_call\u001b[0;34m(self, operation_name, api_params)\u001b[0m\n\u001b[1;32m    411\u001b[0m     error_class \u001b[38;5;241m=\u001b[39m \u001b[38;5;28mself\u001b[39m\u001b[38;5;241m.\u001b[39mexceptions\u001b[38;5;241m.\u001b[39mfrom_code(error_code)\n\u001b[0;32m--> 412\u001b[0m     \u001b[38;5;28;01mraise\u001b[39;00m error_class(parsed_response, operation_name)\n\u001b[1;32m    413\u001b[0m \u001b[38;5;28;01melse\u001b[39;00m:\n",
      "\u001b[0;31mClientError\u001b[0m: An error occurred (RequestTimeTooSkewed) when calling the GetObject operation: The difference between the request time and the current time is too large.",
      "\nThe above exception was the direct cause of the following exception:\n",
      "\u001b[0;31mPermissionError\u001b[0m                           Traceback (most recent call last)",
      "Cell \u001b[0;32mIn[15], line 3\u001b[0m\n\u001b[1;32m      1\u001b[0m \u001b[38;5;66;03m# call the functions to append snow types - Test Set A \u001b[39;00m\n\u001b[1;32m      2\u001b[0m hucs_A \u001b[38;5;241m=\u001b[39m \u001b[38;5;28mlist\u001b[39m(df_summary_A\u001b[38;5;241m.\u001b[39mindex)\n\u001b[0;32m----> 3\u001b[0m df_dict_A \u001b[38;5;241m=\u001b[39m get_snow_type_data(hucs_A)\n\u001b[1;32m      4\u001b[0m df_st_A \u001b[38;5;241m=\u001b[39m combine_dfs(df_dict_A)\n\u001b[1;32m      5\u001b[0m \u001b[38;5;28mprint\u001b[39m(df_st_A\u001b[38;5;241m.\u001b[39mshape)\n",
      "Cell \u001b[0;32mIn[12], line 8\u001b[0m, in \u001b[0;36mget_snow_type_data\u001b[0;34m(huc_list)\u001b[0m\n\u001b[1;32m      6\u001b[0m \u001b[38;5;28;01mfor\u001b[39;00m input_pair \u001b[38;5;129;01min\u001b[39;00m input_pairs: \n\u001b[1;32m      7\u001b[0m     count \u001b[38;5;241m+\u001b[39m\u001b[38;5;241m=\u001b[39m \u001b[38;5;241m1\u001b[39m\n\u001b[0;32m----> 8\u001b[0m     _, _, df_predom \u001b[38;5;241m=\u001b[39m st\u001b[38;5;241m.\u001b[39mprocess_all(input_pair[\u001b[38;5;241m0\u001b[39m], input_pair[\u001b[38;5;241m1\u001b[39m])\n\u001b[1;32m      9\u001b[0m     df_dict[input_pair[\u001b[38;5;241m0\u001b[39m]] \u001b[38;5;241m=\u001b[39m df_predom\n\u001b[1;32m     10\u001b[0m     \u001b[38;5;28;01mif\u001b[39;00m count \u001b[38;5;241m%\u001b[39m \u001b[38;5;241m20\u001b[39m \u001b[38;5;241m==\u001b[39m \u001b[38;5;241m0\u001b[39m: \n",
      "File \u001b[0;32m~/Capstone/SnowML/src/snowML/datapipe/snow_types.py:237\u001b[0m, in \u001b[0;36mprocess_all\u001b[0;34m(huc_id, huc_lev, save)\u001b[0m\n\u001b[1;32m    234\u001b[0m \u001b[38;5;28;01mdef\u001b[39;00m \u001b[38;5;21mprocess_all\u001b[39m(huc_id, huc_lev, save \u001b[38;5;241m=\u001b[39m \u001b[38;5;28;01mFalse\u001b[39;00m):\n\u001b[1;32m    235\u001b[0m     \u001b[38;5;66;03m#geos = du.get_basin_geos(f\"Huc{huc_lev}\", huc_id)\u001b[39;00m\n\u001b[1;32m    236\u001b[0m     geos \u001b[38;5;241m=\u001b[39m gg\u001b[38;5;241m.\u001b[39mget_geos(huc_id, huc_lev)\n\u001b[0;32m--> 237\u001b[0m     df_snow_types \u001b[38;5;241m=\u001b[39m snow_class(geos)\n\u001b[1;32m    238\u001b[0m     df_snow_types \u001b[38;5;241m=\u001b[39m display_df(df_snow_types)\n\u001b[1;32m    239\u001b[0m     df_predominant, snow_class_counts \u001b[38;5;241m=\u001b[39m classify_hucs(df_snow_types)\n",
      "File \u001b[0;32m~/Capstone/SnowML/src/snowML/datapipe/snow_types.py:160\u001b[0m, in \u001b[0;36msnow_class\u001b[0;34m(geos)\u001b[0m\n\u001b[1;32m    158\u001b[0m snow_class_names \u001b[38;5;241m=\u001b[39m map_snow_class_names()\n\u001b[1;32m    159\u001b[0m \u001b[38;5;66;03m#ds_conus = get_snow_class_data(geos = None)\u001b[39;00m\n\u001b[0;32m--> 160\u001b[0m ds_conus \u001b[38;5;241m=\u001b[39m snow_class_data_from_s3(geos \u001b[38;5;241m=\u001b[39m \u001b[38;5;28;01mNone\u001b[39;00m)\n\u001b[1;32m    161\u001b[0m \u001b[38;5;28;01mfor\u001b[39;00m i \u001b[38;5;129;01min\u001b[39;00m \u001b[38;5;28mrange\u001b[39m(geos\u001b[38;5;241m.\u001b[39mshape[\u001b[38;5;241m0\u001b[39m]):\n\u001b[1;32m    162\u001b[0m     \u001b[38;5;66;03m#print(f\"processing geos {i+1} of {geos.shape[0]}\")\u001b[39;00m\n\u001b[1;32m    163\u001b[0m     row \u001b[38;5;241m=\u001b[39m geos\u001b[38;5;241m.\u001b[39miloc[[i]]\n",
      "File \u001b[0;32m~/Capstone/SnowML/src/snowML/datapipe/snow_types.py:108\u001b[0m, in \u001b[0;36msnow_class_data_from_s3\u001b[0;34m(geos, bucket_dict)\u001b[0m\n\u001b[1;32m    106\u001b[0m bucket \u001b[38;5;241m=\u001b[39m bucket_dict[\u001b[38;5;124m\"\u001b[39m\u001b[38;5;124mbronze\u001b[39m\u001b[38;5;124m\"\u001b[39m]\n\u001b[1;32m    107\u001b[0m zarr_store_url \u001b[38;5;241m=\u001b[39m \u001b[38;5;124mf\u001b[39m\u001b[38;5;124m'\u001b[39m\u001b[38;5;124ms3://\u001b[39m\u001b[38;5;132;01m{\u001b[39;00mbucket\u001b[38;5;132;01m}\u001b[39;00m\u001b[38;5;124m/snow_class_data.zarr\u001b[39m\u001b[38;5;124m'\u001b[39m\n\u001b[0;32m--> 108\u001b[0m ds_conus \u001b[38;5;241m=\u001b[39m xr\u001b[38;5;241m.\u001b[39mopen_zarr(store\u001b[38;5;241m=\u001b[39mzarr_store_url, consolidated\u001b[38;5;241m=\u001b[39m\u001b[38;5;28;01mTrue\u001b[39;00m)\n\u001b[1;32m    109\u001b[0m ds_conus \u001b[38;5;241m=\u001b[39m ds_conus\u001b[38;5;241m.\u001b[39mrio\u001b[38;5;241m.\u001b[39mwrite_crs(\u001b[38;5;124m\"\u001b[39m\u001b[38;5;124mEPSG:4326\u001b[39m\u001b[38;5;124m\"\u001b[39m)\n\u001b[1;32m    110\u001b[0m ds_conus\u001b[38;5;241m.\u001b[39mclose()\n",
      "File \u001b[0;32m~/miniconda3/lib/python3.11/site-packages/xarray/backends/zarr.py:1491\u001b[0m, in \u001b[0;36mopen_zarr\u001b[0;34m(store, group, synchronizer, chunks, decode_cf, mask_and_scale, decode_times, concat_characters, decode_coords, drop_variables, consolidated, overwrite_encoded_chunks, chunk_store, storage_options, decode_timedelta, use_cftime, zarr_version, zarr_format, use_zarr_fill_value_as_mask, chunked_array_type, from_array_kwargs, **kwargs)\u001b[0m\n\u001b[1;32m   1477\u001b[0m     \u001b[38;5;28;01mraise\u001b[39;00m \u001b[38;5;167;01mTypeError\u001b[39;00m(\n\u001b[1;32m   1478\u001b[0m         \u001b[38;5;124m\"\u001b[39m\u001b[38;5;124mopen_zarr() got unexpected keyword arguments \u001b[39m\u001b[38;5;124m\"\u001b[39m \u001b[38;5;241m+\u001b[39m \u001b[38;5;124m\"\u001b[39m\u001b[38;5;124m,\u001b[39m\u001b[38;5;124m\"\u001b[39m\u001b[38;5;241m.\u001b[39mjoin(kwargs\u001b[38;5;241m.\u001b[39mkeys())\n\u001b[1;32m   1479\u001b[0m     )\n\u001b[1;32m   1481\u001b[0m backend_kwargs \u001b[38;5;241m=\u001b[39m {\n\u001b[1;32m   1482\u001b[0m     \u001b[38;5;124m\"\u001b[39m\u001b[38;5;124msynchronizer\u001b[39m\u001b[38;5;124m\"\u001b[39m: synchronizer,\n\u001b[1;32m   1483\u001b[0m     \u001b[38;5;124m\"\u001b[39m\u001b[38;5;124mconsolidated\u001b[39m\u001b[38;5;124m\"\u001b[39m: consolidated,\n\u001b[0;32m   (...)\u001b[0m\n\u001b[1;32m   1488\u001b[0m     \u001b[38;5;124m\"\u001b[39m\u001b[38;5;124mzarr_format\u001b[39m\u001b[38;5;124m\"\u001b[39m: zarr_format,\n\u001b[1;32m   1489\u001b[0m }\n\u001b[0;32m-> 1491\u001b[0m ds \u001b[38;5;241m=\u001b[39m open_dataset(\n\u001b[1;32m   1492\u001b[0m     filename_or_obj\u001b[38;5;241m=\u001b[39mstore,\n\u001b[1;32m   1493\u001b[0m     group\u001b[38;5;241m=\u001b[39mgroup,\n\u001b[1;32m   1494\u001b[0m     decode_cf\u001b[38;5;241m=\u001b[39mdecode_cf,\n\u001b[1;32m   1495\u001b[0m     mask_and_scale\u001b[38;5;241m=\u001b[39mmask_and_scale,\n\u001b[1;32m   1496\u001b[0m     decode_times\u001b[38;5;241m=\u001b[39mdecode_times,\n\u001b[1;32m   1497\u001b[0m     concat_characters\u001b[38;5;241m=\u001b[39mconcat_characters,\n\u001b[1;32m   1498\u001b[0m     decode_coords\u001b[38;5;241m=\u001b[39mdecode_coords,\n\u001b[1;32m   1499\u001b[0m     engine\u001b[38;5;241m=\u001b[39m\u001b[38;5;124m\"\u001b[39m\u001b[38;5;124mzarr\u001b[39m\u001b[38;5;124m\"\u001b[39m,\n\u001b[1;32m   1500\u001b[0m     chunks\u001b[38;5;241m=\u001b[39mchunks,\n\u001b[1;32m   1501\u001b[0m     drop_variables\u001b[38;5;241m=\u001b[39mdrop_variables,\n\u001b[1;32m   1502\u001b[0m     chunked_array_type\u001b[38;5;241m=\u001b[39mchunked_array_type,\n\u001b[1;32m   1503\u001b[0m     from_array_kwargs\u001b[38;5;241m=\u001b[39mfrom_array_kwargs,\n\u001b[1;32m   1504\u001b[0m     backend_kwargs\u001b[38;5;241m=\u001b[39mbackend_kwargs,\n\u001b[1;32m   1505\u001b[0m     decode_timedelta\u001b[38;5;241m=\u001b[39mdecode_timedelta,\n\u001b[1;32m   1506\u001b[0m     use_cftime\u001b[38;5;241m=\u001b[39muse_cftime,\n\u001b[1;32m   1507\u001b[0m     zarr_version\u001b[38;5;241m=\u001b[39mzarr_version,\n\u001b[1;32m   1508\u001b[0m     use_zarr_fill_value_as_mask\u001b[38;5;241m=\u001b[39muse_zarr_fill_value_as_mask,\n\u001b[1;32m   1509\u001b[0m )\n\u001b[1;32m   1510\u001b[0m \u001b[38;5;28;01mreturn\u001b[39;00m ds\n",
      "File \u001b[0;32m~/miniconda3/lib/python3.11/site-packages/xarray/backends/api.py:679\u001b[0m, in \u001b[0;36mopen_dataset\u001b[0;34m(filename_or_obj, engine, chunks, cache, decode_cf, mask_and_scale, decode_times, decode_timedelta, use_cftime, concat_characters, decode_coords, drop_variables, inline_array, chunked_array_type, from_array_kwargs, backend_kwargs, **kwargs)\u001b[0m\n\u001b[1;32m    667\u001b[0m decoders \u001b[38;5;241m=\u001b[39m _resolve_decoders_kwargs(\n\u001b[1;32m    668\u001b[0m     decode_cf,\n\u001b[1;32m    669\u001b[0m     open_backend_dataset_parameters\u001b[38;5;241m=\u001b[39mbackend\u001b[38;5;241m.\u001b[39mopen_dataset_parameters,\n\u001b[0;32m   (...)\u001b[0m\n\u001b[1;32m    675\u001b[0m     decode_coords\u001b[38;5;241m=\u001b[39mdecode_coords,\n\u001b[1;32m    676\u001b[0m )\n\u001b[1;32m    678\u001b[0m overwrite_encoded_chunks \u001b[38;5;241m=\u001b[39m kwargs\u001b[38;5;241m.\u001b[39mpop(\u001b[38;5;124m\"\u001b[39m\u001b[38;5;124moverwrite_encoded_chunks\u001b[39m\u001b[38;5;124m\"\u001b[39m, \u001b[38;5;28;01mNone\u001b[39;00m)\n\u001b[0;32m--> 679\u001b[0m backend_ds \u001b[38;5;241m=\u001b[39m backend\u001b[38;5;241m.\u001b[39mopen_dataset(\n\u001b[1;32m    680\u001b[0m     filename_or_obj,\n\u001b[1;32m    681\u001b[0m     drop_variables\u001b[38;5;241m=\u001b[39mdrop_variables,\n\u001b[1;32m    682\u001b[0m     \u001b[38;5;241m*\u001b[39m\u001b[38;5;241m*\u001b[39mdecoders,\n\u001b[1;32m    683\u001b[0m     \u001b[38;5;241m*\u001b[39m\u001b[38;5;241m*\u001b[39mkwargs,\n\u001b[1;32m    684\u001b[0m )\n\u001b[1;32m    685\u001b[0m ds \u001b[38;5;241m=\u001b[39m _dataset_from_backend_dataset(\n\u001b[1;32m    686\u001b[0m     backend_ds,\n\u001b[1;32m    687\u001b[0m     filename_or_obj,\n\u001b[0;32m   (...)\u001b[0m\n\u001b[1;32m    697\u001b[0m     \u001b[38;5;241m*\u001b[39m\u001b[38;5;241m*\u001b[39mkwargs,\n\u001b[1;32m    698\u001b[0m )\n\u001b[1;32m    699\u001b[0m \u001b[38;5;28;01mreturn\u001b[39;00m ds\n",
      "File \u001b[0;32m~/miniconda3/lib/python3.11/site-packages/xarray/backends/zarr.py:1564\u001b[0m, in \u001b[0;36mZarrBackendEntrypoint.open_dataset\u001b[0;34m(self, filename_or_obj, mask_and_scale, decode_times, concat_characters, decode_coords, drop_variables, use_cftime, decode_timedelta, group, mode, synchronizer, consolidated, chunk_store, storage_options, zarr_version, zarr_format, store, engine, use_zarr_fill_value_as_mask, cache_members)\u001b[0m\n\u001b[1;32m   1562\u001b[0m filename_or_obj \u001b[38;5;241m=\u001b[39m _normalize_path(filename_or_obj)\n\u001b[1;32m   1563\u001b[0m \u001b[38;5;28;01mif\u001b[39;00m \u001b[38;5;129;01mnot\u001b[39;00m store:\n\u001b[0;32m-> 1564\u001b[0m     store \u001b[38;5;241m=\u001b[39m ZarrStore\u001b[38;5;241m.\u001b[39mopen_group(\n\u001b[1;32m   1565\u001b[0m         filename_or_obj,\n\u001b[1;32m   1566\u001b[0m         group\u001b[38;5;241m=\u001b[39mgroup,\n\u001b[1;32m   1567\u001b[0m         mode\u001b[38;5;241m=\u001b[39mmode,\n\u001b[1;32m   1568\u001b[0m         synchronizer\u001b[38;5;241m=\u001b[39msynchronizer,\n\u001b[1;32m   1569\u001b[0m         consolidated\u001b[38;5;241m=\u001b[39mconsolidated,\n\u001b[1;32m   1570\u001b[0m         consolidate_on_close\u001b[38;5;241m=\u001b[39m\u001b[38;5;28;01mFalse\u001b[39;00m,\n\u001b[1;32m   1571\u001b[0m         chunk_store\u001b[38;5;241m=\u001b[39mchunk_store,\n\u001b[1;32m   1572\u001b[0m         storage_options\u001b[38;5;241m=\u001b[39mstorage_options,\n\u001b[1;32m   1573\u001b[0m         zarr_version\u001b[38;5;241m=\u001b[39mzarr_version,\n\u001b[1;32m   1574\u001b[0m         use_zarr_fill_value_as_mask\u001b[38;5;241m=\u001b[39m\u001b[38;5;28;01mNone\u001b[39;00m,\n\u001b[1;32m   1575\u001b[0m         zarr_format\u001b[38;5;241m=\u001b[39mzarr_format,\n\u001b[1;32m   1576\u001b[0m         cache_members\u001b[38;5;241m=\u001b[39mcache_members,\n\u001b[1;32m   1577\u001b[0m     )\n\u001b[1;32m   1579\u001b[0m store_entrypoint \u001b[38;5;241m=\u001b[39m StoreBackendEntrypoint()\n\u001b[1;32m   1580\u001b[0m \u001b[38;5;28;01mwith\u001b[39;00m close_on_error(store):\n",
      "File \u001b[0;32m~/miniconda3/lib/python3.11/site-packages/xarray/backends/zarr.py:703\u001b[0m, in \u001b[0;36mZarrStore.open_group\u001b[0;34m(cls, store, mode, synchronizer, group, consolidated, consolidate_on_close, chunk_store, storage_options, append_dim, write_region, safe_chunks, zarr_version, zarr_format, use_zarr_fill_value_as_mask, write_empty, cache_members)\u001b[0m\n\u001b[1;32m    678\u001b[0m \u001b[38;5;129m@classmethod\u001b[39m\n\u001b[1;32m    679\u001b[0m \u001b[38;5;28;01mdef\u001b[39;00m \u001b[38;5;21mopen_group\u001b[39m(\n\u001b[1;32m    680\u001b[0m     \u001b[38;5;28mcls\u001b[39m,\n\u001b[0;32m   (...)\u001b[0m\n\u001b[1;32m    696\u001b[0m     cache_members: \u001b[38;5;28mbool\u001b[39m \u001b[38;5;241m=\u001b[39m \u001b[38;5;28;01mTrue\u001b[39;00m,\n\u001b[1;32m    697\u001b[0m ):\n\u001b[1;32m    698\u001b[0m     (\n\u001b[1;32m    699\u001b[0m         zarr_group,\n\u001b[1;32m    700\u001b[0m         consolidate_on_close,\n\u001b[1;32m    701\u001b[0m         close_store_on_close,\n\u001b[1;32m    702\u001b[0m         use_zarr_fill_value_as_mask,\n\u001b[0;32m--> 703\u001b[0m     ) \u001b[38;5;241m=\u001b[39m _get_open_params(\n\u001b[1;32m    704\u001b[0m         store\u001b[38;5;241m=\u001b[39mstore,\n\u001b[1;32m    705\u001b[0m         mode\u001b[38;5;241m=\u001b[39mmode,\n\u001b[1;32m    706\u001b[0m         synchronizer\u001b[38;5;241m=\u001b[39msynchronizer,\n\u001b[1;32m    707\u001b[0m         group\u001b[38;5;241m=\u001b[39mgroup,\n\u001b[1;32m    708\u001b[0m         consolidated\u001b[38;5;241m=\u001b[39mconsolidated,\n\u001b[1;32m    709\u001b[0m         consolidate_on_close\u001b[38;5;241m=\u001b[39mconsolidate_on_close,\n\u001b[1;32m    710\u001b[0m         chunk_store\u001b[38;5;241m=\u001b[39mchunk_store,\n\u001b[1;32m    711\u001b[0m         storage_options\u001b[38;5;241m=\u001b[39mstorage_options,\n\u001b[1;32m    712\u001b[0m         zarr_version\u001b[38;5;241m=\u001b[39mzarr_version,\n\u001b[1;32m    713\u001b[0m         use_zarr_fill_value_as_mask\u001b[38;5;241m=\u001b[39muse_zarr_fill_value_as_mask,\n\u001b[1;32m    714\u001b[0m         zarr_format\u001b[38;5;241m=\u001b[39mzarr_format,\n\u001b[1;32m    715\u001b[0m     )\n\u001b[1;32m    717\u001b[0m     \u001b[38;5;28;01mreturn\u001b[39;00m \u001b[38;5;28mcls\u001b[39m(\n\u001b[1;32m    718\u001b[0m         zarr_group,\n\u001b[1;32m    719\u001b[0m         mode,\n\u001b[0;32m   (...)\u001b[0m\n\u001b[1;32m    727\u001b[0m         cache_members,\n\u001b[1;32m    728\u001b[0m     )\n",
      "File \u001b[0;32m~/miniconda3/lib/python3.11/site-packages/xarray/backends/zarr.py:1786\u001b[0m, in \u001b[0;36m_get_open_params\u001b[0;34m(store, mode, synchronizer, group, consolidated, consolidate_on_close, chunk_store, storage_options, zarr_version, use_zarr_fill_value_as_mask, zarr_format)\u001b[0m\n\u001b[1;32m   1781\u001b[0m             \u001b[38;5;28;01mraise\u001b[39;00m \u001b[38;5;167;01mFileNotFoundError\u001b[39;00m(\n\u001b[1;32m   1782\u001b[0m                 \u001b[38;5;124mf\u001b[39m\u001b[38;5;124m\"\u001b[39m\u001b[38;5;124mNo such file or directory: \u001b[39m\u001b[38;5;124m'\u001b[39m\u001b[38;5;132;01m{\u001b[39;00mstore\u001b[38;5;132;01m}\u001b[39;00m\u001b[38;5;124m'\u001b[39m\u001b[38;5;124m\"\u001b[39m\n\u001b[1;32m   1783\u001b[0m             ) \u001b[38;5;28;01mfrom\u001b[39;00m \u001b[38;5;21;01merr\u001b[39;00m\n\u001b[1;32m   1784\u001b[0m \u001b[38;5;28;01melif\u001b[39;00m consolidated:\n\u001b[1;32m   1785\u001b[0m     \u001b[38;5;66;03m# TODO: an option to pass the metadata_key keyword\u001b[39;00m\n\u001b[0;32m-> 1786\u001b[0m     zarr_group \u001b[38;5;241m=\u001b[39m zarr\u001b[38;5;241m.\u001b[39mopen_consolidated(store, \u001b[38;5;241m*\u001b[39m\u001b[38;5;241m*\u001b[39mopen_kwargs)\n\u001b[1;32m   1787\u001b[0m \u001b[38;5;28;01melse\u001b[39;00m:\n\u001b[1;32m   1788\u001b[0m     \u001b[38;5;28;01mif\u001b[39;00m _zarr_v3():\n\u001b[1;32m   1789\u001b[0m         \u001b[38;5;66;03m# we have determined that we don't want to use consolidated metadata\u001b[39;00m\n\u001b[1;32m   1790\u001b[0m         \u001b[38;5;66;03m# so we set that to False to avoid trying to read it\u001b[39;00m\n",
      "File \u001b[0;32m~/miniconda3/lib/python3.11/site-packages/zarr/api/synchronous.py:212\u001b[0m, in \u001b[0;36mopen_consolidated\u001b[0;34m(use_consolidated, *args, **kwargs)\u001b[0m\n\u001b[1;32m    207\u001b[0m \u001b[38;5;28;01mdef\u001b[39;00m \u001b[38;5;21mopen_consolidated\u001b[39m(\u001b[38;5;241m*\u001b[39margs: Any, use_consolidated: Literal[\u001b[38;5;28;01mTrue\u001b[39;00m] \u001b[38;5;241m=\u001b[39m \u001b[38;5;28;01mTrue\u001b[39;00m, \u001b[38;5;241m*\u001b[39m\u001b[38;5;241m*\u001b[39mkwargs: Any) \u001b[38;5;241m-\u001b[39m\u001b[38;5;241m>\u001b[39m Group:\n\u001b[1;32m    208\u001b[0m \u001b[38;5;250m    \u001b[39m\u001b[38;5;124;03m\"\"\"\u001b[39;00m\n\u001b[1;32m    209\u001b[0m \u001b[38;5;124;03m    Alias for :func:`open_group` with ``use_consolidated=True``.\u001b[39;00m\n\u001b[1;32m    210\u001b[0m \u001b[38;5;124;03m    \"\"\"\u001b[39;00m\n\u001b[1;32m    211\u001b[0m     \u001b[38;5;28;01mreturn\u001b[39;00m Group(\n\u001b[0;32m--> 212\u001b[0m         sync(async_api\u001b[38;5;241m.\u001b[39mopen_consolidated(\u001b[38;5;241m*\u001b[39margs, use_consolidated\u001b[38;5;241m=\u001b[39muse_consolidated, \u001b[38;5;241m*\u001b[39m\u001b[38;5;241m*\u001b[39mkwargs))\n\u001b[1;32m    213\u001b[0m     )\n",
      "File \u001b[0;32m~/miniconda3/lib/python3.11/site-packages/zarr/core/sync.py:142\u001b[0m, in \u001b[0;36msync\u001b[0;34m(coro, loop, timeout)\u001b[0m\n\u001b[1;32m    139\u001b[0m return_result \u001b[38;5;241m=\u001b[39m \u001b[38;5;28mnext\u001b[39m(\u001b[38;5;28miter\u001b[39m(finished))\u001b[38;5;241m.\u001b[39mresult()\n\u001b[1;32m    141\u001b[0m \u001b[38;5;28;01mif\u001b[39;00m \u001b[38;5;28misinstance\u001b[39m(return_result, \u001b[38;5;167;01mBaseException\u001b[39;00m):\n\u001b[0;32m--> 142\u001b[0m     \u001b[38;5;28;01mraise\u001b[39;00m return_result\n\u001b[1;32m    143\u001b[0m \u001b[38;5;28;01melse\u001b[39;00m:\n\u001b[1;32m    144\u001b[0m     \u001b[38;5;28;01mreturn\u001b[39;00m return_result\n",
      "File \u001b[0;32m~/miniconda3/lib/python3.11/site-packages/zarr/core/sync.py:98\u001b[0m, in \u001b[0;36m_runner\u001b[0;34m(coro)\u001b[0m\n\u001b[1;32m     93\u001b[0m \u001b[38;5;250m\u001b[39m\u001b[38;5;124;03m\"\"\"\u001b[39;00m\n\u001b[1;32m     94\u001b[0m \u001b[38;5;124;03mAwait a coroutine and return the result of running it. If awaiting the coroutine raises an\u001b[39;00m\n\u001b[1;32m     95\u001b[0m \u001b[38;5;124;03mexception, the exception will be returned.\u001b[39;00m\n\u001b[1;32m     96\u001b[0m \u001b[38;5;124;03m\"\"\"\u001b[39;00m\n\u001b[1;32m     97\u001b[0m \u001b[38;5;28;01mtry\u001b[39;00m:\n\u001b[0;32m---> 98\u001b[0m     \u001b[38;5;28;01mreturn\u001b[39;00m \u001b[38;5;28;01mawait\u001b[39;00m coro\n\u001b[1;32m     99\u001b[0m \u001b[38;5;28;01mexcept\u001b[39;00m \u001b[38;5;167;01mException\u001b[39;00m \u001b[38;5;28;01mas\u001b[39;00m ex:\n\u001b[1;32m    100\u001b[0m     \u001b[38;5;28;01mreturn\u001b[39;00m ex\n",
      "File \u001b[0;32m~/miniconda3/lib/python3.11/site-packages/zarr/api/asynchronous.py:346\u001b[0m, in \u001b[0;36mopen_consolidated\u001b[0;34m(use_consolidated, *args, **kwargs)\u001b[0m\n\u001b[1;32m    341\u001b[0m \u001b[38;5;28;01mif\u001b[39;00m use_consolidated \u001b[38;5;129;01mis\u001b[39;00m \u001b[38;5;129;01mnot\u001b[39;00m \u001b[38;5;28;01mTrue\u001b[39;00m:\n\u001b[1;32m    342\u001b[0m     \u001b[38;5;28;01mraise\u001b[39;00m \u001b[38;5;167;01mTypeError\u001b[39;00m(\n\u001b[1;32m    343\u001b[0m         \u001b[38;5;124m\"\u001b[39m\u001b[38;5;124m'\u001b[39m\u001b[38;5;124muse_consolidated\u001b[39m\u001b[38;5;124m'\u001b[39m\u001b[38;5;124m must be \u001b[39m\u001b[38;5;124m'\u001b[39m\u001b[38;5;124mTrue\u001b[39m\u001b[38;5;124m'\u001b[39m\u001b[38;5;124m in \u001b[39m\u001b[38;5;124m'\u001b[39m\u001b[38;5;124mopen_consolidated\u001b[39m\u001b[38;5;124m'\u001b[39m\u001b[38;5;124m. Use \u001b[39m\u001b[38;5;124m'\u001b[39m\u001b[38;5;124mopen\u001b[39m\u001b[38;5;124m'\u001b[39m\u001b[38;5;124m with \u001b[39m\u001b[38;5;124m\"\u001b[39m\n\u001b[1;32m    344\u001b[0m         \u001b[38;5;124m\"\u001b[39m\u001b[38;5;124m'\u001b[39m\u001b[38;5;124muse_consolidated=False\u001b[39m\u001b[38;5;124m'\u001b[39m\u001b[38;5;124m to bypass consolidated metadata.\u001b[39m\u001b[38;5;124m\"\u001b[39m\n\u001b[1;32m    345\u001b[0m     )\n\u001b[0;32m--> 346\u001b[0m \u001b[38;5;28;01mreturn\u001b[39;00m \u001b[38;5;28;01mawait\u001b[39;00m open_group(\u001b[38;5;241m*\u001b[39margs, use_consolidated\u001b[38;5;241m=\u001b[39muse_consolidated, \u001b[38;5;241m*\u001b[39m\u001b[38;5;241m*\u001b[39mkwargs)\n",
      "File \u001b[0;32m~/miniconda3/lib/python3.11/site-packages/zarr/api/asynchronous.py:807\u001b[0m, in \u001b[0;36mopen_group\u001b[0;34m(store, mode, cache_attrs, synchronizer, path, chunk_store, storage_options, zarr_version, zarr_format, meta_array, attributes, use_consolidated)\u001b[0m\n\u001b[1;32m    805\u001b[0m \u001b[38;5;28;01mtry\u001b[39;00m:\n\u001b[1;32m    806\u001b[0m     \u001b[38;5;28;01mif\u001b[39;00m mode \u001b[38;5;129;01min\u001b[39;00m _READ_MODES:\n\u001b[0;32m--> 807\u001b[0m         \u001b[38;5;28;01mreturn\u001b[39;00m \u001b[38;5;28;01mawait\u001b[39;00m AsyncGroup\u001b[38;5;241m.\u001b[39mopen(\n\u001b[1;32m    808\u001b[0m             store_path, zarr_format\u001b[38;5;241m=\u001b[39mzarr_format, use_consolidated\u001b[38;5;241m=\u001b[39muse_consolidated\n\u001b[1;32m    809\u001b[0m         )\n\u001b[1;32m    810\u001b[0m \u001b[38;5;28;01mexcept\u001b[39;00m (\u001b[38;5;167;01mKeyError\u001b[39;00m, \u001b[38;5;167;01mFileNotFoundError\u001b[39;00m):\n\u001b[1;32m    811\u001b[0m     \u001b[38;5;28;01mpass\u001b[39;00m\n",
      "File \u001b[0;32m~/miniconda3/lib/python3.11/site-packages/zarr/core/group.py:509\u001b[0m, in \u001b[0;36mAsyncGroup.open\u001b[0;34m(cls, store, zarr_format, use_consolidated)\u001b[0m\n\u001b[1;32m    502\u001b[0m         \u001b[38;5;28;01mraise\u001b[39;00m \u001b[38;5;167;01mFileNotFoundError\u001b[39;00m(store_path)\n\u001b[1;32m    503\u001b[0m \u001b[38;5;28;01melif\u001b[39;00m zarr_format \u001b[38;5;129;01mis\u001b[39;00m \u001b[38;5;28;01mNone\u001b[39;00m:\n\u001b[1;32m    504\u001b[0m     (\n\u001b[1;32m    505\u001b[0m         zarr_json_bytes,\n\u001b[1;32m    506\u001b[0m         zgroup_bytes,\n\u001b[1;32m    507\u001b[0m         zattrs_bytes,\n\u001b[1;32m    508\u001b[0m         maybe_consolidated_metadata_bytes,\n\u001b[0;32m--> 509\u001b[0m     ) \u001b[38;5;241m=\u001b[39m \u001b[38;5;28;01mawait\u001b[39;00m asyncio\u001b[38;5;241m.\u001b[39mgather(\n\u001b[1;32m    510\u001b[0m         (store_path \u001b[38;5;241m/\u001b[39m ZARR_JSON)\u001b[38;5;241m.\u001b[39mget(),\n\u001b[1;32m    511\u001b[0m         (store_path \u001b[38;5;241m/\u001b[39m ZGROUP_JSON)\u001b[38;5;241m.\u001b[39mget(),\n\u001b[1;32m    512\u001b[0m         (store_path \u001b[38;5;241m/\u001b[39m ZATTRS_JSON)\u001b[38;5;241m.\u001b[39mget(),\n\u001b[1;32m    513\u001b[0m         (store_path \u001b[38;5;241m/\u001b[39m \u001b[38;5;28mstr\u001b[39m(consolidated_key))\u001b[38;5;241m.\u001b[39mget(),\n\u001b[1;32m    514\u001b[0m     )\n\u001b[1;32m    515\u001b[0m     \u001b[38;5;28;01mif\u001b[39;00m zarr_json_bytes \u001b[38;5;129;01mis\u001b[39;00m \u001b[38;5;129;01mnot\u001b[39;00m \u001b[38;5;28;01mNone\u001b[39;00m \u001b[38;5;129;01mand\u001b[39;00m zgroup_bytes \u001b[38;5;129;01mis\u001b[39;00m \u001b[38;5;129;01mnot\u001b[39;00m \u001b[38;5;28;01mNone\u001b[39;00m:\n\u001b[1;32m    516\u001b[0m         \u001b[38;5;66;03m# warn and favor v3\u001b[39;00m\n\u001b[1;32m    517\u001b[0m         msg \u001b[38;5;241m=\u001b[39m \u001b[38;5;124mf\u001b[39m\u001b[38;5;124m\"\u001b[39m\u001b[38;5;124mBoth zarr.json (Zarr format 3) and .zgroup (Zarr format 2) metadata objects exist at \u001b[39m\u001b[38;5;132;01m{\u001b[39;00mstore_path\u001b[38;5;132;01m}\u001b[39;00m\u001b[38;5;124m. Zarr format 3 will be used.\u001b[39m\u001b[38;5;124m\"\u001b[39m\n",
      "File \u001b[0;32m~/miniconda3/lib/python3.11/site-packages/zarr/storage/_common.py:124\u001b[0m, in \u001b[0;36mStorePath.get\u001b[0;34m(self, prototype, byte_range)\u001b[0m\n\u001b[1;32m    122\u001b[0m \u001b[38;5;28;01mif\u001b[39;00m prototype \u001b[38;5;129;01mis\u001b[39;00m \u001b[38;5;28;01mNone\u001b[39;00m:\n\u001b[1;32m    123\u001b[0m     prototype \u001b[38;5;241m=\u001b[39m default_buffer_prototype()\n\u001b[0;32m--> 124\u001b[0m \u001b[38;5;28;01mreturn\u001b[39;00m \u001b[38;5;28;01mawait\u001b[39;00m \u001b[38;5;28mself\u001b[39m\u001b[38;5;241m.\u001b[39mstore\u001b[38;5;241m.\u001b[39mget(\u001b[38;5;28mself\u001b[39m\u001b[38;5;241m.\u001b[39mpath, prototype\u001b[38;5;241m=\u001b[39mprototype, byte_range\u001b[38;5;241m=\u001b[39mbyte_range)\n",
      "File \u001b[0;32m~/miniconda3/lib/python3.11/site-packages/zarr/storage/_fsspec.py:217\u001b[0m, in \u001b[0;36mFsspecStore.get\u001b[0;34m(self, key, prototype, byte_range)\u001b[0m\n\u001b[1;32m    215\u001b[0m \u001b[38;5;28;01mtry\u001b[39;00m:\n\u001b[1;32m    216\u001b[0m     \u001b[38;5;28;01mif\u001b[39;00m byte_range \u001b[38;5;129;01mis\u001b[39;00m \u001b[38;5;28;01mNone\u001b[39;00m:\n\u001b[0;32m--> 217\u001b[0m         value \u001b[38;5;241m=\u001b[39m prototype\u001b[38;5;241m.\u001b[39mbuffer\u001b[38;5;241m.\u001b[39mfrom_bytes(\u001b[38;5;28;01mawait\u001b[39;00m \u001b[38;5;28mself\u001b[39m\u001b[38;5;241m.\u001b[39mfs\u001b[38;5;241m.\u001b[39m_cat_file(path))\n\u001b[1;32m    218\u001b[0m     \u001b[38;5;28;01melif\u001b[39;00m \u001b[38;5;28misinstance\u001b[39m(byte_range, RangeByteRequest):\n\u001b[1;32m    219\u001b[0m         value \u001b[38;5;241m=\u001b[39m prototype\u001b[38;5;241m.\u001b[39mbuffer\u001b[38;5;241m.\u001b[39mfrom_bytes(\n\u001b[1;32m    220\u001b[0m             \u001b[38;5;28;01mawait\u001b[39;00m \u001b[38;5;28mself\u001b[39m\u001b[38;5;241m.\u001b[39mfs\u001b[38;5;241m.\u001b[39m_cat_file(\n\u001b[1;32m    221\u001b[0m                 path,\n\u001b[0;32m   (...)\u001b[0m\n\u001b[1;32m    224\u001b[0m             )\n\u001b[1;32m    225\u001b[0m         )\n",
      "File \u001b[0;32m~/miniconda3/lib/python3.11/site-packages/s3fs/core.py:1134\u001b[0m, in \u001b[0;36mS3FileSystem._cat_file\u001b[0;34m(self, path, version_id, start, end)\u001b[0m\n\u001b[1;32m   1131\u001b[0m     \u001b[38;5;28;01mfinally\u001b[39;00m:\n\u001b[1;32m   1132\u001b[0m         resp[\u001b[38;5;124m\"\u001b[39m\u001b[38;5;124mBody\u001b[39m\u001b[38;5;124m\"\u001b[39m]\u001b[38;5;241m.\u001b[39mclose()\n\u001b[0;32m-> 1134\u001b[0m \u001b[38;5;28;01mreturn\u001b[39;00m \u001b[38;5;28;01mawait\u001b[39;00m _error_wrapper(_call_and_read, retries\u001b[38;5;241m=\u001b[39m\u001b[38;5;28mself\u001b[39m\u001b[38;5;241m.\u001b[39mretries)\n",
      "File \u001b[0;32m~/miniconda3/lib/python3.11/site-packages/s3fs/core.py:146\u001b[0m, in \u001b[0;36m_error_wrapper\u001b[0;34m(func, args, kwargs, retries)\u001b[0m\n\u001b[1;32m    144\u001b[0m         err \u001b[38;5;241m=\u001b[39m e\n\u001b[1;32m    145\u001b[0m err \u001b[38;5;241m=\u001b[39m translate_boto_error(err)\n\u001b[0;32m--> 146\u001b[0m \u001b[38;5;28;01mraise\u001b[39;00m err\n",
      "File \u001b[0;32m~/miniconda3/lib/python3.11/site-packages/s3fs/core.py:114\u001b[0m, in \u001b[0;36m_error_wrapper\u001b[0;34m(func, args, kwargs, retries)\u001b[0m\n\u001b[1;32m    112\u001b[0m \u001b[38;5;28;01mfor\u001b[39;00m i \u001b[38;5;129;01min\u001b[39;00m \u001b[38;5;28mrange\u001b[39m(retries):\n\u001b[1;32m    113\u001b[0m     \u001b[38;5;28;01mtry\u001b[39;00m:\n\u001b[0;32m--> 114\u001b[0m         \u001b[38;5;28;01mreturn\u001b[39;00m \u001b[38;5;28;01mawait\u001b[39;00m func(\u001b[38;5;241m*\u001b[39margs, \u001b[38;5;241m*\u001b[39m\u001b[38;5;241m*\u001b[39mkwargs)\n\u001b[1;32m    115\u001b[0m     \u001b[38;5;28;01mexcept\u001b[39;00m S3_RETRYABLE_ERRORS \u001b[38;5;28;01mas\u001b[39;00m e:\n\u001b[1;32m    116\u001b[0m         err \u001b[38;5;241m=\u001b[39m e\n",
      "File \u001b[0;32m~/miniconda3/lib/python3.11/site-packages/s3fs/core.py:1121\u001b[0m, in \u001b[0;36mS3FileSystem._cat_file.<locals>._call_and_read\u001b[0;34m()\u001b[0m\n\u001b[1;32m   1120\u001b[0m \u001b[38;5;28;01masync\u001b[39;00m \u001b[38;5;28;01mdef\u001b[39;00m \u001b[38;5;21m_call_and_read\u001b[39m():\n\u001b[0;32m-> 1121\u001b[0m     resp \u001b[38;5;241m=\u001b[39m \u001b[38;5;28;01mawait\u001b[39;00m \u001b[38;5;28mself\u001b[39m\u001b[38;5;241m.\u001b[39m_call_s3(\n\u001b[1;32m   1122\u001b[0m         \u001b[38;5;124m\"\u001b[39m\u001b[38;5;124mget_object\u001b[39m\u001b[38;5;124m\"\u001b[39m,\n\u001b[1;32m   1123\u001b[0m         Bucket\u001b[38;5;241m=\u001b[39mbucket,\n\u001b[1;32m   1124\u001b[0m         Key\u001b[38;5;241m=\u001b[39mkey,\n\u001b[1;32m   1125\u001b[0m         \u001b[38;5;241m*\u001b[39m\u001b[38;5;241m*\u001b[39mversion_id_kw(version_id \u001b[38;5;129;01mor\u001b[39;00m vers),\n\u001b[1;32m   1126\u001b[0m         \u001b[38;5;241m*\u001b[39m\u001b[38;5;241m*\u001b[39mhead,\n\u001b[1;32m   1127\u001b[0m         \u001b[38;5;241m*\u001b[39m\u001b[38;5;241m*\u001b[39m\u001b[38;5;28mself\u001b[39m\u001b[38;5;241m.\u001b[39mreq_kw,\n\u001b[1;32m   1128\u001b[0m     )\n\u001b[1;32m   1129\u001b[0m     \u001b[38;5;28;01mtry\u001b[39;00m:\n\u001b[1;32m   1130\u001b[0m         \u001b[38;5;28;01mreturn\u001b[39;00m \u001b[38;5;28;01mawait\u001b[39;00m resp[\u001b[38;5;124m\"\u001b[39m\u001b[38;5;124mBody\u001b[39m\u001b[38;5;124m\"\u001b[39m]\u001b[38;5;241m.\u001b[39mread()\n",
      "File \u001b[0;32m~/miniconda3/lib/python3.11/site-packages/s3fs/core.py:371\u001b[0m, in \u001b[0;36mS3FileSystem._call_s3\u001b[0;34m(self, method, *akwarglist, **kwargs)\u001b[0m\n\u001b[1;32m    369\u001b[0m logger\u001b[38;5;241m.\u001b[39mdebug(\u001b[38;5;124m\"\u001b[39m\u001b[38;5;124mCALL: \u001b[39m\u001b[38;5;132;01m%s\u001b[39;00m\u001b[38;5;124m - \u001b[39m\u001b[38;5;132;01m%s\u001b[39;00m\u001b[38;5;124m - \u001b[39m\u001b[38;5;132;01m%s\u001b[39;00m\u001b[38;5;124m\"\u001b[39m, method\u001b[38;5;241m.\u001b[39m\u001b[38;5;18m__name__\u001b[39m, akwarglist, kw2)\n\u001b[1;32m    370\u001b[0m additional_kwargs \u001b[38;5;241m=\u001b[39m \u001b[38;5;28mself\u001b[39m\u001b[38;5;241m.\u001b[39m_get_s3_method_kwargs(method, \u001b[38;5;241m*\u001b[39makwarglist, \u001b[38;5;241m*\u001b[39m\u001b[38;5;241m*\u001b[39mkwargs)\n\u001b[0;32m--> 371\u001b[0m \u001b[38;5;28;01mreturn\u001b[39;00m \u001b[38;5;28;01mawait\u001b[39;00m _error_wrapper(\n\u001b[1;32m    372\u001b[0m     method, kwargs\u001b[38;5;241m=\u001b[39madditional_kwargs, retries\u001b[38;5;241m=\u001b[39m\u001b[38;5;28mself\u001b[39m\u001b[38;5;241m.\u001b[39mretries\n\u001b[1;32m    373\u001b[0m )\n",
      "File \u001b[0;32m~/miniconda3/lib/python3.11/site-packages/s3fs/core.py:146\u001b[0m, in \u001b[0;36m_error_wrapper\u001b[0;34m(func, args, kwargs, retries)\u001b[0m\n\u001b[1;32m    144\u001b[0m         err \u001b[38;5;241m=\u001b[39m e\n\u001b[1;32m    145\u001b[0m err \u001b[38;5;241m=\u001b[39m translate_boto_error(err)\n\u001b[0;32m--> 146\u001b[0m \u001b[38;5;28;01mraise\u001b[39;00m err\n",
      "\u001b[0;31mPermissionError\u001b[0m: The difference between the request time and the current time is too large."
     ]
    }
   ],
   "source": [
    "# call the functions to append snow types - Test Set A \n",
    "hucs_A = list(df_summary_A.index)\n",
    "df_dict_A = get_snow_type_data(hucs_A)\n",
    "df_st_A = combine_dfs(df_dict_A)\n",
    "print(df_st_A.shape)\n",
    "df_st_A.head(2)\n",
    "df_merged_A = df_st_A.merge(df_summary_A, left_index=True, right_index=True)\n",
    "\n"
   ]
  },
  {
   "cell_type": "code",
   "execution_count": null,
   "id": "8a62fa1e-e76a-49ce-afd4-be53bd4dffc3",
   "metadata": {},
   "outputs": [],
   "source": [
    "# repeat for Test Set B \n",
    "hucs_B = list(df_summary_B.index)\n",
    "df_dict_B = get_snow_type_data(hucs_B)\n",
    "df_st_B = combine_dfs(df_dict_B)\n",
    "print(df_st_B.shape)\n",
    "df_st_B.head(2)\n",
    "df_merged_B = df_st_B.merge(df_summary_B, left_index=True, right_index=True)"
   ]
  },
  {
   "cell_type": "code",
   "execution_count": null,
   "id": "422c407a-734f-47ee-86bb-62fa0f51bde1",
   "metadata": {},
   "outputs": [],
   "source": [
    "# Step 5 Add in Basin Geometries & Mean elevation "
   ]
  },
  {
   "cell_type": "code",
   "execution_count": null,
   "id": "c15db48b-155a-4005-be33-94601cefd988",
   "metadata": {},
   "outputs": [],
   "source": [
    "def add_geos_and_dem(df): \n",
    "    time_start = time.time()\n",
    "    count = 0 \n",
    "    results = df.copy()\n",
    "    for huc_id in list(df.index):\n",
    "        count += 1\n",
    "        geos = gg.get_geos_with_name(huc_id, '12')\n",
    "        #print(geos.iloc[0][\"name\"])\n",
    "        results.loc[results.index == huc_id, \"Name\"] = geos.iloc[0][\"name\"]\n",
    "        results.loc[results.index == huc_id, \"geometry\"] = geos.iloc[0][\"geometry\"]\n",
    "        dem_ds = gd.get_dem(geos)\n",
    "        #print(\"done getting dem\")\n",
    "        mean_elev = gd.calc_mean_dem(dem_ds)\n",
    "        results.loc[results.index == huc_id, \"mean_elevation\"] = mean_elev\n",
    "        if  count % 10 == 0: \n",
    "            print(f\"finished processing huc {count} out of {len(df.index)}\")\n",
    "            du.elapsed(time_start)\n",
    "    results_gdf = gpd.GeoDataFrame(results, geometry=\"geometry\")\n",
    "    results_gdf.set_crs(\"EPSG:4326\", inplace=True) \n",
    "    col_to_kp = [\"Name\", \"Test MSE\", \"Test KGE\", \"Test_R2\", \"Predominant_Snow\", \"color_snow_type\", \"mean_elevation\", \"geometry\"]\n",
    "    return results_gdf[col_to_kp]\n",
    "        "
   ]
  },
  {
   "cell_type": "code",
   "execution_count": null,
   "id": "2a046d2d-e943-4f1f-a31f-611a2dc9a865",
   "metadata": {},
   "outputs": [],
   "source": [
    "gdf_A = add_geos_and_dem(df_merged_A)\n",
    "gdf_A.head(2)"
   ]
  },
  {
   "cell_type": "code",
   "execution_count": null,
   "id": "519f6965-65c8-4550-aacf-7392b1bb0dcb",
   "metadata": {},
   "outputs": [],
   "source": [
    "gdf_B = add_geos_and_dem(df_merged_B)\n",
    "gdf_B.head(2)"
   ]
  },
  {
   "cell_type": "code",
   "execution_count": null,
   "id": "b6101a31-27d6-4228-90ef-b175bc5ad578",
   "metadata": {},
   "outputs": [],
   "source": [
    "gdf_A.explore(color=gdf_A['color_snow_type'], legend=True)"
   ]
  },
  {
   "cell_type": "code",
   "execution_count": null,
   "id": "0fc6fc60-5c0d-4022-b185-48a571f5048e",
   "metadata": {},
   "outputs": [],
   "source": [
    "gdf_B.explore(color=gdf_B['color_snow_type'], legend=True)"
   ]
  },
  {
   "cell_type": "code",
   "execution_count": null,
   "id": "341be1f5-35c1-4143-86bf-10301cc6ca98",
   "metadata": {},
   "outputs": [],
   "source": [
    "# Step 7 - Add an elevation categorization "
   ]
  },
  {
   "cell_type": "code",
   "execution_count": null,
   "id": "7bfd2312-1031-4bde-bad9-aad4228df2b9",
   "metadata": {},
   "outputs": [],
   "source": [
    "# Define the bins and corresponding labels\n",
    "bins = [0, 500, 1000, 1500, 2000, float('inf')]\n",
    "labels = ['low', 'lower mid', 'mid', 'upper mid', 'high']"
   ]
  },
  {
   "cell_type": "code",
   "execution_count": null,
   "id": "ed8ba245-9816-4a04-a6e7-4b7443f5d2ba",
   "metadata": {},
   "outputs": [],
   "source": [
    "# Create the new column 'Elevation Category' based on 'mean_elevation'\n",
    "gdf_A['Elevation Category'] = pd.cut(gdf_A['mean_elevation'], bins=bins, labels=labels, right=False)\n",
    "gdf_A.head(2)\n"
   ]
  },
  {
   "cell_type": "code",
   "execution_count": null,
   "id": "8571fc75-16bf-44de-9faa-76d45bef7f94",
   "metadata": {},
   "outputs": [],
   "source": [
    "# Repeat for Test Set B \n",
    "# Create the new column 'Elevation Category' based on 'mean_elevation'\n",
    "gdf_B['Elevation Category'] = pd.cut(gdf_B['mean_elevation'], bins=bins, labels=labels, right=False)\n",
    "gdf_B.head(2)"
   ]
  },
  {
   "cell_type": "code",
   "execution_count": null,
   "id": "406905fb-e153-42ea-a55e-b954b40b6461",
   "metadata": {},
   "outputs": [],
   "source": [
    "# Step Last Save Files"
   ]
  },
  {
   "cell_type": "code",
   "execution_count": null,
   "id": "6f67ac5a-d8a1-4936-a451-8c638b64eccb",
   "metadata": {},
   "outputs": [],
   "source": [
    "# save the combined data to a local_file\n",
    "f_A = \"TestA__metrics_w_snow_types_and_elev.csv\"\n",
    "gdf_A.to_csv(f_A, index = True)\n",
    "f_B = \"TestB__metrics_w_snow_types_and_elev.csv\"\n",
    "gdf_B.to_csv(f_B, index = True)"
   ]
  },
  {
   "cell_type": "code",
   "execution_count": null,
   "id": "688adfd3-1ca7-40a6-9905-84a0fe37f673",
   "metadata": {},
   "outputs": [],
   "source": []
  }
 ],
 "metadata": {
  "kernelspec": {
   "display_name": "Python 3 (ipykernel)",
   "language": "python",
   "name": "python3"
  },
  "language_info": {
   "codemirror_mode": {
    "name": "ipython",
    "version": 3
   },
   "file_extension": ".py",
   "mimetype": "text/x-python",
   "name": "python",
   "nbconvert_exporter": "python",
   "pygments_lexer": "ipython3",
   "version": "3.11.8"
  }
 },
 "nbformat": 4,
 "nbformat_minor": 5
}
