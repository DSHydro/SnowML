{
 "cells": [
  {
   "cell_type": "markdown",
   "id": "40c7cd88-c6f2-49c0-a317-1ae3e07266d7",
   "metadata": {},
   "source": [
    "# Notebook to Investigate LSTM Performance Variance by Huc Type - Assemble Metrics And Data for Test Sets"
   ]
  },
  {
   "cell_type": "markdown",
   "id": "e190667a-9b99-44c4-87a8-8d36f8bea340",
   "metadata": {},
   "source": [
    "# Step 0 - Set up Notebook"
   ]
  },
  {
   "cell_type": "code",
   "execution_count": 1,
   "id": "bef22fa2-0a8e-4982-bd09-bdb98e4d848c",
   "metadata": {},
   "outputs": [],
   "source": [
    "# import needed libaries\n",
    "import os\n",
    "import boto3\n",
    "import mlflow\n",
    "import time\n",
    "from PIL import Image\n",
    "import pandas as pd\n",
    "import geopandas as gpd\n",
    "import matplotlib.pyplot as plt\n",
    "import seaborn as sns\n",
    "import numpy as np\n",
    "from snowML.datapipe import snow_types as st\n",
    "from snowML.datapipe import get_geos as gg\n",
    "from snowML.datapipe import data_utils as du\n",
    "from snowML.datapipe import get_dem as gd\n",
    "from snowML.viz import download_metrics as dm"
   ]
  },
  {
   "cell_type": "code",
   "execution_count": 2,
   "id": "a97c2faf-fcda-42d0-9120-0eacc9073064",
   "metadata": {},
   "outputs": [
    {
     "data": {
      "text/plain": [
       "True"
      ]
     },
     "execution_count": 2,
     "metadata": {},
     "output_type": "execute_result"
    }
   ],
   "source": [
    "# initialize erathengine credentials\n",
    "import ee\n",
    "ee.Authenticate()"
   ]
  },
  {
   "cell_type": "markdown",
   "id": "06deed74-0fac-4b31-8687-14affeefeccc",
   "metadata": {},
   "source": [
    "# Step1 - Get MLFlow Metrics"
   ]
  },
  {
   "cell_type": "code",
   "execution_count": 3,
   "id": "f56f849d-2653-497f-a35e-f218e4cd500a",
   "metadata": {},
   "outputs": [],
   "source": [
    "# function to extract only a specific metric\n",
    "def extract_metric(df, metric_name):\n",
    "    \"\"\"Extracts rows where the Metric column ends with 'metric_name' and returns only Metric and Value columns.\"\"\"\n",
    "    return df[df['Metric'].str.endswith(metric_name)][['Metric', 'Value']].sort_values(by='Metric')"
   ]
  },
  {
   "cell_type": "code",
   "execution_count": 4,
   "id": "5516a464-ebce-40ee-9461-f1cd6fed5382",
   "metadata": {},
   "outputs": [],
   "source": [
    "# function to extract data from a given epoch \n",
    "def summarize_by_step(df, step, agg_lev = 12):\n",
    "    df_filtered = df[df[\"Step\"] == step].copy()\n",
    "    df_filtered[\"Metric_Type\"] = df_filtered[\"Metric\"].str.extract(r\"(test_mse|test_kge|test_r2)\")\n",
    "    df_filtered[\"HUC_ID\"] = df_filtered[\"Metric\"].str.extract(fr\"(\\d{{{agg_lev}}})\")  \n",
    "    df_pivot = df_filtered.pivot(index=\"HUC_ID\", columns=\"Metric_Type\", values=\"Value\")\n",
    "    df_pivot.columns = [\"Test KGE\", \"Test MSE\", \"Test_R2\"]\n",
    "    df_pivot_sorted = df_pivot.sort_index()\n",
    "    df_selected = df_pivot_sorted[[\"Test MSE\", \"Test KGE\", \"Test_R2\"]]\n",
    "    # print(df_selected)\n",
    "    return df_selected"
   ]
  },
  {
   "cell_type": "code",
   "execution_count": 5,
   "id": "72f9cff8-9dd6-4f87-a22f-e7fe7268ae88",
   "metadata": {},
   "outputs": [
    {
     "name": "stdout",
     "output_type": "stream",
     "text": [
      "{'Test_Set_A': 'ccc1af0a3007412bb23cbd4a7cb0d431', 'Test_Set_B': '148f7dddc0814c4f86bb93edbc425c4c'}\n"
     ]
    }
   ],
   "source": [
    "# create a dictionary of run_ids \n",
    "run_dict = dm.create_run_dict_Ex3Eval()\n",
    "print(run_dict)"
   ]
  },
  {
   "cell_type": "code",
   "execution_count": 6,
   "id": "4308c17e-a34b-4f1c-95d4-29d09825f5ba",
   "metadata": {},
   "outputs": [],
   "source": [
    "# create a dictionary of dataframes corresponding to the run_id shortname uploading from local files \n",
    "df_dict = {}\n",
    "for key in run_dict.keys(): \n",
    "    run_id = run_dict[key]\n",
    "    file = f\"../../data/run_id_data/metrics_from_{run_id}.csv\"\n",
    "    df_metrics = pd.read_csv(file)\n",
    "    #print(df_metrics.shape)\n",
    "    df_dict[key] = df_metrics"
   ]
  },
  {
   "cell_type": "code",
   "execution_count": 7,
   "id": "a6537ff3-566c-43cb-a0be-544abb8d8152",
   "metadata": {},
   "outputs": [
    {
     "data": {
      "text/html": [
       "<div>\n",
       "<style scoped>\n",
       "    .dataframe tbody tr th:only-of-type {\n",
       "        vertical-align: middle;\n",
       "    }\n",
       "\n",
       "    .dataframe tbody tr th {\n",
       "        vertical-align: top;\n",
       "    }\n",
       "\n",
       "    .dataframe thead th {\n",
       "        text-align: right;\n",
       "    }\n",
       "</style>\n",
       "<table border=\"1\" class=\"dataframe\">\n",
       "  <thead>\n",
       "    <tr style=\"text-align: right;\">\n",
       "      <th></th>\n",
       "      <th>Test MSE</th>\n",
       "      <th>Test KGE</th>\n",
       "      <th>Test_R2</th>\n",
       "    </tr>\n",
       "    <tr>\n",
       "      <th>HUC_ID</th>\n",
       "      <th></th>\n",
       "      <th></th>\n",
       "      <th></th>\n",
       "    </tr>\n",
       "  </thead>\n",
       "  <tbody>\n",
       "    <tr>\n",
       "      <th>170103020201</th>\n",
       "      <td>0.001897</td>\n",
       "      <td>0.841758</td>\n",
       "      <td>0.924090</td>\n",
       "    </tr>\n",
       "    <tr>\n",
       "      <th>170103020301</th>\n",
       "      <td>0.000845</td>\n",
       "      <td>0.924311</td>\n",
       "      <td>0.917509</td>\n",
       "    </tr>\n",
       "  </tbody>\n",
       "</table>\n",
       "</div>"
      ],
      "text/plain": [
       "              Test MSE  Test KGE   Test_R2\n",
       "HUC_ID                                    \n",
       "170103020201  0.001897  0.841758  0.924090\n",
       "170103020301  0.000845  0.924311  0.917509"
      ]
     },
     "execution_count": 7,
     "metadata": {},
     "output_type": "execute_result"
    }
   ],
   "source": [
    "# summarize results Test Set A \n",
    "df_metrics_A = df_dict[\"Test_Set_A\"]\n",
    "df_summary_A = summarize_by_step(df_metrics_A, 0)\n",
    "df_summary_A.head(2)"
   ]
  },
  {
   "cell_type": "code",
   "execution_count": 16,
   "id": "8bfb89c6-5215-4876-8c7f-c845de2c526a",
   "metadata": {},
   "outputs": [
    {
     "data": {
      "text/html": [
       "<div>\n",
       "<style scoped>\n",
       "    .dataframe tbody tr th:only-of-type {\n",
       "        vertical-align: middle;\n",
       "    }\n",
       "\n",
       "    .dataframe tbody tr th {\n",
       "        vertical-align: top;\n",
       "    }\n",
       "\n",
       "    .dataframe thead th {\n",
       "        text-align: right;\n",
       "    }\n",
       "</style>\n",
       "<table border=\"1\" class=\"dataframe\">\n",
       "  <thead>\n",
       "    <tr style=\"text-align: right;\">\n",
       "      <th></th>\n",
       "      <th>Test MSE</th>\n",
       "      <th>Test KGE</th>\n",
       "      <th>Test_R2</th>\n",
       "    </tr>\n",
       "  </thead>\n",
       "  <tbody>\n",
       "    <tr>\n",
       "      <th>count</th>\n",
       "      <td>54.000000</td>\n",
       "      <td>54.000000</td>\n",
       "      <td>54.000000</td>\n",
       "    </tr>\n",
       "    <tr>\n",
       "      <th>mean</th>\n",
       "      <td>0.007387</td>\n",
       "      <td>0.723357</td>\n",
       "      <td>0.820370</td>\n",
       "    </tr>\n",
       "    <tr>\n",
       "      <th>std</th>\n",
       "      <td>0.012596</td>\n",
       "      <td>0.311120</td>\n",
       "      <td>0.372874</td>\n",
       "    </tr>\n",
       "    <tr>\n",
       "      <th>min</th>\n",
       "      <td>0.000522</td>\n",
       "      <td>-0.614623</td>\n",
       "      <td>-1.173180</td>\n",
       "    </tr>\n",
       "    <tr>\n",
       "      <th>25%</th>\n",
       "      <td>0.001691</td>\n",
       "      <td>0.635164</td>\n",
       "      <td>0.846439</td>\n",
       "    </tr>\n",
       "    <tr>\n",
       "      <th>50%</th>\n",
       "      <td>0.004524</td>\n",
       "      <td>0.845155</td>\n",
       "      <td>0.931609</td>\n",
       "    </tr>\n",
       "    <tr>\n",
       "      <th>75%</th>\n",
       "      <td>0.007354</td>\n",
       "      <td>0.900350</td>\n",
       "      <td>0.957855</td>\n",
       "    </tr>\n",
       "    <tr>\n",
       "      <th>max</th>\n",
       "      <td>0.087530</td>\n",
       "      <td>0.982700</td>\n",
       "      <td>0.986104</td>\n",
       "    </tr>\n",
       "  </tbody>\n",
       "</table>\n",
       "</div>"
      ],
      "text/plain": [
       "        Test MSE   Test KGE    Test_R2\n",
       "count  54.000000  54.000000  54.000000\n",
       "mean    0.007387   0.723357   0.820370\n",
       "std     0.012596   0.311120   0.372874\n",
       "min     0.000522  -0.614623  -1.173180\n",
       "25%     0.001691   0.635164   0.846439\n",
       "50%     0.004524   0.845155   0.931609\n",
       "75%     0.007354   0.900350   0.957855\n",
       "max     0.087530   0.982700   0.986104"
      ]
     },
     "execution_count": 16,
     "metadata": {},
     "output_type": "execute_result"
    }
   ],
   "source": [
    "df_summary_A.describe()"
   ]
  },
  {
   "cell_type": "code",
   "execution_count": 8,
   "id": "6eb8667b-0fca-4c95-ad97-51f8564967a5",
   "metadata": {},
   "outputs": [
    {
     "data": {
      "text/html": [
       "<div>\n",
       "<style scoped>\n",
       "    .dataframe tbody tr th:only-of-type {\n",
       "        vertical-align: middle;\n",
       "    }\n",
       "\n",
       "    .dataframe tbody tr th {\n",
       "        vertical-align: top;\n",
       "    }\n",
       "\n",
       "    .dataframe thead th {\n",
       "        text-align: right;\n",
       "    }\n",
       "</style>\n",
       "<table border=\"1\" class=\"dataframe\">\n",
       "  <thead>\n",
       "    <tr style=\"text-align: right;\">\n",
       "      <th></th>\n",
       "      <th>Test MSE</th>\n",
       "      <th>Test KGE</th>\n",
       "      <th>Test_R2</th>\n",
       "    </tr>\n",
       "    <tr>\n",
       "      <th>HUC_ID</th>\n",
       "      <th></th>\n",
       "      <th></th>\n",
       "      <th></th>\n",
       "    </tr>\n",
       "  </thead>\n",
       "  <tbody>\n",
       "    <tr>\n",
       "      <th>170300010101</th>\n",
       "      <td>0.011511</td>\n",
       "      <td>0.784917</td>\n",
       "      <td>0.935723</td>\n",
       "    </tr>\n",
       "    <tr>\n",
       "      <th>170300010102</th>\n",
       "      <td>0.018615</td>\n",
       "      <td>0.710050</td>\n",
       "      <td>0.900482</td>\n",
       "    </tr>\n",
       "  </tbody>\n",
       "</table>\n",
       "</div>"
      ],
      "text/plain": [
       "              Test MSE  Test KGE   Test_R2\n",
       "HUC_ID                                    \n",
       "170300010101  0.011511  0.784917  0.935723\n",
       "170300010102  0.018615  0.710050  0.900482"
      ]
     },
     "execution_count": 8,
     "metadata": {},
     "output_type": "execute_result"
    }
   ],
   "source": [
    "# summarize results Test Set B \n",
    "df_metrics_B = df_dict[\"Test_Set_B\"]\n",
    "df_summary_B = summarize_by_step(df_metrics_B, 0)\n",
    "df_summary_B.head(2)"
   ]
  },
  {
   "cell_type": "code",
   "execution_count": 17,
   "id": "fdfaa2bb-46fd-4201-93ee-70f861ffd749",
   "metadata": {},
   "outputs": [
    {
     "data": {
      "text/html": [
       "<div>\n",
       "<style scoped>\n",
       "    .dataframe tbody tr th:only-of-type {\n",
       "        vertical-align: middle;\n",
       "    }\n",
       "\n",
       "    .dataframe tbody tr th {\n",
       "        vertical-align: top;\n",
       "    }\n",
       "\n",
       "    .dataframe thead th {\n",
       "        text-align: right;\n",
       "    }\n",
       "</style>\n",
       "<table border=\"1\" class=\"dataframe\">\n",
       "  <thead>\n",
       "    <tr style=\"text-align: right;\">\n",
       "      <th></th>\n",
       "      <th>Test MSE</th>\n",
       "      <th>Test KGE</th>\n",
       "      <th>Test_R2</th>\n",
       "    </tr>\n",
       "  </thead>\n",
       "  <tbody>\n",
       "    <tr>\n",
       "      <th>count</th>\n",
       "      <td>48.000000</td>\n",
       "      <td>48.000000</td>\n",
       "      <td>48.000000</td>\n",
       "    </tr>\n",
       "    <tr>\n",
       "      <th>mean</th>\n",
       "      <td>0.007014</td>\n",
       "      <td>0.789205</td>\n",
       "      <td>0.887679</td>\n",
       "    </tr>\n",
       "    <tr>\n",
       "      <th>std</th>\n",
       "      <td>0.008653</td>\n",
       "      <td>0.145063</td>\n",
       "      <td>0.076185</td>\n",
       "    </tr>\n",
       "    <tr>\n",
       "      <th>min</th>\n",
       "      <td>0.000222</td>\n",
       "      <td>0.265396</td>\n",
       "      <td>0.550655</td>\n",
       "    </tr>\n",
       "    <tr>\n",
       "      <th>25%</th>\n",
       "      <td>0.002085</td>\n",
       "      <td>0.706568</td>\n",
       "      <td>0.863799</td>\n",
       "    </tr>\n",
       "    <tr>\n",
       "      <th>50%</th>\n",
       "      <td>0.004246</td>\n",
       "      <td>0.821192</td>\n",
       "      <td>0.918686</td>\n",
       "    </tr>\n",
       "    <tr>\n",
       "      <th>75%</th>\n",
       "      <td>0.008932</td>\n",
       "      <td>0.883383</td>\n",
       "      <td>0.934607</td>\n",
       "    </tr>\n",
       "    <tr>\n",
       "      <th>max</th>\n",
       "      <td>0.050682</td>\n",
       "      <td>0.969418</td>\n",
       "      <td>0.963966</td>\n",
       "    </tr>\n",
       "  </tbody>\n",
       "</table>\n",
       "</div>"
      ],
      "text/plain": [
       "        Test MSE   Test KGE    Test_R2\n",
       "count  48.000000  48.000000  48.000000\n",
       "mean    0.007014   0.789205   0.887679\n",
       "std     0.008653   0.145063   0.076185\n",
       "min     0.000222   0.265396   0.550655\n",
       "25%     0.002085   0.706568   0.863799\n",
       "50%     0.004246   0.821192   0.918686\n",
       "75%     0.008932   0.883383   0.934607\n",
       "max     0.050682   0.969418   0.963966"
      ]
     },
     "execution_count": 17,
     "metadata": {},
     "output_type": "execute_result"
    }
   ],
   "source": [
    "df_summary_B.describe()"
   ]
  },
  {
   "cell_type": "markdown",
   "id": "fc23f6ce-3c32-457d-9e5b-df39803dbdcf",
   "metadata": {},
   "source": [
    "# Step 2 - Plot histogram of test_kge "
   ]
  },
  {
   "cell_type": "code",
   "execution_count": 9,
   "id": "473fb629-141e-4372-b7d9-856450919f24",
   "metadata": {},
   "outputs": [],
   "source": [
    "def plot_test_kge_histogram(df, title = \"histogram\"):\n",
    "    \"\"\"\n",
    "    Plots a histogram of the test_kge values from a pandas DataFrame and saves it as 'histogram.png'.\n",
    "    \n",
    "    Parameters:\n",
    "    df (pd.DataFrame): DataFrame containing the column 'test_kge'.\n",
    "    \"\"\"\n",
    "    if 'Test KGE' not in df.columns:\n",
    "        raise ValueError(\"DataFrame must contain a 'Test KGE' column\")\n",
    "    \n",
    "    test_kge_values = df['Test KGE'].dropna()\n",
    "    median_kge = np.median(test_kge_values)\n",
    "    \n",
    "    plt.figure(figsize=(8, 6))\n",
    "    plt.hist(df['Test KGE'].dropna(), bins=20, edgecolor='black', alpha=0.7)\n",
    "    plt.axvline(median_kge, color='red', linestyle='dashed', linewidth=2, label=f'Median: {median_kge:.2f}')\n",
    "    plt.text(median_kge, plt.ylim()[1] * 0.9, f'Median: {median_kge:.2f}', color='red', ha='right', fontsize=12, fontweight='bold')\n",
    "    plt.xlabel('Test KGE')\n",
    "    plt.ylabel('Frequency')\n",
    "    plt.title(title)\n",
    "    plt.grid(axis='y', linestyle='--', alpha=0.7)\n",
    "    output_file = f\"charts/{title}.png\"\n",
    "    plt.savefig(output_file)\n",
    "    plt.show()\n",
    "    plt.close()\n",
    "    return plt\n"
   ]
  },
  {
   "cell_type": "code",
   "execution_count": 10,
   "id": "cebefb15-2a6b-4ccd-b791-2726271a85cf",
   "metadata": {},
   "outputs": [
    {
     "data": {
      "image/png": "[encoded data removed]",
      "text/plain": [
       "<Figure size 800x600 with 1 Axes>"
      ]
     },
     "metadata": {},
     "output_type": "display_data"
    },
    {
     "data": {
      "text/plain": [
       "<module 'matplotlib.pyplot' from '/home/suetboyd/miniconda3/lib/python3.11/site-packages/matplotlib/pyplot.py'>"
      ]
     },
     "execution_count": 10,
     "metadata": {},
     "output_type": "execute_result"
    }
   ],
   "source": [
    "plot_test_kge_histogram(df_summary_A, title = \"Historgram of Test KGE For HUC12 Sub-Watersheds In Test Set A\")"
   ]
  },
  {
   "cell_type": "code",
   "execution_count": 11,
   "id": "019d22f1-7cbd-46cd-95af-65c5279fdca8",
   "metadata": {},
   "outputs": [
    {
     "data": {
      "image/png": "[encoded data removed]",
      "text/plain": [
       "<Figure size 800x600 with 1 Axes>"
      ]
     },
     "metadata": {},
     "output_type": "display_data"
    },
    {
     "data": {
      "text/plain": [
       "<module 'matplotlib.pyplot' from '/home/suetboyd/miniconda3/lib/python3.11/site-packages/matplotlib/pyplot.py'>"
      ]
     },
     "execution_count": 11,
     "metadata": {},
     "output_type": "execute_result"
    }
   ],
   "source": [
    "plot_test_kge_histogram(df_summary_B, title = \"Historgram of Test KGE For HUC12 Sub-Watersheds In Test Set B\")\n"
   ]
  },
  {
   "cell_type": "markdown",
   "id": "ec9134cf-21bc-4943-9d38-f24eb72d2e01",
   "metadata": {},
   "source": [
    "## Step 3 Add in Snow Class Data "
   ]
  },
  {
   "cell_type": "code",
   "execution_count": 12,
   "id": "9c8b3b8b-d4d8-410b-9fa9-e53fe9bb243d",
   "metadata": {},
   "outputs": [],
   "source": [
    "def get_snow_type_data(huc_list): \n",
    "    df_dict = {}\n",
    "    count = 0\n",
    "    time_start = time.time()\n",
    "    input_pairs = [[huc, '12'] for huc in huc_list]\n",
    "    for input_pair in input_pairs: \n",
    "        count += 1\n",
    "        _, _, df_predom = st.process_all(input_pair[0], input_pair[1])\n",
    "        df_dict[input_pair[0]] = df_predom\n",
    "        if count % 20 == 0: \n",
    "            print(f\"Finished processing huc {count} out of {len(huc_list)}\")\n",
    "            du.elapsed(time_start)\n",
    "    print(\"all done\")\n",
    "    return df_dict\n",
    "\n"
   ]
  },
  {
   "cell_type": "code",
   "execution_count": 13,
   "id": "6621144b-0fda-4455-9c6f-7b0b04933be0",
   "metadata": {},
   "outputs": [],
   "source": [
    "def combine_dfs(df_dict): \n",
    "    df_list = []\n",
    "    for huc_id, df in df_dict.items():\n",
    "        df_list.append(df)\n",
    "    df_snow_types = pd.concat(df_list)\n",
    "    df_snow_types = df_snow_types.set_index(\"huc_id\")\n",
    "    df_snow_types = df_snow_types[[\"Predominant_Snow\"]]\n",
    "    df_snow_types[\"color_snow_type\"] = df_snow_types[\"Predominant_Snow\"].map(color_map).fillna(\"white\")\n",
    "    return df_snow_types "
   ]
  },
  {
   "cell_type": "code",
   "execution_count": 14,
   "id": "d5c2ff0b-91bf-46c3-ae05-f25661f0bda8",
   "metadata": {},
   "outputs": [],
   "source": [
    "# Define color mapping\n",
    "color_map = {\n",
    "    \"Ephemeral\": \"blue\",\n",
    "    \"Maritime\": \"yellow\",\n",
    "    \"Montane Forest\": \"orange\"\n",
    "}"
   ]
  },
  {
   "cell_type": "code",
   "execution_count": 15,
   "id": "114b2160-0f70-49c5-b78c-4d9aa3dc6e95",
   "metadata": {},
   "outputs": [
    {
     "name": "stdout",
     "output_type": "stream",
     "text": [
      "Finished processing huc 20 out of 54\n",
      "______Elapsed time is 35 seconds\n",
      "Finished processing huc 40 out of 54\n",
      "______Elapsed time is 66 seconds\n"
     ]
    },
    {
     "name": "stderr",
     "output_type": "stream",
     "text": [
      "\n",
      "KeyboardInterrupt\n",
      "\n"
     ]
    }
   ],
   "source": [
    "# call the functions to append snow types - Test Set A \n",
    "hucs_A = list(df_summary_A.index)\n",
    "df_dict_A = get_snow_type_data(hucs_A)\n",
    "df_st_A = combine_dfs(df_dict_A)\n",
    "print(df_st_A.shape)\n",
    "df_st_A.head(2)\n",
    "df_merged_A = df_st_A.merge(df_summary_A, left_index=True, right_index=True)\n",
    "\n"
   ]
  },
  {
   "cell_type": "code",
   "execution_count": null,
   "id": "8a62fa1e-e76a-49ce-afd4-be53bd4dffc3",
   "metadata": {},
   "outputs": [],
   "source": [
    "# repeat for Test Set B \n",
    "hucs_B = list(df_summary_B.index)\n",
    "df_dict_B = get_snow_type_data(hucs_B)\n",
    "df_st_B = combine_dfs(df_dict_B)\n",
    "print(df_st_B.shape)\n",
    "df_st_B.head(2)\n",
    "df_merged_B = df_st_B.merge(df_summary_B, left_index=True, right_index=True)"
   ]
  },
  {
   "cell_type": "code",
   "execution_count": null,
   "id": "422c407a-734f-47ee-86bb-62fa0f51bde1",
   "metadata": {},
   "outputs": [],
   "source": [
    "# Step 5 Add in Basin Geometries & Mean elevation "
   ]
  },
  {
   "cell_type": "code",
   "execution_count": null,
   "id": "c15db48b-155a-4005-be33-94601cefd988",
   "metadata": {},
   "outputs": [],
   "source": [
    "def add_geos_and_dem(df): \n",
    "    time_start = time.time()\n",
    "    count = 0 \n",
    "    results = df.copy()\n",
    "    for huc_id in list(df.index):\n",
    "        count += 1\n",
    "        geos = gg.get_geos_with_name(huc_id, '12')\n",
    "        #print(geos.iloc[0][\"name\"])\n",
    "        results.loc[results.index == huc_id, \"Name\"] = geos.iloc[0][\"name\"]\n",
    "        results.loc[results.index == huc_id, \"geometry\"] = geos.iloc[0][\"geometry\"]\n",
    "        dem_ds = gd.get_dem(geos)\n",
    "        #print(\"done getting dem\")\n",
    "        mean_elev = gd.calc_mean_dem(dem_ds)\n",
    "        results.loc[results.index == huc_id, \"mean_elevation\"] = mean_elev\n",
    "        if  count % 10 == 0: \n",
    "            print(f\"finished processing huc {count} out of {len(df.index)}\")\n",
    "            du.elapsed(time_start)\n",
    "    results_gdf = gpd.GeoDataFrame(results, geometry=\"geometry\")\n",
    "    results_gdf.set_crs(\"EPSG:4326\", inplace=True) \n",
    "    col_to_kp = [\"Name\", \"Test MSE\", \"Test KGE\", \"Test_R2\", \"Predominant_Snow\", \"color_snow_type\", \"mean_elevation\", \"geometry\"]\n",
    "    return results_gdf[col_to_kp]\n",
    "        "
   ]
  },
  {
   "cell_type": "code",
   "execution_count": null,
   "id": "2a046d2d-e943-4f1f-a31f-611a2dc9a865",
   "metadata": {},
   "outputs": [],
   "source": [
    "gdf_A = add_geos_and_dem(df_merged_A)\n",
    "gdf_A.head(2)"
   ]
  },
  {
   "cell_type": "code",
   "execution_count": null,
   "id": "519f6965-65c8-4550-aacf-7392b1bb0dcb",
   "metadata": {},
   "outputs": [],
   "source": [
    "gdf_B = add_geos_and_dem(df_merged_B)\n",
    "gdf_B.head(2)"
   ]
  },
  {
   "cell_type": "code",
   "execution_count": null,
   "id": "b6101a31-27d6-4228-90ef-b175bc5ad578",
   "metadata": {},
   "outputs": [],
   "source": [
    "gdf_A.explore(color=gdf_A['color_snow_type'], legend=True)"
   ]
  },
  {
   "cell_type": "code",
   "execution_count": null,
   "id": "0fc6fc60-5c0d-4022-b185-48a571f5048e",
   "metadata": {},
   "outputs": [],
   "source": [
    "gdf_B.explore(color=gdf_B['color_snow_type'], legend=True)"
   ]
  },
  {
   "cell_type": "code",
   "execution_count": null,
   "id": "341be1f5-35c1-4143-86bf-10301cc6ca98",
   "metadata": {},
   "outputs": [],
   "source": [
    "# Step 7 - Add an elevation categorization "
   ]
  },
  {
   "cell_type": "code",
   "execution_count": null,
   "id": "7bfd2312-1031-4bde-bad9-aad4228df2b9",
   "metadata": {},
   "outputs": [],
   "source": [
    "# Define the bins and corresponding labels\n",
    "bins = [0, 500, 1000, 1500, 2000, float('inf')]\n",
    "labels = ['low', 'lower mid', 'mid', 'upper mid', 'high']"
   ]
  },
  {
   "cell_type": "code",
   "execution_count": null,
   "id": "ed8ba245-9816-4a04-a6e7-4b7443f5d2ba",
   "metadata": {},
   "outputs": [],
   "source": [
    "# Create the new column 'Elevation Category' based on 'mean_elevation'\n",
    "gdf_A['Elevation Category'] = pd.cut(gdf_A['mean_elevation'], bins=bins, labels=labels, right=False)\n",
    "gdf_A.head(2)\n"
   ]
  },
  {
   "cell_type": "code",
   "execution_count": null,
   "id": "8571fc75-16bf-44de-9faa-76d45bef7f94",
   "metadata": {},
   "outputs": [],
   "source": [
    "# Repeat for Test Set B \n",
    "# Create the new column 'Elevation Category' based on 'mean_elevation'\n",
    "gdf_B['Elevation Category'] = pd.cut(gdf_B['mean_elevation'], bins=bins, labels=labels, right=False)\n",
    "gdf_B.head(2)"
   ]
  },
  {
   "cell_type": "code",
   "execution_count": null,
   "id": "406905fb-e153-42ea-a55e-b954b40b6461",
   "metadata": {},
   "outputs": [],
   "source": [
    "# Step Last Save Files"
   ]
  },
  {
   "cell_type": "code",
   "execution_count": null,
   "id": "6f67ac5a-d8a1-4936-a451-8c638b64eccb",
   "metadata": {},
   "outputs": [],
   "source": [
    "# save the combined data to a local_file\n",
    "f_A = \"TestA__metrics_w_snow_types_and_elev.csv\"\n",
    "gdf_A.to_csv(f_A, index = True)\n",
    "f_B = \"TestB__metrics_w_snow_types_and_elev.csv\"\n",
    "gdf_B.to_csv(f_B, index = True)"
   ]
  },
  {
   "cell_type": "code",
   "execution_count": null,
   "id": "688adfd3-1ca7-40a6-9905-84a0fe37f673",
   "metadata": {},
   "outputs": [],
   "source": []
  }
 ],
 "metadata": {
  "kernelspec": {
   "display_name": "Python 3 (ipykernel)",
   "language": "python",
   "name": "python3"
  },
  "language_info": {
   "codemirror_mode": {
    "name": "ipython",
    "version": 3
   },
   "file_extension": ".py",
   "mimetype": "text/x-python",
   "name": "python",
   "nbconvert_exporter": "python",
   "pygments_lexer": "ipython3",
   "version": "3.11.8"
  }
 },
 "nbformat": 4,
 "nbformat_minor": 5
}
