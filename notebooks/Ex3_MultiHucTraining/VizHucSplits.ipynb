{
 "cells": [
  {
   "cell_type": "markdown",
   "id": "159854c9-fc8b-410a-8e64-351b4a94bf1d",
   "metadata": {},
   "source": [
    "# Notebook to Visualize Training, Validation, and Test Sets for MandM Multi-Huc Training Expirement"
   ]
  },
  {
   "cell_type": "code",
   "execution_count": null,
   "id": "46aa1577-8725-46f9-a8a2-d12e6b6a07f3",
   "metadata": {},
   "outputs": [],
   "source": []
  }
 ],
 "metadata": {
  "kernelspec": {
   "display_name": "Python 3 (ipykernel)",
   "language": "python",
   "name": "python3"
  },
  "language_info": {
   "codemirror_mode": {
    "name": "ipython",
    "version": 3
   },
   "file_extension": ".py",
   "mimetype": "text/x-python",
   "name": "python",
   "nbconvert_exporter": "python",
   "pygments_lexer": "ipython3",
   "version": "3.11.8"
  }
 },
 "nbformat": 4,
 "nbformat_minor": 5
}
