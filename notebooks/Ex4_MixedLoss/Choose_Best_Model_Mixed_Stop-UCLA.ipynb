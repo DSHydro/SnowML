{
 "cells": [
  {
   "cell_type": "markdown",
   "id": "40c7cd88-c6f2-49c0-a317-1ae3e07266d7",
   "metadata": {},
   "source": [
    "# Notebook to Investigate LSTM Performance Variance for Maritime Only Single Snow Type Model - UCLA Data "
   ]
  },
  {
   "cell_type": "markdown",
   "id": "e190667a-9b99-44c4-87a8-8d36f8bea340",
   "metadata": {},
   "source": [
    "# Step 0 - Set up Notebook"
   ]
  },
  {
   "cell_type": "code",
   "execution_count": 1,
   "id": "bef22fa2-0a8e-4982-bd09-bdb98e4d848c",
   "metadata": {},
   "outputs": [],
   "source": [
    "# import needed libaries\n",
    "import os\n",
    "import boto3\n",
    "import mlflow\n",
    "import time\n",
    "from PIL import Image\n",
    "import pandas as pd\n",
    "import geopandas as gpd\n",
    "import matplotlib.pyplot as plt\n",
    "import seaborn as sns\n",
    "import numpy as np\n",
    "from snowML.viz import download_metrics as dm\n",
    "from snowML.datapipe.utils import snow_types as st\n",
    "from snowML.datapipe.utils import get_geos as gg\n",
    "from snowML.datapipe.utils import data_utils as du\n",
    "from snowML.datapipe.utils import get_dem as gd"
   ]
  },
  {
   "cell_type": "code",
   "execution_count": 2,
   "id": "a97c2faf-fcda-42d0-9120-0eacc9073064",
   "metadata": {},
   "outputs": [
    {
     "data": {
      "text/plain": [
       "True"
      ]
     },
     "execution_count": 2,
     "metadata": {},
     "output_type": "execute_result"
    }
   ],
   "source": [
    "# initialize erathengine credentials\n",
    "import ee\n",
    "ee.Authenticate()"
   ]
  },
  {
   "cell_type": "markdown",
   "id": "06deed74-0fac-4b31-8687-14affeefeccc",
   "metadata": {},
   "source": [
    "# Step1 - Get MLFlow Metrics"
   ]
  },
  {
   "cell_type": "code",
   "execution_count": 3,
   "id": "f9ca9c8c-1f0f-4ecb-9751-04ada581e82c",
   "metadata": {},
   "outputs": [
    {
     "data": {
      "text/plain": [
       "{'mar_mse_stop_.9_UCLA': 'ea32c63fd02840e3ab28e7cd7a5a9736'}"
      ]
     },
     "execution_count": 3,
     "metadata": {},
     "output_type": "execute_result"
    }
   ],
   "source": [
    "run_dict = {} \n",
    "run_dict[\"mar_mse_stop_.9_UCLA\"] = \"ea32c63fd02840e3ab28e7cd7a5a9736\"\n",
    "\n",
    "\n",
    "run_dict"
   ]
  },
  {
   "cell_type": "code",
   "execution_count": 4,
   "id": "72f9cff8-9dd6-4f87-a22f-e7fe7268ae88",
   "metadata": {},
   "outputs": [],
   "source": [
    "# create a dictionary of dataframes corresponding to the run_id shortname uploading from local files \n",
    "# Assumes you have already run the \"download metrics\" script from the snowML.Scripts package to save the metrics to local files\n",
    "df_dict = {}\n",
    "for key in run_dict.keys(): \n",
    "    run_id = run_dict[key]\n",
    "    file = f\"../../mlflow_data/run_id_data/metrics_from_{run_id}.csv\"\n",
    "    df_metrics = pd.read_csv(file)\n",
    "    #print(df_metrics.shape)\n",
    "    df_dict[key] = df_metrics\n"
   ]
  },
  {
   "cell_type": "code",
   "execution_count": 5,
   "id": "f53aaa6c-bf22-41b2-b217-c1f9af9cfc8f",
   "metadata": {},
   "outputs": [
    {
     "name": "stdout",
     "output_type": "stream",
     "text": [
      "(2104, 3)\n"
     ]
    },
    {
     "data": {
      "text/html": [
       "<div>\n",
       "<style scoped>\n",
       "    .dataframe tbody tr th:only-of-type {\n",
       "        vertical-align: middle;\n",
       "    }\n",
       "\n",
       "    .dataframe tbody tr th {\n",
       "        vertical-align: top;\n",
       "    }\n",
       "\n",
       "    .dataframe thead th {\n",
       "        text-align: right;\n",
       "    }\n",
       "</style>\n",
       "<table border=\"1\" class=\"dataframe\">\n",
       "  <thead>\n",
       "    <tr style=\"text-align: right;\">\n",
       "      <th></th>\n",
       "      <th>Metric</th>\n",
       "      <th>Step</th>\n",
       "      <th>Value</th>\n",
       "    </tr>\n",
       "  </thead>\n",
       "  <tbody>\n",
       "    <tr>\n",
       "      <th>0</th>\n",
       "      <td>test_kge_171100051001</td>\n",
       "      <td>0</td>\n",
       "      <td>0.586291</td>\n",
       "    </tr>\n",
       "    <tr>\n",
       "      <th>1</th>\n",
       "      <td>test_r2_171100051001</td>\n",
       "      <td>0</td>\n",
       "      <td>0.578038</td>\n",
       "    </tr>\n",
       "  </tbody>\n",
       "</table>\n",
       "</div>"
      ],
      "text/plain": [
       "                  Metric  Step     Value\n",
       "0  test_kge_171100051001     0  0.586291\n",
       "1   test_r2_171100051001     0  0.578038"
      ]
     },
     "execution_count": 5,
     "metadata": {},
     "output_type": "execute_result"
    }
   ],
   "source": [
    "# display example\n",
    "key = \"mar_mse_stop_.9_UCLA\"\n",
    "df_metrics = df_dict[key]\n",
    "print(df_metrics.shape)\n",
    "df_metrics.head(2)\n"
   ]
  },
  {
   "cell_type": "markdown",
   "id": "8adb5bc6-4300-4903-a9bd-7ea99084fd65",
   "metadata": {},
   "source": [
    "# Step 2 - Functions to Summarize Metrics "
   ]
  },
  {
   "cell_type": "code",
   "execution_count": 6,
   "id": "f56f849d-2653-497f-a35e-f218e4cd500a",
   "metadata": {},
   "outputs": [],
   "source": [
    "# function to extract only a specific metric by suffix\n",
    "def extract_metric_by_suffix(df, metric_name, step = False):\n",
    "    \"\"\"Extracts rows where the Metric column ends with 'metric_name' and returns only Metric, Valuem and optionally Step columns.\"\"\"\n",
    "    if step: \n",
    "        return df[df['Metric'].str.endswith(metric_name)][['Metric', \"Step\",'Value']].sort_values(by='Metric')\n",
    "    else: \n",
    "        return df[df['Metric'].str.endswith(metric_name)][['Metric', 'Value']].sort_values(by='Metric')"
   ]
  },
  {
   "cell_type": "code",
   "execution_count": 7,
   "id": "e4bde167-8dbe-462e-b227-8ded639529c9",
   "metadata": {},
   "outputs": [],
   "source": [
    "# function to extract only a specific metric by prefix\n",
    "def extract_metric_by_prefix(df, prefix, step=False):\n",
    "    \"\"\"Extracts rows where the Metric column begins with 'prefix' and returns only Metric, Value and optionally step columns.\"\"\"\n",
    "    if step:\n",
    "        return df[df['Metric'].str.startswith(prefix)][['Metric', \"Step\", 'Value']].sort_values(by='Metric')\n",
    "    else:\n",
    "        return df[df['Metric'].str.startswith(prefix)][['Metric', 'Value']].sort_values(by='Metric')"
   ]
  },
  {
   "cell_type": "code",
   "execution_count": 8,
   "id": "f6e7d917-33f4-4a32-b12d-644de34ec19b",
   "metadata": {},
   "outputs": [],
   "source": [
    "# function to extract only the last epoch \n",
    "def filter_to_last_step_per_metric(df):\n",
    "    \"\"\"\n",
    "    Filters the DataFrame to include only rows where 'step' is the maximum for each 'metric'.\n",
    "    \n",
    "    Parameters:\n",
    "        df (pd.DataFrame): A DataFrame with columns 'metric', 'step', and 'value'.\n",
    "        \n",
    "    Returns:\n",
    "        pd.DataFrame: Filtered DataFrame with only the last step for each metric.\n",
    "    \"\"\"\n",
    "    return df[df[\"Step\"] == df.groupby(\"Metric\")[\"Step\"].transform(\"max\")]\n",
    "\n"
   ]
  },
  {
   "cell_type": "markdown",
   "id": "c58ddaa7-6e29-4abb-a122-5523cdb54e65",
   "metadata": {},
   "source": [
    "Examples "
   ]
  },
  {
   "cell_type": "code",
   "execution_count": 9,
   "id": "99b50032-8aac-42ee-bd57-40c4c590160b",
   "metadata": {},
   "outputs": [
    {
     "data": {
      "text/html": [
       "<div>\n",
       "<style scoped>\n",
       "    .dataframe tbody tr th:only-of-type {\n",
       "        vertical-align: middle;\n",
       "    }\n",
       "\n",
       "    .dataframe tbody tr th {\n",
       "        vertical-align: top;\n",
       "    }\n",
       "\n",
       "    .dataframe thead th {\n",
       "        text-align: right;\n",
       "    }\n",
       "</style>\n",
       "<table border=\"1\" class=\"dataframe\">\n",
       "  <thead>\n",
       "    <tr style=\"text-align: right;\">\n",
       "      <th></th>\n",
       "      <th>Metric</th>\n",
       "      <th>Step</th>\n",
       "      <th>Value</th>\n",
       "    </tr>\n",
       "  </thead>\n",
       "  <tbody>\n",
       "    <tr>\n",
       "      <th>1207</th>\n",
       "      <td>test_kge_170200090101</td>\n",
       "      <td>7</td>\n",
       "      <td>0.760705</td>\n",
       "    </tr>\n",
       "    <tr>\n",
       "      <th>1206</th>\n",
       "      <td>test_kge_170200090101</td>\n",
       "      <td>6</td>\n",
       "      <td>0.730943</td>\n",
       "    </tr>\n",
       "    <tr>\n",
       "      <th>1205</th>\n",
       "      <td>test_kge_170200090101</td>\n",
       "      <td>5</td>\n",
       "      <td>0.849592</td>\n",
       "    </tr>\n",
       "    <tr>\n",
       "      <th>1204</th>\n",
       "      <td>test_kge_170200090101</td>\n",
       "      <td>4</td>\n",
       "      <td>0.677580</td>\n",
       "    </tr>\n",
       "    <tr>\n",
       "      <th>1203</th>\n",
       "      <td>test_kge_170200090101</td>\n",
       "      <td>3</td>\n",
       "      <td>0.684764</td>\n",
       "    </tr>\n",
       "  </tbody>\n",
       "</table>\n",
       "</div>"
      ],
      "text/plain": [
       "                     Metric  Step     Value\n",
       "1207  test_kge_170200090101     7  0.760705\n",
       "1206  test_kge_170200090101     6  0.730943\n",
       "1205  test_kge_170200090101     5  0.849592\n",
       "1204  test_kge_170200090101     4  0.677580\n",
       "1203  test_kge_170200090101     3  0.684764"
      ]
     },
     "execution_count": 9,
     "metadata": {},
     "output_type": "execute_result"
    }
   ],
   "source": [
    "df_kge = extract_metric_by_prefix(df_metrics, \"test_kge\", step = True)\n",
    "#df_kge[df_kge[\"Metric\"] == \"test_kge_171100051001\"]\n",
    "df_kge.head()"
   ]
  },
  {
   "cell_type": "code",
   "execution_count": 10,
   "id": "7e56f506-7167-459b-be9c-54c44a06ed71",
   "metadata": {},
   "outputs": [
    {
     "data": {
      "text/html": [
       "<div>\n",
       "<style scoped>\n",
       "    .dataframe tbody tr th:only-of-type {\n",
       "        vertical-align: middle;\n",
       "    }\n",
       "\n",
       "    .dataframe tbody tr th {\n",
       "        vertical-align: top;\n",
       "    }\n",
       "\n",
       "    .dataframe thead th {\n",
       "        text-align: right;\n",
       "    }\n",
       "</style>\n",
       "<table border=\"1\" class=\"dataframe\">\n",
       "  <thead>\n",
       "    <tr style=\"text-align: right;\">\n",
       "      <th></th>\n",
       "      <th>Metric</th>\n",
       "      <th>Step</th>\n",
       "      <th>Value</th>\n",
       "    </tr>\n",
       "  </thead>\n",
       "  <tbody>\n",
       "    <tr>\n",
       "      <th>1208</th>\n",
       "      <td>test_kge_170200090101</td>\n",
       "      <td>8</td>\n",
       "      <td>0.801176</td>\n",
       "    </tr>\n",
       "    <tr>\n",
       "      <th>1169</th>\n",
       "      <td>test_kge_170200090102</td>\n",
       "      <td>2</td>\n",
       "      <td>0.874398</td>\n",
       "    </tr>\n",
       "    <tr>\n",
       "      <th>1040</th>\n",
       "      <td>test_kge_170200090103</td>\n",
       "      <td>0</td>\n",
       "      <td>0.722972</td>\n",
       "    </tr>\n",
       "    <tr>\n",
       "      <th>1152</th>\n",
       "      <td>test_kge_170200090104</td>\n",
       "      <td>0</td>\n",
       "      <td>0.791839</td>\n",
       "    </tr>\n",
       "    <tr>\n",
       "      <th>1087</th>\n",
       "      <td>test_kge_170200090105</td>\n",
       "      <td>0</td>\n",
       "      <td>0.707379</td>\n",
       "    </tr>\n",
       "  </tbody>\n",
       "</table>\n",
       "</div>"
      ],
      "text/plain": [
       "                     Metric  Step     Value\n",
       "1208  test_kge_170200090101     8  0.801176\n",
       "1169  test_kge_170200090102     2  0.874398\n",
       "1040  test_kge_170200090103     0  0.722972\n",
       "1152  test_kge_170200090104     0  0.791839\n",
       "1087  test_kge_170200090105     0  0.707379"
      ]
     },
     "execution_count": 10,
     "metadata": {},
     "output_type": "execute_result"
    }
   ],
   "source": [
    "df_kge_last = filter_to_last_step_per_metric(df_kge)\n",
    "df_kge_last.head()"
   ]
  },
  {
   "cell_type": "code",
   "execution_count": 11,
   "id": "f34099e6-f3ed-4774-a4e2-4e67fbb7cb27",
   "metadata": {},
   "outputs": [
    {
     "data": {
      "text/html": [
       "<div>\n",
       "<style scoped>\n",
       "    .dataframe tbody tr th:only-of-type {\n",
       "        vertical-align: middle;\n",
       "    }\n",
       "\n",
       "    .dataframe tbody tr th {\n",
       "        vertical-align: top;\n",
       "    }\n",
       "\n",
       "    .dataframe thead th {\n",
       "        text-align: right;\n",
       "    }\n",
       "</style>\n",
       "<table border=\"1\" class=\"dataframe\">\n",
       "  <thead>\n",
       "    <tr style=\"text-align: right;\">\n",
       "      <th></th>\n",
       "      <th>Metric</th>\n",
       "      <th>Step</th>\n",
       "      <th>Value</th>\n",
       "    </tr>\n",
       "  </thead>\n",
       "  <tbody>\n",
       "    <tr>\n",
       "      <th>1476</th>\n",
       "      <td>test_kge_170200110307</td>\n",
       "      <td>2</td>\n",
       "      <td>-0.404012</td>\n",
       "    </tr>\n",
       "    <tr>\n",
       "      <th>545</th>\n",
       "      <td>test_kge_171100080108</td>\n",
       "      <td>0</td>\n",
       "      <td>-0.120688</td>\n",
       "    </tr>\n",
       "    <tr>\n",
       "      <th>1951</th>\n",
       "      <td>test_kge_170200110305</td>\n",
       "      <td>0</td>\n",
       "      <td>-0.041023</td>\n",
       "    </tr>\n",
       "    <tr>\n",
       "      <th>831</th>\n",
       "      <td>test_kge_171100080107</td>\n",
       "      <td>0</td>\n",
       "      <td>0.028245</td>\n",
       "    </tr>\n",
       "    <tr>\n",
       "      <th>1677</th>\n",
       "      <td>test_kge_171100050405</td>\n",
       "      <td>2</td>\n",
       "      <td>0.050891</td>\n",
       "    </tr>\n",
       "  </tbody>\n",
       "</table>\n",
       "</div>"
      ],
      "text/plain": [
       "                     Metric  Step     Value\n",
       "1476  test_kge_170200110307     2 -0.404012\n",
       "545   test_kge_171100080108     0 -0.120688\n",
       "1951  test_kge_170200110305     0 -0.041023\n",
       "831   test_kge_171100080107     0  0.028245\n",
       "1677  test_kge_171100050405     2  0.050891"
      ]
     },
     "execution_count": 11,
     "metadata": {},
     "output_type": "execute_result"
    }
   ],
   "source": [
    "df_sorted = df_kge_last.sort_values(\"Value\")\n",
    "df_sorted.head()"
   ]
  },
  {
   "cell_type": "code",
   "execution_count": 12,
   "id": "4453d978-9bd9-4bfd-91e0-e31307e91df2",
   "metadata": {},
   "outputs": [
    {
     "data": {
      "text/html": [
       "<div>\n",
       "<style scoped>\n",
       "    .dataframe tbody tr th:only-of-type {\n",
       "        vertical-align: middle;\n",
       "    }\n",
       "\n",
       "    .dataframe tbody tr th {\n",
       "        vertical-align: top;\n",
       "    }\n",
       "\n",
       "    .dataframe thead th {\n",
       "        text-align: right;\n",
       "    }\n",
       "</style>\n",
       "<table border=\"1\" class=\"dataframe\">\n",
       "  <thead>\n",
       "    <tr style=\"text-align: right;\">\n",
       "      <th></th>\n",
       "      <th>Step</th>\n",
       "      <th>Value</th>\n",
       "    </tr>\n",
       "  </thead>\n",
       "  <tbody>\n",
       "    <tr>\n",
       "      <th>count</th>\n",
       "      <td>152.000000</td>\n",
       "      <td>152.000000</td>\n",
       "    </tr>\n",
       "    <tr>\n",
       "      <th>mean</th>\n",
       "      <td>0.730263</td>\n",
       "      <td>0.490931</td>\n",
       "    </tr>\n",
       "    <tr>\n",
       "      <th>std</th>\n",
       "      <td>1.973233</td>\n",
       "      <td>0.230067</td>\n",
       "    </tr>\n",
       "    <tr>\n",
       "      <th>min</th>\n",
       "      <td>0.000000</td>\n",
       "      <td>-0.404012</td>\n",
       "    </tr>\n",
       "    <tr>\n",
       "      <th>25%</th>\n",
       "      <td>0.000000</td>\n",
       "      <td>0.344285</td>\n",
       "    </tr>\n",
       "    <tr>\n",
       "      <th>50%</th>\n",
       "      <td>0.000000</td>\n",
       "      <td>0.518279</td>\n",
       "    </tr>\n",
       "    <tr>\n",
       "      <th>75%</th>\n",
       "      <td>0.000000</td>\n",
       "      <td>0.673035</td>\n",
       "    </tr>\n",
       "    <tr>\n",
       "      <th>max</th>\n",
       "      <td>9.000000</td>\n",
       "      <td>0.887333</td>\n",
       "    </tr>\n",
       "  </tbody>\n",
       "</table>\n",
       "</div>"
      ],
      "text/plain": [
       "             Step       Value\n",
       "count  152.000000  152.000000\n",
       "mean     0.730263    0.490931\n",
       "std      1.973233    0.230067\n",
       "min      0.000000   -0.404012\n",
       "25%      0.000000    0.344285\n",
       "50%      0.000000    0.518279\n",
       "75%      0.000000    0.673035\n",
       "max      9.000000    0.887333"
      ]
     },
     "execution_count": 12,
     "metadata": {},
     "output_type": "execute_result"
    }
   ],
   "source": [
    "df_kge_last.describe()"
   ]
  },
  {
   "cell_type": "markdown",
   "id": "b75ca56e-6144-4f5e-b29e-04ebd863318c",
   "metadata": {},
   "source": [
    "# Step 3- Compare Runs"
   ]
  },
  {
   "cell_type": "code",
   "execution_count": 13,
   "id": "ed56fcb1-e1ad-4ba6-8253-c2a16aca00dd",
   "metadata": {},
   "outputs": [],
   "source": [
    "def assemble_summary(run_dict, metric_nm): \n",
    "    df_summary_dict = {}\n",
    "    for key in run_dict.keys(): \n",
    "        df_metrics = df_dict[key]\n",
    "        df_filtered = extract_metric_by_prefix(df_metrics, metric_nm, step=True)\n",
    "        df_metric_last = filter_to_last_step_per_metric(df_filtered)\n",
    "\n",
    "        # Set the index to the 'metric' column\n",
    "        df_metric_last = df_metric_last.set_index(\"Metric\")\n",
    "\n",
    "        # Append the key to all other column names (except the index)\n",
    "        df_metric_last = df_metric_last.add_suffix(f\"_{key}\")\n",
    "        df_metric_last.columns = df_metric_last.columns.str.replace(\"Value\", metric_nm)\n",
    "\n",
    "        # Store in the summary dictionary\n",
    "        df_summary_dict[key] = df_metric_last\n",
    "\n",
    "    # Concatenate all DataFrames on the index (metric)\n",
    "    df_summary = pd.concat(df_summary_dict.values(), axis=1)\n",
    "\n",
    "    return df_summary\n"
   ]
  },
  {
   "cell_type": "code",
   "execution_count": 14,
   "id": "27f15b5e-1919-4416-94a5-ae2809d10af8",
   "metadata": {},
   "outputs": [],
   "source": [
    "def slim_by_prefix(df, prefix):\n",
    "    \"\"\"\n",
    "    Returns a new DataFrame containing only the columns whose names start with the given prefix.\n",
    "    \n",
    "    Parameters:\n",
    "        df (pd.DataFrame): The input DataFrame.\n",
    "        prefix (str): Column prefix to filter by (e.g., \"Test_KGE\").\n",
    "        \n",
    "    Returns:\n",
    "        pd.DataFrame: Filtered DataFrame with only matching columns.\n",
    "    \"\"\"\n",
    "    slim_cols = [col for col in df.columns if col.startswith(prefix)]\n",
    "    return df[slim_cols].copy()\n"
   ]
  },
  {
   "cell_type": "code",
   "execution_count": 15,
   "id": "4a8d0b5a-7861-4c8b-a9fc-f3dc5bdb6f9d",
   "metadata": {},
   "outputs": [
    {
     "data": {
      "text/html": [
       "<div>\n",
       "<style scoped>\n",
       "    .dataframe tbody tr th:only-of-type {\n",
       "        vertical-align: middle;\n",
       "    }\n",
       "\n",
       "    .dataframe tbody tr th {\n",
       "        vertical-align: top;\n",
       "    }\n",
       "\n",
       "    .dataframe thead th {\n",
       "        text-align: right;\n",
       "    }\n",
       "</style>\n",
       "<table border=\"1\" class=\"dataframe\">\n",
       "  <thead>\n",
       "    <tr style=\"text-align: right;\">\n",
       "      <th></th>\n",
       "      <th>Step_mar_mse_stop_.9_UCLA</th>\n",
       "      <th>test_kge_mar_mse_stop_.9_UCLA</th>\n",
       "    </tr>\n",
       "    <tr>\n",
       "      <th>Metric</th>\n",
       "      <th></th>\n",
       "      <th></th>\n",
       "    </tr>\n",
       "  </thead>\n",
       "  <tbody>\n",
       "    <tr>\n",
       "      <th>test_kge_170200090101</th>\n",
       "      <td>8</td>\n",
       "      <td>0.801176</td>\n",
       "    </tr>\n",
       "    <tr>\n",
       "      <th>test_kge_170200090102</th>\n",
       "      <td>2</td>\n",
       "      <td>0.874398</td>\n",
       "    </tr>\n",
       "    <tr>\n",
       "      <th>test_kge_170200090103</th>\n",
       "      <td>0</td>\n",
       "      <td>0.722972</td>\n",
       "    </tr>\n",
       "    <tr>\n",
       "      <th>test_kge_170200090104</th>\n",
       "      <td>0</td>\n",
       "      <td>0.791839</td>\n",
       "    </tr>\n",
       "    <tr>\n",
       "      <th>test_kge_170200090105</th>\n",
       "      <td>0</td>\n",
       "      <td>0.707379</td>\n",
       "    </tr>\n",
       "  </tbody>\n",
       "</table>\n",
       "</div>"
      ],
      "text/plain": [
       "                       Step_mar_mse_stop_.9_UCLA  \\\n",
       "Metric                                             \n",
       "test_kge_170200090101                          8   \n",
       "test_kge_170200090102                          2   \n",
       "test_kge_170200090103                          0   \n",
       "test_kge_170200090104                          0   \n",
       "test_kge_170200090105                          0   \n",
       "\n",
       "                       test_kge_mar_mse_stop_.9_UCLA  \n",
       "Metric                                                \n",
       "test_kge_170200090101                       0.801176  \n",
       "test_kge_170200090102                       0.874398  \n",
       "test_kge_170200090103                       0.722972  \n",
       "test_kge_170200090104                       0.791839  \n",
       "test_kge_170200090105                       0.707379  "
      ]
     },
     "execution_count": 15,
     "metadata": {},
     "output_type": "execute_result"
    }
   ],
   "source": [
    "df_summary = assemble_summary(run_dict, \"test_kge\")\n",
    "df_summary.head()"
   ]
  },
  {
   "cell_type": "code",
   "execution_count": 16,
   "id": "589a78f9-06df-4d22-b380-8a6b057ab067",
   "metadata": {},
   "outputs": [
    {
     "data": {
      "text/html": [
       "<div>\n",
       "<style scoped>\n",
       "    .dataframe tbody tr th:only-of-type {\n",
       "        vertical-align: middle;\n",
       "    }\n",
       "\n",
       "    .dataframe tbody tr th {\n",
       "        vertical-align: top;\n",
       "    }\n",
       "\n",
       "    .dataframe thead th {\n",
       "        text-align: right;\n",
       "    }\n",
       "</style>\n",
       "<table border=\"1\" class=\"dataframe\">\n",
       "  <thead>\n",
       "    <tr style=\"text-align: right;\">\n",
       "      <th></th>\n",
       "      <th>test_kge_mar_mse_stop_.9_UCLA</th>\n",
       "    </tr>\n",
       "  </thead>\n",
       "  <tbody>\n",
       "    <tr>\n",
       "      <th>count</th>\n",
       "      <td>152.000000</td>\n",
       "    </tr>\n",
       "    <tr>\n",
       "      <th>mean</th>\n",
       "      <td>0.490931</td>\n",
       "    </tr>\n",
       "    <tr>\n",
       "      <th>std</th>\n",
       "      <td>0.230067</td>\n",
       "    </tr>\n",
       "    <tr>\n",
       "      <th>min</th>\n",
       "      <td>-0.404012</td>\n",
       "    </tr>\n",
       "    <tr>\n",
       "      <th>25%</th>\n",
       "      <td>0.344285</td>\n",
       "    </tr>\n",
       "    <tr>\n",
       "      <th>50%</th>\n",
       "      <td>0.518279</td>\n",
       "    </tr>\n",
       "    <tr>\n",
       "      <th>75%</th>\n",
       "      <td>0.673035</td>\n",
       "    </tr>\n",
       "    <tr>\n",
       "      <th>max</th>\n",
       "      <td>0.887333</td>\n",
       "    </tr>\n",
       "  </tbody>\n",
       "</table>\n",
       "</div>"
      ],
      "text/plain": [
       "       test_kge_mar_mse_stop_.9_UCLA\n",
       "count                     152.000000\n",
       "mean                        0.490931\n",
       "std                         0.230067\n",
       "min                        -0.404012\n",
       "25%                         0.344285\n",
       "50%                         0.518279\n",
       "75%                         0.673035\n",
       "max                         0.887333"
      ]
     },
     "execution_count": 16,
     "metadata": {},
     "output_type": "execute_result"
    }
   ],
   "source": [
    "df_summary_slim = slim_by_prefix(df_summary, \"test_kge\")\n",
    "df_summary_slim.describe()"
   ]
  },
  {
   "cell_type": "markdown",
   "id": "75c49b5c-38e6-489e-8b6d-8fb16fa552a0",
   "metadata": {},
   "source": [
    "# Step 4 - Plot "
   ]
  },
  {
   "cell_type": "code",
   "execution_count": 17,
   "id": "0a9eb116-163b-4c8b-b789-b847b6831590",
   "metadata": {},
   "outputs": [],
   "source": [
    "def plot_metric_boxplots(df, prefix=\"test_kGE\"):\n",
    "    \"\"\"\n",
    "    Plots boxplots for all columns in the DataFrame that start with the given prefix.\n",
    "    Uses the remainder of the column name (after the prefix + underscore) as the label.\n",
    "    \n",
    "    Parameters:\n",
    "        df (pd.DataFrame): The input DataFrame.\n",
    "        prefix (str): The prefix to filter columns by (e.g., 'Test_KGE', 'Test_MSE').\n",
    "    \"\"\"\n",
    "    # Ensure prefix ends with \"_\" for clean suffix extraction\n",
    "    prefix = prefix.rstrip(\"_\") + \"_\"\n",
    "\n",
    "    # Filter relevant columns\n",
    "    metric_cols = [col for col in df.columns if col.startswith(prefix)]\n",
    "\n",
    "    if not metric_cols:\n",
    "        print(f\"No columns found with prefix '{prefix}'\")\n",
    "        return\n",
    "\n",
    "    # Reshape to long format\n",
    "    df_long = df[metric_cols].copy()\n",
    "    df_long = df_long.melt(var_name=\"Metric\", value_name=\"Value\")\n",
    "\n",
    "    # Clean up the Metric labels\n",
    "    df_long[\"Metric\"] = df_long[\"Metric\"].str.replace(prefix, \"\", regex=False)\n",
    "\n",
    "    # Plot\n",
    "    plt.figure(figsize=(10, 6))\n",
    "    sns.boxplot(data=df_long, x=\"Metric\", y=\"Value\")\n",
    "    plt.xticks(rotation=45)\n",
    "    plt.title(f\"{prefix.strip('_')} by Strategy\")\n",
    "    plt.tight_layout()\n",
    "    plt.show()\n"
   ]
  },
  {
   "cell_type": "code",
   "execution_count": 18,
   "id": "e488a2c0-7f84-46c5-b5cc-9884a82c94fa",
   "metadata": {},
   "outputs": [
    {
     "data": {
      "image/png": "[encoded data removed]",
      "text/plain": [
       "<Figure size 1000x600 with 1 Axes>"
      ]
     },
     "metadata": {},
     "output_type": "display_data"
    }
   ],
   "source": [
    "plot_metric_boxplots(df_summary, prefix=\"test_kge\")"
   ]
  },
  {
   "cell_type": "markdown",
   "id": "87933ae0-1a73-4d83-adff-939bfa539bcc",
   "metadata": {},
   "source": [
    "# Step 5 Compare to Results By Epoch No_stop Run "
   ]
  },
  {
   "cell_type": "code",
   "execution_count": 19,
   "id": "ce813025-b8e2-43e3-94b8-4eadc8cf4583",
   "metadata": {},
   "outputs": [],
   "source": [
    "run_dict_no_stop = {}\n"
   ]
  },
  {
   "cell_type": "code",
   "execution_count": 20,
   "id": "e56e4da5-bec7-4a5f-9d64-0f8414b5a59a",
   "metadata": {},
   "outputs": [],
   "source": [
    "# create a dictionary of dataframes corresponding to the run_id shortname uploading from local files \n",
    "# Assumes you have already run the \"download metrics\" script from the snowML.Scripts package to save the metrics to local files\n",
    "df_dict_no_stop = {}\n",
    "for key in run_dict_no_stop.keys(): \n",
    "    run_id = run_dict_no_stop[key]\n",
    "    file = f\"../../mlflow_data/run_id_data/metrics_from_{run_id}.csv\"\n",
    "    df_metrics = pd.read_csv(file)\n",
    "    #print(df_metrics.shape)\n",
    "    df_dict_no_stop[key] = df_metrics"
   ]
  },
  {
   "cell_type": "code",
   "execution_count": 21,
   "id": "335f6dd9-faa1-4a10-962f-0d0a2369b89a",
   "metadata": {},
   "outputs": [
    {
     "ename": "KeyError",
     "evalue": "'mar_mse_stop_.9_UCLA'",
     "output_type": "error",
     "traceback": [
      "\u001b[0;31m---------------------------------------------------------------------------\u001b[0m",
      "\u001b[0;31mKeyError\u001b[0m                                  Traceback (most recent call last)",
      "Cell \u001b[0;32mIn[21], line 3\u001b[0m\n\u001b[1;32m      1\u001b[0m \u001b[38;5;66;03m#key = \"Mar_mse\"\u001b[39;00m\n\u001b[1;32m      2\u001b[0m \u001b[38;5;66;03m#metric_nm = \"test_kge\"\u001b[39;00m\n\u001b[0;32m----> 3\u001b[0m df_metrics \u001b[38;5;241m=\u001b[39m df_dict_no_stop[key]\n\u001b[1;32m      4\u001b[0m df_filtered \u001b[38;5;241m=\u001b[39m extract_metric_by_prefix(df_metrics, \u001b[38;5;124m\"\u001b[39m\u001b[38;5;124mtest_kge\u001b[39m\u001b[38;5;124m\"\u001b[39m, step\u001b[38;5;241m=\u001b[39m\u001b[38;5;28;01mTrue\u001b[39;00m)\n\u001b[1;32m      5\u001b[0m df_epoch_0 \u001b[38;5;241m=\u001b[39m  df_filtered[df_filtered[\u001b[38;5;124m\"\u001b[39m\u001b[38;5;124mStep\u001b[39m\u001b[38;5;124m\"\u001b[39m] \u001b[38;5;241m==\u001b[39m \u001b[38;5;241m0\u001b[39m]\n",
      "\u001b[0;31mKeyError\u001b[0m: 'mar_mse_stop_.9_UCLA'"
     ]
    }
   ],
   "source": [
    "#key = \"Mar_mse\"\n",
    "#metric_nm = \"test_kge\"\n",
    "df_metrics = df_dict_no_stop[key]\n",
    "df_filtered = extract_metric_by_prefix(df_metrics, \"test_kge\", step=True)\n",
    "df_epoch_0 =  df_filtered[df_filtered[\"Step\"] == 0]\n",
    "# Set the index to the 'metric' column\n",
    "df_epoch_0 = df_epoch_0.set_index(\"Metric\")\n",
    "# Append the key to all other column names (except the index)\n",
    "df_epoch_0 = df_epoch_0.add_suffix(f\"_{key}\")\n",
    "df_epoch_0.columns = df_epoch_0.columns.str.replace(\"Value\", metric_nm)\n",
    "df_epoch_0.head()\n",
    "\n",
    "# Concatenate all DataFrames on the index (metric)\n",
    "df_summary_all = pd.concat([df_summary, df_epoch_0], axis=1)\n",
    "df_summary_all.head()\n",
    "\n"
   ]
  },
  {
   "cell_type": "code",
   "execution_count": null,
   "id": "32c72b20-08c0-49a2-83cc-5ecbc3ae36be",
   "metadata": {},
   "outputs": [],
   "source": [
    "df_summary_all_slim = slim_by_prefix(df_summary_all, \"test_kge\")\n",
    "df_summary_all_slim.describe()\n"
   ]
  },
  {
   "cell_type": "code",
   "execution_count": null,
   "id": "3816cd63-40cd-42cc-8321-b8129739fc58",
   "metadata": {},
   "outputs": [],
   "source": [
    "plot_metric_boxplots(df_summary_all, prefix=\"test_kge\")"
   ]
  },
  {
   "cell_type": "markdown",
   "id": "bcc86cc8-01e7-49ab-9ba8-277424f115d4",
   "metadata": {},
   "source": [
    " "
   ]
  }
 ],
 "metadata": {
  "kernelspec": {
   "display_name": "Python 3 (ipykernel)",
   "language": "python",
   "name": "python3"
  },
  "language_info": {
   "codemirror_mode": {
    "name": "ipython",
    "version": 3
   },
   "file_extension": ".py",
   "mimetype": "text/x-python",
   "name": "python",
   "nbconvert_exporter": "python",
   "pygments_lexer": "ipython3",
   "version": "3.11.8"
  }
 },
 "nbformat": 4,
 "nbformat_minor": 5
}
