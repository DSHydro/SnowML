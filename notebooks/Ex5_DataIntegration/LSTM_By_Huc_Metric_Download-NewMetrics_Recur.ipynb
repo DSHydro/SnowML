{
 "cells": [
  {
   "cell_type": "markdown",
   "id": "40c7cd88-c6f2-49c0-a317-1ae3e07266d7",
   "metadata": {},
   "source": [
    "# Notebook to Investigate LSTM Performance Variance by Huc Type - Assemble Metrics And Data"
   ]
  },
  {
   "cell_type": "markdown",
   "id": "e190667a-9b99-44c4-87a8-8d36f8bea340",
   "metadata": {},
   "source": [
    "# Step 0 - Set up Notebook"
   ]
  },
  {
   "cell_type": "code",
   "execution_count": 1,
   "id": "bef22fa2-0a8e-4982-bd09-bdb98e4d848c",
   "metadata": {},
   "outputs": [],
   "source": [
    "# import needed libaries\n",
    "import os\n",
    "import boto3\n",
    "import mlflow\n",
    "import time\n",
    "from PIL import Image\n",
    "import pandas as pd\n",
    "import geopandas as gpd\n",
    "import matplotlib.pyplot as plt\n",
    "import seaborn as sns\n",
    "import numpy as np\n",
    "from snowML.datapipe import snow_types as st\n",
    "from snowML.datapipe import get_geos as gg\n",
    "from snowML.datapipe import data_utils as du\n",
    "from snowML.datapipe import get_dem as gd\n",
    "from snowML.viz import vis_utils as vu"
   ]
  },
  {
   "cell_type": "code",
   "execution_count": 2,
   "id": "a97c2faf-fcda-42d0-9120-0eacc9073064",
   "metadata": {},
   "outputs": [
    {
     "data": {
      "text/plain": [
       "True"
      ]
     },
     "execution_count": 2,
     "metadata": {},
     "output_type": "execute_result"
    }
   ],
   "source": [
    "# initialize erathengine credentials\n",
    "import ee\n",
    "ee.Authenticate()"
   ]
  },
  {
   "cell_type": "markdown",
   "id": "06deed74-0fac-4b31-8687-14affeefeccc",
   "metadata": {},
   "source": [
    "# Step1 - Get MLFlow Metrics"
   ]
  },
  {
   "cell_type": "code",
   "execution_count": 3,
   "id": "7f61535f-d48c-479d-b934-8f21114372f8",
   "metadata": {},
   "outputs": [],
   "source": [
    "# function to retrieve metrics from ML server \n",
    "def load_ml_metrics(tracking_uri, run_id, save_local=False):\n",
    "    mlflow.set_tracking_uri(tracking_uri)\n",
    "    client = mlflow.MlflowClient()\n",
    "    # Get all metric keys from the run\n",
    "    run_data = client.get_run(run_id).data\n",
    "    metric_keys = run_data.metrics.keys()\n",
    "    # Retrieve full metric history for each key\n",
    "    all_metrics = []\n",
    "    for metric in metric_keys:\n",
    "        history = client.get_metric_history(run_id, metric)\n",
    "        for record in history:\n",
    "            all_metrics.append({\n",
    "                \"Metric\": metric,\n",
    "                \"Step\": record.step,\n",
    "                \"Value\": record.value\n",
    "            })\n",
    "    \n",
    "    # Convert to DataFrame\n",
    "    metrics_df = pd.DataFrame(all_metrics)\n",
    "    \n",
    "    # Save to CSV if needed\n",
    "    if save_local:\n",
    "        f_out = f\"run_id_data/metrics_from_{run_id}.csv\"\n",
    "        metrics_df.to_csv(f_out, index=False)\n",
    "\n",
    "    return metrics_df"
   ]
  },
  {
   "cell_type": "code",
   "execution_count": 4,
   "id": "f56f849d-2653-497f-a35e-f218e4cd500a",
   "metadata": {},
   "outputs": [],
   "source": [
    "# function to extract only a specific metric\n",
    "def extract_metric(df, metric_name):\n",
    "    \"\"\"Extracts rows where the Metric column ends with 'metric_name' and returns only Metric and Value columns.\"\"\"\n",
    "    return df[df['Metric'].str.endswith(metric_name)][['Metric', 'Value']].sort_values(by='Metric')"
   ]
  },
  {
   "cell_type": "code",
   "execution_count": 5,
   "id": "5516a464-ebce-40ee-9461-f1cd6fed5382",
   "metadata": {},
   "outputs": [],
   "source": [
    "# TO DO SORT BY METRICS THEN FIX METRIC ORDER \n",
    "\n",
    "\n",
    "# function to extract data from a given epoch \n",
    "def summarize_by_step(df, step, agg_lev = 12):\n",
    "    df_filtered = df[df[\"Step\"] == step].copy()\n",
    "    df_filtered[\"Metric_Type\"] = df_filtered[\"Metric\"].str.extract(r\"(test_mse|test_kge|test_r2|test_mae|test_recur_mse|test_recur_kge|test_recur_r2|test_recur_mae)\")\n",
    "    df_filtered[\"HUC_ID\"] = df_filtered[\"Metric\"].str.extract(fr\"(\\d{{{agg_lev}}})\")  \n",
    "\n",
    "    # Take mean across HUC_ID if duplicates exist\n",
    "    if df_filtered.duplicated(subset=[\"HUC_ID\", \"Metric_Type\"]).any():\n",
    "        df_filtered = df_filtered.groupby([\"HUC_ID\", \"Metric_Type\"], as_index=False)[\"Value\"].mean()\n",
    "\n",
    "    df_pivot = df_filtered.pivot(index=\"HUC_ID\", columns=\"Metric_Type\", values=\"Value\")\n",
    "    df_pivot.columns = [\"Test KGE\", \"Test MAE\", \"Test MSE\", \"Test R2\", \"Test_Recur KGE\", \"Test_Recur MSE\", \"Test_Recur R2\", \"Test_Recur MAE\"]\n",
    "    df_pivot_sorted = df_pivot.sort_index()\n",
    "    df_selected = df_pivot_sorted[[\"Test MSE\", \"Test KGE\", \"Test_Recur MSE\", \"Test_Recur KGE\"]]\n",
    "    # print(df_selected)\n",
    "    return df_selected"
   ]
  },
  {
   "cell_type": "code",
   "execution_count": 12,
   "id": "b569138a-8ee0-4afe-a9f7-24cf64002770",
   "metadata": {},
   "outputs": [],
   "source": [
    "# function to summarize by epoch, all epochs\n",
    "def summarize_by_step_all(df, agg_lev = 12):\n",
    "    df_filtered = df.copy()\n",
    "    df_filtered[\"Metric_Type\"] = df_filtered[\"Metric\"].str.extract(r\"(test_mse|test_kge|test_r2|test_mae|test_recur_mse|test_recur_kge|test_recur_r2|test_recur_mae)\")\n",
    "    df_filtered[\"HUC_ID\"] = df_filtered[\"Metric\"].str.extract(fr\"(\\d{{{agg_lev}}})\") \n",
    "\n",
    "    #Take mean across HUC_ID if duplicates exist\n",
    "    if df_filtered.duplicated(subset=[\"HUC_ID\", \"Metric_Type\", \"Step\"]).any():\n",
    "        df_filtered = df_filtered.groupby([\"HUC_ID\", \"Metric_Type\", \"Step\"], as_index=False)[\"Value\"].mean()\n",
    "\n",
    "    #df_filtered = df_filtered[df_filtered.columns.drop(\"Metric\")]\n",
    "    df_pivot = df_filtered.pivot(index=[\"Step\", \"HUC_ID\"], columns=\"Metric_Type\", values=\"Value\").reset_index()\n",
    "    df_pivot.columns = [\"Step\", \"HUC_ID\", \"Test KGE\", \"Test MAE\", \"Test MSE\", \"Test R2\",  \"Test_Recur KGE\", \"Test_Recur MAE\", \"Test_Recur MSE\", \"Test_Recur R2\"]\n",
    "    df_pivot_sorted = df_pivot.sort_index()\n",
    "    df_selected = df_pivot_sorted[[\"Test MSE\", \"Test KGE\", \"Test_Recur MSE\", \"Test_Recur KGE\"]]\n",
    "    return df_selected\n",
    "  "
   ]
  },
  {
   "cell_type": "code",
   "execution_count": 7,
   "id": "d326b882-f79a-4ffe-af52-a840ace7140d",
   "metadata": {},
   "outputs": [],
   "source": [
    "\n",
    "#run_id = \"586bfeb7a5cc4b769205503c113e7528\" # upbeat smelt\n",
    "#last_step = 0\n",
    "#short_name = \"Maritime_DI_MSE_recur\"\n",
    "\n",
    "run_id = \"f957c4c9c8f44ce78cad41068764641b\"\n",
    "last_step = 9\n",
    "short_name = \"Montane_DI_MSE_recur\"\n",
    "\n"
   ]
  },
  {
   "cell_type": "code",
   "execution_count": 8,
   "id": "72f9cff8-9dd6-4f87-a22f-e7fe7268ae88",
   "metadata": {},
   "outputs": [
    {
     "name": "stdout",
     "output_type": "stream",
     "text": [
      "(8228, 3)\n"
     ]
    },
    {
     "data": {
      "text/html": [
       "<div>\n",
       "<style scoped>\n",
       "    .dataframe tbody tr th:only-of-type {\n",
       "        vertical-align: middle;\n",
       "    }\n",
       "\n",
       "    .dataframe tbody tr th {\n",
       "        vertical-align: top;\n",
       "    }\n",
       "\n",
       "    .dataframe thead th {\n",
       "        text-align: right;\n",
       "    }\n",
       "</style>\n",
       "<table border=\"1\" class=\"dataframe\">\n",
       "  <thead>\n",
       "    <tr style=\"text-align: right;\">\n",
       "      <th></th>\n",
       "      <th>Metric</th>\n",
       "      <th>Step</th>\n",
       "      <th>Value</th>\n",
       "    </tr>\n",
       "  </thead>\n",
       "  <tbody>\n",
       "    <tr>\n",
       "      <th>50</th>\n",
       "      <td>train_r2_170200090304</td>\n",
       "      <td>0</td>\n",
       "      <td>0.963951</td>\n",
       "    </tr>\n",
       "    <tr>\n",
       "      <th>51</th>\n",
       "      <td>train_r2_170200090304</td>\n",
       "      <td>5</td>\n",
       "      <td>0.964591</td>\n",
       "    </tr>\n",
       "  </tbody>\n",
       "</table>\n",
       "</div>"
      ],
      "text/plain": [
       "                   Metric  Step     Value\n",
       "50  train_r2_170200090304     0  0.963951\n",
       "51  train_r2_170200090304     5  0.964591"
      ]
     },
     "execution_count": 8,
     "metadata": {},
     "output_type": "execute_result"
    }
   ],
   "source": [
    "# upload from local \n",
    "f = f\"../../mlflow_data/run_id_data/metrics_from_{run_id}.csv\"\n",
    "df_all_single = pd.read_csv(f)\n",
    "print(df_all_single.shape)\n",
    "df_all_single[50:52]"
   ]
  },
  {
   "cell_type": "code",
   "execution_count": 9,
   "id": "4308c17e-a34b-4f1c-95d4-29d09825f5ba",
   "metadata": {},
   "outputs": [
    {
     "name": "stdout",
     "output_type": "stream",
     "text": [
      "(187, 4)\n"
     ]
    },
    {
     "data": {
      "text/html": [
       "<div>\n",
       "<style scoped>\n",
       "    .dataframe tbody tr th:only-of-type {\n",
       "        vertical-align: middle;\n",
       "    }\n",
       "\n",
       "    .dataframe tbody tr th {\n",
       "        vertical-align: top;\n",
       "    }\n",
       "\n",
       "    .dataframe thead th {\n",
       "        text-align: right;\n",
       "    }\n",
       "</style>\n",
       "<table border=\"1\" class=\"dataframe\">\n",
       "  <thead>\n",
       "    <tr style=\"text-align: right;\">\n",
       "      <th></th>\n",
       "      <th>Test MSE</th>\n",
       "      <th>Test KGE</th>\n",
       "      <th>Test_Recur MSE</th>\n",
       "      <th>Test_Recur KGE</th>\n",
       "    </tr>\n",
       "    <tr>\n",
       "      <th>HUC_ID</th>\n",
       "      <th></th>\n",
       "      <th></th>\n",
       "      <th></th>\n",
       "      <th></th>\n",
       "    </tr>\n",
       "  </thead>\n",
       "  <tbody>\n",
       "    <tr>\n",
       "      <th>170200100103</th>\n",
       "      <td>0.001122</td>\n",
       "      <td>0.845853</td>\n",
       "      <td>0.016380</td>\n",
       "      <td>0.835655</td>\n",
       "    </tr>\n",
       "    <tr>\n",
       "      <th>170200100204</th>\n",
       "      <td>0.003453</td>\n",
       "      <td>0.863988</td>\n",
       "      <td>0.036902</td>\n",
       "      <td>0.839683</td>\n",
       "    </tr>\n",
       "  </tbody>\n",
       "</table>\n",
       "</div>"
      ],
      "text/plain": [
       "              Test MSE  Test KGE  Test_Recur MSE  Test_Recur KGE\n",
       "HUC_ID                                                          \n",
       "170200100103  0.001122  0.845853        0.016380        0.835655\n",
       "170200100204  0.003453  0.863988        0.036902        0.839683"
      ]
     },
     "execution_count": 9,
     "metadata": {},
     "output_type": "execute_result"
    }
   ],
   "source": [
    "df_last = summarize_by_step(df_all_single, last_step)\n",
    "print(df_last.shape)\n",
    "df_last[50:52]"
   ]
  },
  {
   "cell_type": "code",
   "execution_count": 10,
   "id": "e7f7d165-797b-4924-9806-da26d3b512eb",
   "metadata": {},
   "outputs": [
    {
     "data": {
      "text/html": [
       "<div>\n",
       "<style scoped>\n",
       "    .dataframe tbody tr th:only-of-type {\n",
       "        vertical-align: middle;\n",
       "    }\n",
       "\n",
       "    .dataframe tbody tr th {\n",
       "        vertical-align: top;\n",
       "    }\n",
       "\n",
       "    .dataframe thead th {\n",
       "        text-align: right;\n",
       "    }\n",
       "</style>\n",
       "<table border=\"1\" class=\"dataframe\">\n",
       "  <thead>\n",
       "    <tr style=\"text-align: right;\">\n",
       "      <th></th>\n",
       "      <th>Test MSE</th>\n",
       "      <th>Test KGE</th>\n",
       "      <th>Test_Recur MSE</th>\n",
       "      <th>Test_Recur KGE</th>\n",
       "    </tr>\n",
       "  </thead>\n",
       "  <tbody>\n",
       "    <tr>\n",
       "      <th>count</th>\n",
       "      <td>187.000000</td>\n",
       "      <td>187.000000</td>\n",
       "      <td>187.000000</td>\n",
       "      <td>187.000000</td>\n",
       "    </tr>\n",
       "    <tr>\n",
       "      <th>mean</th>\n",
       "      <td>0.001858</td>\n",
       "      <td>0.899528</td>\n",
       "      <td>0.023064</td>\n",
       "      <td>0.897835</td>\n",
       "    </tr>\n",
       "    <tr>\n",
       "      <th>std</th>\n",
       "      <td>0.001355</td>\n",
       "      <td>0.059307</td>\n",
       "      <td>0.008882</td>\n",
       "      <td>0.065557</td>\n",
       "    </tr>\n",
       "    <tr>\n",
       "      <th>min</th>\n",
       "      <td>0.000242</td>\n",
       "      <td>0.601761</td>\n",
       "      <td>0.007959</td>\n",
       "      <td>0.564477</td>\n",
       "    </tr>\n",
       "    <tr>\n",
       "      <th>25%</th>\n",
       "      <td>0.000886</td>\n",
       "      <td>0.870508</td>\n",
       "      <td>0.016424</td>\n",
       "      <td>0.867768</td>\n",
       "    </tr>\n",
       "    <tr>\n",
       "      <th>50%</th>\n",
       "      <td>0.001515</td>\n",
       "      <td>0.911962</td>\n",
       "      <td>0.022113</td>\n",
       "      <td>0.912376</td>\n",
       "    </tr>\n",
       "    <tr>\n",
       "      <th>75%</th>\n",
       "      <td>0.002435</td>\n",
       "      <td>0.946000</td>\n",
       "      <td>0.029182</td>\n",
       "      <td>0.946576</td>\n",
       "    </tr>\n",
       "    <tr>\n",
       "      <th>max</th>\n",
       "      <td>0.008580</td>\n",
       "      <td>0.981343</td>\n",
       "      <td>0.054379</td>\n",
       "      <td>0.978410</td>\n",
       "    </tr>\n",
       "  </tbody>\n",
       "</table>\n",
       "</div>"
      ],
      "text/plain": [
       "         Test MSE    Test KGE  Test_Recur MSE  Test_Recur KGE\n",
       "count  187.000000  187.000000      187.000000      187.000000\n",
       "mean     0.001858    0.899528        0.023064        0.897835\n",
       "std      0.001355    0.059307        0.008882        0.065557\n",
       "min      0.000242    0.601761        0.007959        0.564477\n",
       "25%      0.000886    0.870508        0.016424        0.867768\n",
       "50%      0.001515    0.911962        0.022113        0.912376\n",
       "75%      0.002435    0.946000        0.029182        0.946576\n",
       "max      0.008580    0.981343        0.054379        0.978410"
      ]
     },
     "execution_count": 10,
     "metadata": {},
     "output_type": "execute_result"
    }
   ],
   "source": [
    "df_last.describe()"
   ]
  },
  {
   "cell_type": "code",
   "execution_count": 13,
   "id": "72c7cc2c-7fd6-4770-ac95-11c2ead60c96",
   "metadata": {},
   "outputs": [
    {
     "name": "stdout",
     "output_type": "stream",
     "text": [
      "(561, 4)\n"
     ]
    },
    {
     "data": {
      "text/html": [
       "<div>\n",
       "<style scoped>\n",
       "    .dataframe tbody tr th:only-of-type {\n",
       "        vertical-align: middle;\n",
       "    }\n",
       "\n",
       "    .dataframe tbody tr th {\n",
       "        vertical-align: top;\n",
       "    }\n",
       "\n",
       "    .dataframe thead th {\n",
       "        text-align: right;\n",
       "    }\n",
       "</style>\n",
       "<table border=\"1\" class=\"dataframe\">\n",
       "  <thead>\n",
       "    <tr style=\"text-align: right;\">\n",
       "      <th></th>\n",
       "      <th>Test MSE</th>\n",
       "      <th>Test KGE</th>\n",
       "      <th>Test_Recur MSE</th>\n",
       "      <th>Test_Recur KGE</th>\n",
       "    </tr>\n",
       "  </thead>\n",
       "  <tbody>\n",
       "    <tr>\n",
       "      <th>50</th>\n",
       "      <td>0.000623</td>\n",
       "      <td>0.915630</td>\n",
       "      <td>0.001216</td>\n",
       "      <td>0.815446</td>\n",
       "    </tr>\n",
       "    <tr>\n",
       "      <th>51</th>\n",
       "      <td>0.002027</td>\n",
       "      <td>0.944574</td>\n",
       "      <td>0.004008</td>\n",
       "      <td>0.856473</td>\n",
       "    </tr>\n",
       "  </tbody>\n",
       "</table>\n",
       "</div>"
      ],
      "text/plain": [
       "    Test MSE  Test KGE  Test_Recur MSE  Test_Recur KGE\n",
       "50  0.000623  0.915630        0.001216        0.815446\n",
       "51  0.002027  0.944574        0.004008        0.856473"
      ]
     },
     "execution_count": 13,
     "metadata": {},
     "output_type": "execute_result"
    }
   ],
   "source": [
    "df_all = summarize_by_step_all(df_all_single)\n",
    "print(df_all.shape)\n",
    "df_all[50:52]\n"
   ]
  },
  {
   "cell_type": "markdown",
   "id": "fc23f6ce-3c32-457d-9e5b-df39803dbdcf",
   "metadata": {},
   "source": [
    "# Step 2 - Plot histogram of test_kge for each epoch "
   ]
  },
  {
   "cell_type": "code",
   "execution_count": 14,
   "id": "473fb629-141e-4372-b7d9-856450919f24",
   "metadata": {},
   "outputs": [],
   "source": [
    "def plot_test_kge_histogram(df, output_file = \"histogram.png\", col_to_plot = \"Test KGE\" ):\n",
    "    \"\"\"\n",
    "    Plots a histogram of the test_kge values from a pandas DataFrame and saves it as 'histogram.png'.\n",
    "    \n",
    "    Parameters:\n",
    "    df (pd.DataFrame): DataFrame containing the column 'test_kge'.\n",
    "    \"\"\"\n",
    "    if col_to_plot not in df.columns:\n",
    "        raise ValueError(f\"DataFrame must contain a {col_to_plot} column\")\n",
    "    \n",
    "    test_kge_values = df[col_to_plot].dropna()\n",
    "    median_kge = np.median(test_kge_values)\n",
    "    \n",
    "    plt.figure(figsize=(8, 6))\n",
    "    plt.hist(df[col_to_plot].dropna(), bins=20, edgecolor='black', alpha=0.7)\n",
    "    plt.axvline(median_kge, color='red', linestyle='dashed', linewidth=2, label=f'Median: {median_kge:.2f}')\n",
    "    plt.text(median_kge, plt.ylim()[1] * 0.9, f'Median: {median_kge:.2f}', color='red', ha='right', fontsize=12, fontweight='bold')\n",
    "    plt.xlabel(col_to_plot)\n",
    "    plt.ylabel('Frequency')\n",
    "    plt.title('Histogram of Test KGE Values')\n",
    "    plt.grid(axis='y', linestyle='--', alpha=0.7)\n",
    "    plt.savefig(output_file)\n",
    "    plt.close()\n",
    "    return plt\n"
   ]
  },
  {
   "cell_type": "code",
   "execution_count": 15,
   "id": "979ced61-be9c-4840-a232-34cbf994d522",
   "metadata": {},
   "outputs": [],
   "source": [
    "def stepwise_hists(metrics, epochs, f_out, col_to_plot = \"Test KGE\"):\n",
    "\n",
    "    temp_files = []\n",
    "\n",
    "    for epoch in range(epochs): \n",
    "        metrics_epoch = summarize_by_step(metrics, epoch, agg_lev=12)  \n",
    "        temp_file = f\"hist_epoch_{epoch}.png\"\n",
    "        plot_test_kge_histogram(metrics_epoch, output_file=temp_file, col_to_plot = col_to_plot)\n",
    "        temp_files.append((epoch, temp_file))\n",
    "    \n",
    "    # Determine grid size\n",
    "    num_histograms = len(temp_files)\n",
    "    cols = 3  # Three per row\n",
    "    rows = (num_histograms + cols - 1) // cols  # Calculate needed rows\n",
    "\n",
    "    fig, axes = plt.subplots(rows, cols, figsize=(cols * 6, rows * 5))  # Adjust figure size\n",
    "    axes = np.array(axes).reshape(rows, cols)  # Ensure axes is always 2D\n",
    "\n",
    "    for ax in axes.flat:\n",
    "        ax.axis(\"off\")  # Hide all axes initially\n",
    "\n",
    "    for (epoch, temp_file), ax in zip(temp_files, axes.flat):\n",
    "        img = plt.imread(temp_file)  # Load the image\n",
    "        ax.imshow(img)\n",
    "        ax.set_title(f\"Histograme of {col_to_plot} Values for epoch {epoch}\", fontsize=14, fontweight=\"bold\")\n",
    "        ax.axis(\"off\")  # Hide axis labels\n",
    "\n",
    "    plt.tight_layout()\n",
    "    #f_out = f\"kge_hist/{run_id}_all_hists.png\"\n",
    "    plt.savefig(f_out, dpi=300)\n",
    "    plt.show()\n",
    "    plt.close()\n",
    "\n",
    "    # Cleanup temporary files\n",
    "    for _, f in temp_files:\n",
    "        os.remove(f)\n",
    "\n",
    "    print(f\"Saved combined histogram image as {f_out}\")"
   ]
  },
  {
   "cell_type": "code",
   "execution_count": 16,
   "id": "f2d40246-fcc6-42c3-aa61-b11faf864a35",
   "metadata": {},
   "outputs": [
    {
     "ename": "ValueError",
     "evalue": "Length mismatch: Expected axis has 0 elements, new values have 8 elements",
     "output_type": "error",
     "traceback": [
      "\u001b[0;31m---------------------------------------------------------------------------\u001b[0m",
      "\u001b[0;31mValueError\u001b[0m                                Traceback (most recent call last)",
      "Cell \u001b[0;32mIn[16], line 1\u001b[0m\n\u001b[0;32m----> 1\u001b[0m stepwise_hists(df_all_single, last_step\u001b[38;5;241m+\u001b[39m\u001b[38;5;241m1\u001b[39m, \u001b[38;5;124mf\u001b[39m\u001b[38;5;124m\"\u001b[39m\u001b[38;5;124mStepwise_Histogram_All_Hucs_Singly_Trained_\u001b[39m\u001b[38;5;132;01m{\u001b[39;00mshort_name\u001b[38;5;132;01m}\u001b[39;00m\u001b[38;5;124m\"\u001b[39m)\n",
      "Cell \u001b[0;32mIn[15], line 6\u001b[0m, in \u001b[0;36mstepwise_hists\u001b[0;34m(metrics, epochs, f_out, col_to_plot)\u001b[0m\n\u001b[1;32m      3\u001b[0m temp_files \u001b[38;5;241m=\u001b[39m []\n\u001b[1;32m      5\u001b[0m \u001b[38;5;28;01mfor\u001b[39;00m epoch \u001b[38;5;129;01min\u001b[39;00m \u001b[38;5;28mrange\u001b[39m(epochs): \n\u001b[0;32m----> 6\u001b[0m     metrics_epoch \u001b[38;5;241m=\u001b[39m summarize_by_step(metrics, epoch, agg_lev\u001b[38;5;241m=\u001b[39m\u001b[38;5;241m12\u001b[39m)  \n\u001b[1;32m      7\u001b[0m     temp_file \u001b[38;5;241m=\u001b[39m \u001b[38;5;124mf\u001b[39m\u001b[38;5;124m\"\u001b[39m\u001b[38;5;124mhist_epoch_\u001b[39m\u001b[38;5;132;01m{\u001b[39;00mepoch\u001b[38;5;132;01m}\u001b[39;00m\u001b[38;5;124m.png\u001b[39m\u001b[38;5;124m\"\u001b[39m\n\u001b[1;32m      8\u001b[0m     plot_test_kge_histogram(metrics_epoch, output_file\u001b[38;5;241m=\u001b[39mtemp_file, col_to_plot \u001b[38;5;241m=\u001b[39m col_to_plot)\n",
      "Cell \u001b[0;32mIn[5], line 15\u001b[0m, in \u001b[0;36msummarize_by_step\u001b[0;34m(df, step, agg_lev)\u001b[0m\n\u001b[1;32m     12\u001b[0m     df_filtered \u001b[38;5;241m=\u001b[39m df_filtered\u001b[38;5;241m.\u001b[39mgroupby([\u001b[38;5;124m\"\u001b[39m\u001b[38;5;124mHUC_ID\u001b[39m\u001b[38;5;124m\"\u001b[39m, \u001b[38;5;124m\"\u001b[39m\u001b[38;5;124mMetric_Type\u001b[39m\u001b[38;5;124m\"\u001b[39m], as_index\u001b[38;5;241m=\u001b[39m\u001b[38;5;28;01mFalse\u001b[39;00m)[\u001b[38;5;124m\"\u001b[39m\u001b[38;5;124mValue\u001b[39m\u001b[38;5;124m\"\u001b[39m]\u001b[38;5;241m.\u001b[39mmean()\n\u001b[1;32m     14\u001b[0m df_pivot \u001b[38;5;241m=\u001b[39m df_filtered\u001b[38;5;241m.\u001b[39mpivot(index\u001b[38;5;241m=\u001b[39m\u001b[38;5;124m\"\u001b[39m\u001b[38;5;124mHUC_ID\u001b[39m\u001b[38;5;124m\"\u001b[39m, columns\u001b[38;5;241m=\u001b[39m\u001b[38;5;124m\"\u001b[39m\u001b[38;5;124mMetric_Type\u001b[39m\u001b[38;5;124m\"\u001b[39m, values\u001b[38;5;241m=\u001b[39m\u001b[38;5;124m\"\u001b[39m\u001b[38;5;124mValue\u001b[39m\u001b[38;5;124m\"\u001b[39m)\n\u001b[0;32m---> 15\u001b[0m df_pivot\u001b[38;5;241m.\u001b[39mcolumns \u001b[38;5;241m=\u001b[39m [\u001b[38;5;124m\"\u001b[39m\u001b[38;5;124mTest KGE\u001b[39m\u001b[38;5;124m\"\u001b[39m, \u001b[38;5;124m\"\u001b[39m\u001b[38;5;124mTest MAE\u001b[39m\u001b[38;5;124m\"\u001b[39m, \u001b[38;5;124m\"\u001b[39m\u001b[38;5;124mTest MSE\u001b[39m\u001b[38;5;124m\"\u001b[39m, \u001b[38;5;124m\"\u001b[39m\u001b[38;5;124mTest R2\u001b[39m\u001b[38;5;124m\"\u001b[39m, \u001b[38;5;124m\"\u001b[39m\u001b[38;5;124mTest_Recur KGE\u001b[39m\u001b[38;5;124m\"\u001b[39m, \u001b[38;5;124m\"\u001b[39m\u001b[38;5;124mTest_Recur MSE\u001b[39m\u001b[38;5;124m\"\u001b[39m, \u001b[38;5;124m\"\u001b[39m\u001b[38;5;124mTest_Recur R2\u001b[39m\u001b[38;5;124m\"\u001b[39m, \u001b[38;5;124m\"\u001b[39m\u001b[38;5;124mTest_Recur MAE\u001b[39m\u001b[38;5;124m\"\u001b[39m]\n\u001b[1;32m     16\u001b[0m df_pivot_sorted \u001b[38;5;241m=\u001b[39m df_pivot\u001b[38;5;241m.\u001b[39msort_index()\n\u001b[1;32m     17\u001b[0m df_selected \u001b[38;5;241m=\u001b[39m df_pivot_sorted[[\u001b[38;5;124m\"\u001b[39m\u001b[38;5;124mTest MSE\u001b[39m\u001b[38;5;124m\"\u001b[39m, \u001b[38;5;124m\"\u001b[39m\u001b[38;5;124mTest KGE\u001b[39m\u001b[38;5;124m\"\u001b[39m, \u001b[38;5;124m\"\u001b[39m\u001b[38;5;124mTest_Recur MSE\u001b[39m\u001b[38;5;124m\"\u001b[39m, \u001b[38;5;124m\"\u001b[39m\u001b[38;5;124mTest_Recur KGE\u001b[39m\u001b[38;5;124m\"\u001b[39m]]\n",
      "File \u001b[0;32m~/miniconda3/lib/python3.11/site-packages/pandas/core/generic.py:6313\u001b[0m, in \u001b[0;36mNDFrame.__setattr__\u001b[0;34m(self, name, value)\u001b[0m\n\u001b[1;32m   6311\u001b[0m \u001b[38;5;28;01mtry\u001b[39;00m:\n\u001b[1;32m   6312\u001b[0m     \u001b[38;5;28mobject\u001b[39m\u001b[38;5;241m.\u001b[39m\u001b[38;5;21m__getattribute__\u001b[39m(\u001b[38;5;28mself\u001b[39m, name)\n\u001b[0;32m-> 6313\u001b[0m     \u001b[38;5;28;01mreturn\u001b[39;00m \u001b[38;5;28mobject\u001b[39m\u001b[38;5;241m.\u001b[39m\u001b[38;5;21m__setattr__\u001b[39m(\u001b[38;5;28mself\u001b[39m, name, value)\n\u001b[1;32m   6314\u001b[0m \u001b[38;5;28;01mexcept\u001b[39;00m \u001b[38;5;167;01mAttributeError\u001b[39;00m:\n\u001b[1;32m   6315\u001b[0m     \u001b[38;5;28;01mpass\u001b[39;00m\n",
      "File \u001b[0;32mproperties.pyx:69\u001b[0m, in \u001b[0;36mpandas._libs.properties.AxisProperty.__set__\u001b[0;34m()\u001b[0m\n",
      "File \u001b[0;32m~/miniconda3/lib/python3.11/site-packages/pandas/core/generic.py:814\u001b[0m, in \u001b[0;36mNDFrame._set_axis\u001b[0;34m(self, axis, labels)\u001b[0m\n\u001b[1;32m    809\u001b[0m \u001b[38;5;250m\u001b[39m\u001b[38;5;124;03m\"\"\"\u001b[39;00m\n\u001b[1;32m    810\u001b[0m \u001b[38;5;124;03mThis is called from the cython code when we set the `index` attribute\u001b[39;00m\n\u001b[1;32m    811\u001b[0m \u001b[38;5;124;03mdirectly, e.g. `series.index = [1, 2, 3]`.\u001b[39;00m\n\u001b[1;32m    812\u001b[0m \u001b[38;5;124;03m\"\"\"\u001b[39;00m\n\u001b[1;32m    813\u001b[0m labels \u001b[38;5;241m=\u001b[39m ensure_index(labels)\n\u001b[0;32m--> 814\u001b[0m \u001b[38;5;28mself\u001b[39m\u001b[38;5;241m.\u001b[39m_mgr\u001b[38;5;241m.\u001b[39mset_axis(axis, labels)\n\u001b[1;32m    815\u001b[0m \u001b[38;5;28mself\u001b[39m\u001b[38;5;241m.\u001b[39m_clear_item_cache()\n",
      "File \u001b[0;32m~/miniconda3/lib/python3.11/site-packages/pandas/core/internals/managers.py:238\u001b[0m, in \u001b[0;36mBaseBlockManager.set_axis\u001b[0;34m(self, axis, new_labels)\u001b[0m\n\u001b[1;32m    236\u001b[0m \u001b[38;5;28;01mdef\u001b[39;00m \u001b[38;5;21mset_axis\u001b[39m(\u001b[38;5;28mself\u001b[39m, axis: AxisInt, new_labels: Index) \u001b[38;5;241m-\u001b[39m\u001b[38;5;241m>\u001b[39m \u001b[38;5;28;01mNone\u001b[39;00m:\n\u001b[1;32m    237\u001b[0m     \u001b[38;5;66;03m# Caller is responsible for ensuring we have an Index object.\u001b[39;00m\n\u001b[0;32m--> 238\u001b[0m     \u001b[38;5;28mself\u001b[39m\u001b[38;5;241m.\u001b[39m_validate_set_axis(axis, new_labels)\n\u001b[1;32m    239\u001b[0m     \u001b[38;5;28mself\u001b[39m\u001b[38;5;241m.\u001b[39maxes[axis] \u001b[38;5;241m=\u001b[39m new_labels\n",
      "File \u001b[0;32m~/miniconda3/lib/python3.11/site-packages/pandas/core/internals/base.py:98\u001b[0m, in \u001b[0;36mDataManager._validate_set_axis\u001b[0;34m(self, axis, new_labels)\u001b[0m\n\u001b[1;32m     95\u001b[0m     \u001b[38;5;28;01mpass\u001b[39;00m\n\u001b[1;32m     97\u001b[0m \u001b[38;5;28;01melif\u001b[39;00m new_len \u001b[38;5;241m!=\u001b[39m old_len:\n\u001b[0;32m---> 98\u001b[0m     \u001b[38;5;28;01mraise\u001b[39;00m \u001b[38;5;167;01mValueError\u001b[39;00m(\n\u001b[1;32m     99\u001b[0m         \u001b[38;5;124mf\u001b[39m\u001b[38;5;124m\"\u001b[39m\u001b[38;5;124mLength mismatch: Expected axis has \u001b[39m\u001b[38;5;132;01m{\u001b[39;00mold_len\u001b[38;5;132;01m}\u001b[39;00m\u001b[38;5;124m elements, new \u001b[39m\u001b[38;5;124m\"\u001b[39m\n\u001b[1;32m    100\u001b[0m         \u001b[38;5;124mf\u001b[39m\u001b[38;5;124m\"\u001b[39m\u001b[38;5;124mvalues have \u001b[39m\u001b[38;5;132;01m{\u001b[39;00mnew_len\u001b[38;5;132;01m}\u001b[39;00m\u001b[38;5;124m elements\u001b[39m\u001b[38;5;124m\"\u001b[39m\n\u001b[1;32m    101\u001b[0m     )\n",
      "\u001b[0;31mValueError\u001b[0m: Length mismatch: Expected axis has 0 elements, new values have 8 elements"
     ]
    }
   ],
   "source": [
    "stepwise_hists(df_all_single, last_step+1, f\"Stepwise_Histogram_All_Hucs_Singly_Trained_{short_name}\")"
   ]
  },
  {
   "cell_type": "code",
   "execution_count": null,
   "id": "b092f5e8-b131-41a0-a421-460f4d11add4",
   "metadata": {},
   "outputs": [],
   "source": [
    "stepwise_hists(df_all_single, last_step+1, f\"Stepwise_Histogram_All_Hucs_Singly_Trained_{short_name}\", col_to_plot = \"Test_Recur KGE\")"
   ]
  },
  {
   "cell_type": "markdown",
   "id": "ac403071-cbf0-4f47-b30d-26979796e2fb",
   "metadata": {},
   "source": [
    "# Step 2A - BoxPlots of KGE by Epoch"
   ]
  },
  {
   "cell_type": "code",
   "execution_count": null,
   "id": "de2d2fe0-848e-44fe-8d81-ac0a518d213c",
   "metadata": {},
   "outputs": [],
   "source": [
    "parameter = \"Test KGE\" \n",
    "title = f\"{parameter}_by_Epoch_{short_name}\"\n",
    "groupby_column = \"Step\"\n",
    "\n",
    "plt.figure(figsize=(10, 6))\n",
    "sns.boxplot(data=df_all, x=groupby_column, y=parameter)\n",
    "plt.title(title)\n",
    "output_file = f\"charts/{title}.png\"\n",
    "plt.savefig(output_file, bbox_inches='tight')"
   ]
  },
  {
   "cell_type": "code",
   "execution_count": null,
   "id": "b8636f5a-6b93-4ab2-af7c-463fc85d4f00",
   "metadata": {},
   "outputs": [],
   "source": [
    "grouped_data = df_all.groupby(groupby_column)[parameter].agg(['count', 'median', 'mean', 'std'])\n",
    "grouped_data.head(2)"
   ]
  },
  {
   "cell_type": "markdown",
   "id": "7313c863-e971-46f0-9afd-b44ce355c15c",
   "metadata": {},
   "source": [
    "# Step 3 - Extract Last Epoch of Data "
   ]
  },
  {
   "cell_type": "code",
   "execution_count": null,
   "id": "a8363acd-5101-4014-bdbd-6d6cf5136c33",
   "metadata": {},
   "outputs": [],
   "source": [
    "# extract the last epoch of data \n",
    "df_all_last =  summarize_by_step(df_all_single, last_step, agg_lev = 12)\n",
    "print(df_all_last.shape)\n",
    "df_all_last.head(2)"
   ]
  },
  {
   "cell_type": "markdown",
   "id": "ec9134cf-21bc-4943-9d38-f24eb72d2e01",
   "metadata": {},
   "source": [
    "# Step 4 Add in Snow Class Data "
   ]
  },
  {
   "cell_type": "code",
   "execution_count": null,
   "id": "0c62b881-abdd-47f8-840a-8e32fe7f5c0b",
   "metadata": {},
   "outputs": [],
   "source": [
    "# get the snow class data \n",
    "HUC_LIST = [17010302, 17010304,\n",
    "            17020009, 17020010, 17020011,\n",
    "            17030001, 17030002, 17030003,\n",
    "            17060207, 17060208, \n",
    "            17110005, 17110006, 17110007, 17110008, 17110009]\n",
    "\n",
    "#HUC_LIST = [16040101, 16040102, 16040103, 16040106, 16040109]\n",
    "\n",
    "HUC_LIST_OF_LISTS = [[huc, '12'] for huc in HUC_LIST]\n",
    "df_dict = {} \n",
    "for input_pair in HUC_LIST_OF_LISTS: \n",
    "    #print(f\"processing huc {input_pair[0]}\")\n",
    "    _, _, df_predom = st.process_all(input_pair[0], input_pair[1])\n",
    "    df_dict[input_pair[0]] = df_predom\n"
   ]
  },
  {
   "cell_type": "code",
   "execution_count": null,
   "id": "e99133f7-6a19-4d63-9176-b51aa7ef8a50",
   "metadata": {},
   "outputs": [],
   "source": [
    "# combine the dfs\n",
    "df_list = []\n",
    "for huc_id, df in df_dict.items():\n",
    "    df_list.append(df)\n",
    "df_extra = pd.concat(df_list)\n",
    "df_extra = df_extra.set_index(\"huc_id\")\n",
    "print(df_extra.shape)\n",
    "df_extra.head(2)"
   ]
  },
  {
   "cell_type": "code",
   "execution_count": null,
   "id": "5752d484-d77e-4f1d-99e4-5abbc0c81418",
   "metadata": {},
   "outputs": [],
   "source": [
    "# Merge the additional data with df_all_ep10 based on the index (huc_id)\n",
    "df_merged = df_all_last.merge(df_extra, left_index=True, right_index=True, how=\"left\")\n",
    "\n",
    "# select columns to display\n",
    "col_to_kp = [\"Test MSE\", \"Test KGE\", \"Ephemeral\", \"Predominant_Snow\"]\n",
    "df_merged = df_merged[col_to_kp]\n",
    "\n",
    "# Display the updated worst10\n",
    "print(df_merged.shape)\n",
    "df_merged.head(2)"
   ]
  },
  {
   "cell_type": "code",
   "execution_count": null,
   "id": "3d59b963-5bcf-4235-8666-ddc7c6be9380",
   "metadata": {},
   "outputs": [],
   "source": [
    "# Define color mapping\n",
    "color_map = {\n",
    "    \"Ephemeral\": \"#E6E6FA\",\n",
    "    \"Maritime\": \"blue\",\n",
    "    \"Montane Forest\": \"darkgreen\",\n",
    "    \"Prairie\": \"lightgreen\",\n",
    "}\n",
    "\n",
    "# Assign colors based on the Predominant_Snow column, defaulting to red if not in the map\n",
    "df_merged[\"color_snow_type\"] = df_merged[\"Predominant_Snow\"].map(color_map).fillna(\"white\")\n",
    "df_merged.head(2)\n"
   ]
  },
  {
   "cell_type": "code",
   "execution_count": null,
   "id": "422c407a-734f-47ee-86bb-62fa0f51bde1",
   "metadata": {},
   "outputs": [],
   "source": [
    "# Step 5 Add in Basin Geometries & Mean elevation "
   ]
  },
  {
   "cell_type": "code",
   "execution_count": null,
   "id": "d1a1e37c-6427-46f3-be39-d8389fc2c600",
   "metadata": {},
   "outputs": [],
   "source": [
    "time_start = time.time()\n",
    "df_merged2 = df_merged.copy()\n",
    "num_hucs = len(df_merged2.index)\n",
    "print(f\"hucs to process is {num_hucs}\")\n",
    "i = 0 \n",
    "for huc_id in df_merged2.index: \n",
    "    i+=1\n",
    "    if i%10 == 0: \n",
    "        print(f\"Done processing {i} hucs\")\n",
    "    geos = gg.get_geos_with_name(huc_id, '12')\n",
    "    df_merged2.loc[df_merged2.index == huc_id, \"Name\"] = geos.iloc[0][\"name\"]\n",
    "    df_merged2.loc[df_merged2.index == huc_id, \"geometry\"] = geos.iloc[0][\"geometry\"]\n",
    "    dem_ds = gd.get_dem(geos)\n",
    "    mean_elev = gd.calc_mean_dem(dem_ds)\n",
    "    df_merged2.loc[df_merged2.index == huc_id, \"mean_elevation\"] = mean_elev\n",
    "merged_gdf = gpd.GeoDataFrame(df_merged2, geometry=\"geometry\")\n",
    "merged_gdf.set_crs(\"EPSG:4326\", inplace=True) \n",
    "du.elapsed(time_start)\n",
    "\n",
    "\n",
    "# Note: This takes about 30 minutes!"
   ]
  },
  {
   "cell_type": "code",
   "execution_count": null,
   "id": "ed53291d-fcb7-4090-8e30-c08c82c919ec",
   "metadata": {},
   "outputs": [],
   "source": [
    "merged_gdf.head(2)"
   ]
  },
  {
   "cell_type": "code",
   "execution_count": null,
   "id": "cbe610fd-c0ac-43d7-b27c-4367e720d6f1",
   "metadata": {},
   "outputs": [],
   "source": [
    "# Step 6 - Add a column to indicate which Huc08 the Huc_ID Belongs To \n",
    "merged_gdf['Huc_08'] = merged_gdf.index.astype(str).str[:8]\n",
    "merged_gdf.head(2)"
   ]
  },
  {
   "cell_type": "code",
   "execution_count": null,
   "id": "3cdbaa07-8d1c-4bc0-b16a-7083a2d0a30c",
   "metadata": {},
   "outputs": [],
   "source": [
    "# create a df of unique huc_08 values, and find the corresponding huc name \n",
    "df_huc_08 = merged_gdf[['Huc_08']].drop_duplicates().reset_index(drop=True)\n",
    "for huc_id in df_huc_08[\"Huc_08\"]:  \n",
    "    geos = gg.get_geos_with_name(huc_id, '08')\n",
    "    name = geos.iloc[0][\"name\"]\n",
    "    df_huc_08.loc[df_huc_08[\"Huc_08\"] == huc_id, \"Huc_08_nm\"] = name\n",
    "df_huc_08"
   ]
  },
  {
   "cell_type": "code",
   "execution_count": null,
   "id": "da4c9bb8-9335-41bc-b6e1-01febb235b57",
   "metadata": {},
   "outputs": [],
   "source": []
  },
  {
   "cell_type": "code",
   "execution_count": null,
   "id": "f232c20d-0dae-4af7-8bcc-c7281b39f7e2",
   "metadata": {},
   "outputs": [],
   "source": [
    "# Reset index of merged_gdf to make HUC_ID a regular column before merging\n",
    "merged_gdf_reset = merged_gdf.reset_index()\n",
    "\n",
    "# Merge using the Huc_08 column and preserve all values from merged_gdf\n",
    "merged_gdf_with_huc_nm = merged_gdf_reset.merge(df_huc_08, on=\"Huc_08\", how=\"left\")\n",
    "\n",
    "# Set the index back to the original HUC_ID after the merge\n",
    "merged_gdf_with_huc_nm.set_index('HUC_ID', inplace=True)\n",
    "\n",
    "# Show the first two rows\n",
    "merged_gdf_with_huc_nm.head(2)\n"
   ]
  },
  {
   "cell_type": "code",
   "execution_count": null,
   "id": "d34c5a1f-480f-4df9-b0b9-ebcc6297c9d2",
   "metadata": {},
   "outputs": [],
   "source": [
    "col_to_kp = [\"Name\", \"Test MSE\", \"Test KGE\", \"Predominant_Snow\", \"color_snow_type\", \"mean_elevation\", \"Huc_08\", \"Huc_08_nm\", \"geometry\"]"
   ]
  },
  {
   "cell_type": "code",
   "execution_count": null,
   "id": "e832b00a-9d12-4eed-974b-1cac8610b76b",
   "metadata": {},
   "outputs": [],
   "source": [
    "merged_gdf_slim = merged_gdf_with_huc_nm[col_to_kp]\n",
    "merged_gdf_slim.head(2)"
   ]
  },
  {
   "cell_type": "code",
   "execution_count": null,
   "id": "b6101a31-27d6-4228-90ef-b175bc5ad578",
   "metadata": {},
   "outputs": [],
   "source": [
    "merged_gdf_slim.explore(color=merged_gdf_slim['color_snow_type'], legend=True)"
   ]
  },
  {
   "cell_type": "code",
   "execution_count": null,
   "id": "29cfb50c-f0fa-41f6-8adf-0d920450934b",
   "metadata": {},
   "outputs": [],
   "source": [
    "snow_type_counts = merged_gdf_slim[\"Predominant_Snow\"].value_counts()\n",
    "print(snow_type_counts)\n"
   ]
  },
  {
   "cell_type": "code",
   "execution_count": null,
   "id": "406905fb-e153-42ea-a55e-b954b40b6461",
   "metadata": {},
   "outputs": [],
   "source": [
    "# Step Last Save File "
   ]
  },
  {
   "cell_type": "code",
   "execution_count": null,
   "id": "6f67ac5a-d8a1-4936-a451-8c638b64eccb",
   "metadata": {},
   "outputs": [],
   "source": [
    "# save the combined data to a local_file\n",
    "f = f\"single_all_metrics_w_snow_types_and_elev_{short_name}.csv\"\n",
    "merged_gdf_slim.to_csv(f, index = True)"
   ]
  },
  {
   "cell_type": "code",
   "execution_count": null,
   "id": "688adfd3-1ca7-40a6-9905-84a0fe37f673",
   "metadata": {},
   "outputs": [],
   "source": [
    "print(f)"
   ]
  },
  {
   "cell_type": "code",
   "execution_count": null,
   "id": "dfc13af6-36cc-4942-9f6f-e3fc1970dca0",
   "metadata": {},
   "outputs": [],
   "source": []
  }
 ],
 "metadata": {
  "kernelspec": {
   "display_name": "Python 3 (ipykernel)",
   "language": "python",
   "name": "python3"
  },
  "language_info": {
   "codemirror_mode": {
    "name": "ipython",
    "version": 3
   },
   "file_extension": ".py",
   "mimetype": "text/x-python",
   "name": "python",
   "nbconvert_exporter": "python",
   "pygments_lexer": "ipython3",
   "version": "3.11.8"
  }
 },
 "nbformat": 4,
 "nbformat_minor": 5
}
