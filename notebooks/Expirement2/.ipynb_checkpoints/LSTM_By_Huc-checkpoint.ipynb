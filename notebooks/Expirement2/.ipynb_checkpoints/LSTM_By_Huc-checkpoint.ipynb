{
 "cells": [
  {
   "cell_type": "markdown",
   "id": "40c7cd88-c6f2-49c0-a317-1ae3e07266d7",
   "metadata": {},
   "source": [
    "# Notebook to Investigate LSTM Performance Variance by Huc Type"
   ]
  },
  {
   "cell_type": "markdown",
   "id": "e190667a-9b99-44c4-87a8-8d36f8bea340",
   "metadata": {},
   "source": [
    "# Step 0 - Set up Notebook"
   ]
  },
  {
   "cell_type": "code",
   "execution_count": 1,
   "id": "bef22fa2-0a8e-4982-bd09-bdb98e4d848c",
   "metadata": {},
   "outputs": [],
   "source": [
    "# import needed libaries\n",
    "import os\n",
    "import boto3\n",
    "import mlflow\n",
    "from PIL import Image\n",
    "import pandas as pd\n",
    "import matplotlib.pyplot as plt\n",
    "import numpy as np\n",
    "from snowML import snow_types as st"
   ]
  },
  {
   "cell_type": "code",
   "execution_count": 2,
   "id": "a97c2faf-fcda-42d0-9120-0eacc9073064",
   "metadata": {},
   "outputs": [
    {
     "data": {
      "text/plain": [
       "True"
      ]
     },
     "execution_count": 2,
     "metadata": {},
     "output_type": "execute_result"
    }
   ],
   "source": [
    "# initialize erathengine credentials\n",
    "import ee\n",
    "ee.Authenticate()"
   ]
  },
  {
   "cell_type": "markdown",
   "id": "06deed74-0fac-4b31-8687-14affeefeccc",
   "metadata": {},
   "source": [
    "# Step1 - Download MLFlow Metrics"
   ]
  },
  {
   "cell_type": "code",
   "execution_count": 7,
   "id": "7f61535f-d48c-479d-b934-8f21114372f8",
   "metadata": {},
   "outputs": [],
   "source": [
    "# function to retrieve metrics from ML server \n",
    "def load_ml_metrics(tracking_uri, run_id, save_local=False):\n",
    "    mlflow.set_tracking_uri(tracking_uri)\n",
    "    client = mlflow.MlflowClient()\n",
    "    # Get all metric keys from the run\n",
    "    run_data = client.get_run(run_id).data\n",
    "    metric_keys = run_data.metrics.keys()\n",
    "    # Retrieve full metric history for each key\n",
    "    all_metrics = []\n",
    "    for metric in metric_keys:\n",
    "        history = client.get_metric_history(run_id, metric)\n",
    "        for record in history:\n",
    "            all_metrics.append({\n",
    "                \"Metric\": metric,\n",
    "                \"Step\": record.step,\n",
    "                \"Value\": record.value\n",
    "            })\n",
    "    \n",
    "    # Convert to DataFrame\n",
    "    metrics_df = pd.DataFrame(all_metrics)\n",
    "    \n",
    "    # Save to CSV if needed\n",
    "    if save_local:\n",
    "        f_out = f\"run_id_data/metrics_from_{run_id}.csv\"\n",
    "        metrics_df.to_csv(f_out, index=False)\n",
    "\n",
    "    return metrics_df"
   ]
  },
  {
   "cell_type": "code",
   "execution_count": 8,
   "id": "f56f849d-2653-497f-a35e-f218e4cd500a",
   "metadata": {},
   "outputs": [],
   "source": [
    "# function to extract only a specific metric\n",
    "def extract_metric(df, metric_name):\n",
    "    \"\"\"Extracts rows where the Metric column ends with 'metric_name' and returns only Metric and Value columns.\"\"\"\n",
    "    return df[df['Metric'].str.endswith(metric_name)][['Metric', 'Value']].sort_values(by='Metric')"
   ]
  },
  {
   "cell_type": "code",
   "execution_count": 9,
   "id": "0e1ac705-5f37-4140-aba8-c6b4cb60076d",
   "metadata": {},
   "outputs": [],
   "source": [
    "# set mlFlow tracking server \n",
    "tracking_uri = \"arn:aws:sagemaker:us-west-2:677276086662:mlflow-tracking-server/dawgsML\"\n",
    "\n",
    "# define our run_ids by recognizable names \n",
    "all_single = \"69d929bbdfdd43b4a2f45b823d945eb7\" # ~300 different huc12 units, 10 epochs each, dapper-pig-680 "
   ]
  },
  {
   "cell_type": "code",
   "execution_count": 10,
   "id": "72f9cff8-9dd6-4f87-a22f-e7fe7268ae88",
   "metadata": {},
   "outputs": [
    {
     "ename": "UnsupportedModelRegistryStoreURIException",
     "evalue": " Model registry functionality is unavailable; got unsupported URI 'arn:aws:sagemaker:us-west-2:677276086662:mlflow-tracking-server/dawgsML' for model registry data storage. Supported URI schemes are: ['', 'file', 'databricks', 'databricks-uc', 'uc', 'http', 'https', 'postgresql', 'mysql', 'sqlite', 'mssql']. See https://www.mlflow.org/docs/latest/tracking.html#storage for how to run an MLflow server against one of the supported backend storage locations.",
     "output_type": "error",
     "traceback": [
      "\u001b[0;31m---------------------------------------------------------------------------\u001b[0m",
      "\u001b[0;31mKeyError\u001b[0m                                  Traceback (most recent call last)",
      "File \u001b[0;32m~/miniconda3/lib/python3.11/site-packages/mlflow/tracking/registry.py:81\u001b[0m, in \u001b[0;36mStoreRegistry.get_store_builder\u001b[0;34m(self, store_uri)\u001b[0m\n\u001b[1;32m     80\u001b[0m \u001b[38;5;28;01mtry\u001b[39;00m:\n\u001b[0;32m---> 81\u001b[0m     store_builder \u001b[38;5;241m=\u001b[39m \u001b[38;5;28mself\u001b[39m\u001b[38;5;241m.\u001b[39m_registry[scheme]\n\u001b[1;32m     82\u001b[0m \u001b[38;5;28;01mexcept\u001b[39;00m \u001b[38;5;167;01mKeyError\u001b[39;00m:\n",
      "\u001b[0;31mKeyError\u001b[0m: 'arn'",
      "\nDuring handling of the above exception, another exception occurred:\n",
      "\u001b[0;31mUnsupportedModelRegistryStoreURIException\u001b[0m Traceback (most recent call last)",
      "Cell \u001b[0;32mIn[10], line 1\u001b[0m\n\u001b[0;32m----> 1\u001b[0m df_all_single \u001b[38;5;241m=\u001b[39m load_ml_metrics(tracking_uri, all_single, save_local \u001b[38;5;241m=\u001b[39m \u001b[38;5;28;01mTrue\u001b[39;00m)\n",
      "Cell \u001b[0;32mIn[7], line 4\u001b[0m, in \u001b[0;36mload_ml_metrics\u001b[0;34m(tracking_uri, run_id, save_local)\u001b[0m\n\u001b[1;32m      2\u001b[0m \u001b[38;5;28;01mdef\u001b[39;00m \u001b[38;5;21mload_ml_metrics\u001b[39m(tracking_uri, run_id, save_local\u001b[38;5;241m=\u001b[39m\u001b[38;5;28;01mFalse\u001b[39;00m):\n\u001b[1;32m      3\u001b[0m     mlflow\u001b[38;5;241m.\u001b[39mset_tracking_uri(tracking_uri)\n\u001b[0;32m----> 4\u001b[0m     client \u001b[38;5;241m=\u001b[39m mlflow\u001b[38;5;241m.\u001b[39mMlflowClient()\n\u001b[1;32m      5\u001b[0m     \u001b[38;5;66;03m# Get all metric keys from the run\u001b[39;00m\n\u001b[1;32m      6\u001b[0m     run_data \u001b[38;5;241m=\u001b[39m client\u001b[38;5;241m.\u001b[39mget_run(run_id)\u001b[38;5;241m.\u001b[39mdata\n",
      "File \u001b[0;32m~/miniconda3/lib/python3.11/site-packages/mlflow/tracking/client.py:134\u001b[0m, in \u001b[0;36mMlflowClient.__init__\u001b[0;34m(self, tracking_uri, registry_uri)\u001b[0m\n\u001b[1;32m    132\u001b[0m final_tracking_uri \u001b[38;5;241m=\u001b[39m utils\u001b[38;5;241m.\u001b[39m_resolve_tracking_uri(tracking_uri)\n\u001b[1;32m    133\u001b[0m \u001b[38;5;28mself\u001b[39m\u001b[38;5;241m.\u001b[39m_registry_uri \u001b[38;5;241m=\u001b[39m registry_utils\u001b[38;5;241m.\u001b[39m_resolve_registry_uri(registry_uri, tracking_uri)\n\u001b[0;32m--> 134\u001b[0m \u001b[38;5;28mself\u001b[39m\u001b[38;5;241m.\u001b[39m_tracking_client \u001b[38;5;241m=\u001b[39m TrackingServiceClient(final_tracking_uri)\n",
      "File \u001b[0;32m~/miniconda3/lib/python3.11/site-packages/mlflow/tracking/_tracking_service/client.py:83\u001b[0m, in \u001b[0;36mTrackingServiceClient.__init__\u001b[0;34m(self, tracking_uri)\u001b[0m\n\u001b[1;32m     78\u001b[0m \u001b[38;5;28mself\u001b[39m\u001b[38;5;241m.\u001b[39mtracking_uri \u001b[38;5;241m=\u001b[39m tracking_uri\n\u001b[1;32m     79\u001b[0m \u001b[38;5;66;03m# NB: Fetch the tracking store (`self.store`) upon client initialization to ensure that\u001b[39;00m\n\u001b[1;32m     80\u001b[0m \u001b[38;5;66;03m# the tracking URI is valid and the store can be properly resolved. We define `store` as a\u001b[39;00m\n\u001b[1;32m     81\u001b[0m \u001b[38;5;66;03m# property method to ensure that the client is serializable, even if the store is not\u001b[39;00m\n\u001b[1;32m     82\u001b[0m \u001b[38;5;66;03m# self.store\u001b[39;00m\n\u001b[0;32m---> 83\u001b[0m \u001b[38;5;28mself\u001b[39m\u001b[38;5;241m.\u001b[39mstore\n",
      "File \u001b[0;32m~/miniconda3/lib/python3.11/site-packages/mlflow/tracking/_tracking_service/client.py:87\u001b[0m, in \u001b[0;36mTrackingServiceClient.store\u001b[0;34m(self)\u001b[0m\n\u001b[1;32m     85\u001b[0m \u001b[38;5;129m@property\u001b[39m\n\u001b[1;32m     86\u001b[0m \u001b[38;5;28;01mdef\u001b[39;00m \u001b[38;5;21mstore\u001b[39m(\u001b[38;5;28mself\u001b[39m):\n\u001b[0;32m---> 87\u001b[0m     \u001b[38;5;28;01mreturn\u001b[39;00m utils\u001b[38;5;241m.\u001b[39m_get_store(\u001b[38;5;28mself\u001b[39m\u001b[38;5;241m.\u001b[39mtracking_uri)\n",
      "File \u001b[0;32m~/miniconda3/lib/python3.11/site-packages/mlflow/tracking/_tracking_service/utils.py:210\u001b[0m, in \u001b[0;36m_get_store\u001b[0;34m(store_uri, artifact_uri)\u001b[0m\n\u001b[1;32m    209\u001b[0m \u001b[38;5;28;01mdef\u001b[39;00m \u001b[38;5;21m_get_store\u001b[39m(store_uri\u001b[38;5;241m=\u001b[39m\u001b[38;5;28;01mNone\u001b[39;00m, artifact_uri\u001b[38;5;241m=\u001b[39m\u001b[38;5;28;01mNone\u001b[39;00m):\n\u001b[0;32m--> 210\u001b[0m     \u001b[38;5;28;01mreturn\u001b[39;00m _tracking_store_registry\u001b[38;5;241m.\u001b[39mget_store(store_uri, artifact_uri)\n",
      "File \u001b[0;32m~/miniconda3/lib/python3.11/site-packages/mlflow/tracking/_tracking_service/registry.py:45\u001b[0m, in \u001b[0;36mTrackingStoreRegistry.get_store\u001b[0;34m(self, store_uri, artifact_uri)\u001b[0m\n\u001b[1;32m     42\u001b[0m \u001b[38;5;28;01mfrom\u001b[39;00m \u001b[38;5;21;01mmlflow\u001b[39;00m\u001b[38;5;21;01m.\u001b[39;00m\u001b[38;5;21;01mtracking\u001b[39;00m\u001b[38;5;21;01m.\u001b[39;00m\u001b[38;5;21;01m_tracking_service\u001b[39;00m \u001b[38;5;28;01mimport\u001b[39;00m utils\n\u001b[1;32m     44\u001b[0m resolved_store_uri \u001b[38;5;241m=\u001b[39m utils\u001b[38;5;241m.\u001b[39m_resolve_tracking_uri(store_uri)\n\u001b[0;32m---> 45\u001b[0m \u001b[38;5;28;01mreturn\u001b[39;00m \u001b[38;5;28mself\u001b[39m\u001b[38;5;241m.\u001b[39m_get_store_with_resolved_uri(resolved_store_uri, artifact_uri)\n",
      "File \u001b[0;32m~/miniconda3/lib/python3.11/site-packages/mlflow/tracking/_tracking_service/registry.py:55\u001b[0m, in \u001b[0;36mTrackingStoreRegistry._get_store_with_resolved_uri\u001b[0;34m(self, resolved_store_uri, artifact_uri)\u001b[0m\n\u001b[1;32m     49\u001b[0m \u001b[38;5;250m\u001b[39m\u001b[38;5;124;03m\"\"\"\u001b[39;00m\n\u001b[1;32m     50\u001b[0m \u001b[38;5;124;03mRetrieve the store associated with a resolved (non-None) store URI and an artifact URI.\u001b[39;00m\n\u001b[1;32m     51\u001b[0m \u001b[38;5;124;03mCaching is done on resolved URIs because the meaning of an unresolved (None) URI may change\u001b[39;00m\n\u001b[1;32m     52\u001b[0m \u001b[38;5;124;03mdepending on external configuration, such as environment variables\u001b[39;00m\n\u001b[1;32m     53\u001b[0m \u001b[38;5;124;03m\"\"\"\u001b[39;00m\n\u001b[1;32m     54\u001b[0m \u001b[38;5;28;01mwith\u001b[39;00m _building_store_lock:\n\u001b[0;32m---> 55\u001b[0m     builder \u001b[38;5;241m=\u001b[39m \u001b[38;5;28mself\u001b[39m\u001b[38;5;241m.\u001b[39mget_store_builder(resolved_store_uri)\n\u001b[1;32m     56\u001b[0m     \u001b[38;5;28;01mreturn\u001b[39;00m builder(store_uri\u001b[38;5;241m=\u001b[39mresolved_store_uri, artifact_uri\u001b[38;5;241m=\u001b[39martifact_uri)\n",
      "File \u001b[0;32m~/miniconda3/lib/python3.11/site-packages/mlflow/tracking/registry.py:83\u001b[0m, in \u001b[0;36mStoreRegistry.get_store_builder\u001b[0;34m(self, store_uri)\u001b[0m\n\u001b[1;32m     81\u001b[0m     store_builder \u001b[38;5;241m=\u001b[39m \u001b[38;5;28mself\u001b[39m\u001b[38;5;241m.\u001b[39m_registry[scheme]\n\u001b[1;32m     82\u001b[0m \u001b[38;5;28;01mexcept\u001b[39;00m \u001b[38;5;167;01mKeyError\u001b[39;00m:\n\u001b[0;32m---> 83\u001b[0m     \u001b[38;5;28;01mraise\u001b[39;00m UnsupportedModelRegistryStoreURIException(\n\u001b[1;32m     84\u001b[0m         unsupported_uri\u001b[38;5;241m=\u001b[39mstore_uri, supported_uri_schemes\u001b[38;5;241m=\u001b[39m\u001b[38;5;28mlist\u001b[39m(\u001b[38;5;28mself\u001b[39m\u001b[38;5;241m.\u001b[39m_registry\u001b[38;5;241m.\u001b[39mkeys())\n\u001b[1;32m     85\u001b[0m     )\n\u001b[1;32m     86\u001b[0m \u001b[38;5;28;01mreturn\u001b[39;00m store_builder\n",
      "\u001b[0;31mUnsupportedModelRegistryStoreURIException\u001b[0m:  Model registry functionality is unavailable; got unsupported URI 'arn:aws:sagemaker:us-west-2:677276086662:mlflow-tracking-server/dawgsML' for model registry data storage. Supported URI schemes are: ['', 'file', 'databricks', 'databricks-uc', 'uc', 'http', 'https', 'postgresql', 'mysql', 'sqlite', 'mssql']. See https://www.mlflow.org/docs/latest/tracking.html#storage for how to run an MLflow server against one of the supported backend storage locations."
     ]
    }
   ],
   "source": [
    "df_all_single = load_ml_metrics(tracking_uri, all_single, save_local = True)"
   ]
  },
  {
   "cell_type": "code",
   "execution_count": null,
   "id": "fc080941-a535-4154-a294-7bbf0c24e9ea",
   "metadata": {},
   "outputs": [],
   "source": []
  }
 ],
 "metadata": {
  "kernelspec": {
   "display_name": "Python 3 (ipykernel)",
   "language": "python",
   "name": "python3"
  },
  "language_info": {
   "codemirror_mode": {
    "name": "ipython",
    "version": 3
   },
   "file_extension": ".py",
   "mimetype": "text/x-python",
   "name": "python",
   "nbconvert_exporter": "python",
   "pygments_lexer": "ipython3",
   "version": "3.11.8"
  }
 },
 "nbformat": 4,
 "nbformat_minor": 5
}
