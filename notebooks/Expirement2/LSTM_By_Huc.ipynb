{
 "cells": [
  {
   "cell_type": "markdown",
   "id": "40c7cd88-c6f2-49c0-a317-1ae3e07266d7",
   "metadata": {},
   "source": [
    "# Notebook to Investigate LSTM Performance Variance by Huc Type"
   ]
  },
  {
   "cell_type": "markdown",
   "id": "e190667a-9b99-44c4-87a8-8d36f8bea340",
   "metadata": {},
   "source": [
    "# Step 0 - Set up Notebook"
   ]
  },
  {
   "cell_type": "code",
   "execution_count": 2,
   "id": "bef22fa2-0a8e-4982-bd09-bdb98e4d848c",
   "metadata": {},
   "outputs": [],
   "source": [
    "# import needed libaries\n",
    "import os\n",
    "import boto3\n",
    "import mlflow\n",
    "from PIL import Image\n",
    "import pandas as pd\n",
    "import matplotlib.pyplot as plt\n",
    "import numpy as np"
   ]
  },
  {
   "cell_type": "code",
   "execution_count": 5,
   "id": "a97c2faf-fcda-42d0-9120-0eacc9073064",
   "metadata": {},
   "outputs": [
    {
     "data": {
      "text/plain": [
       "True"
      ]
     },
     "execution_count": 5,
     "metadata": {},
     "output_type": "execute_result"
    }
   ],
   "source": [
    "# initialize erathengine credentials\n",
    "import ee\n",
    "ee.Authenticate()"
   ]
  },
  {
   "cell_type": "markdown",
   "id": "06deed74-0fac-4b31-8687-14affeefeccc",
   "metadata": {},
   "source": [
    "# Step1 - Download MLFlow Metrics"
   ]
  },
  {
   "cell_type": "code",
   "execution_count": 6,
   "id": "7f61535f-d48c-479d-b934-8f21114372f8",
   "metadata": {},
   "outputs": [],
   "source": [
    "# function to retrieve metrics from ML server \n",
    "def load_ml_metrics(tracking_uri, run_id, save_local=False):\n",
    "    mlflow.set_tracking_uri(tracking_uri)\n",
    "    client = mlflow.MlflowClient()\n",
    "    # Get all metric keys from the run\n",
    "    run_data = client.get_run(run_id).data\n",
    "    metric_keys = run_data.metrics.keys()\n",
    "    # Retrieve full metric history for each key\n",
    "    all_metrics = []\n",
    "    for metric in metric_keys:\n",
    "        history = client.get_metric_history(run_id, metric)\n",
    "        for record in history:\n",
    "            all_metrics.append({\n",
    "                \"Metric\": metric,\n",
    "                \"Step\": record.step,\n",
    "                \"Value\": record.value\n",
    "            })\n",
    "    \n",
    "    # Convert to DataFrame\n",
    "    metrics_df = pd.DataFrame(all_metrics)\n",
    "    \n",
    "    # Save to CSV if needed\n",
    "    if save_local:\n",
    "        f_out = f\"run_id_data/metrics_from_{run_id}.csv\"\n",
    "        metrics_df.to_csv(f_out, index=False)\n",
    "\n",
    "    return metrics_df"
   ]
  },
  {
   "cell_type": "code",
   "execution_count": 7,
   "id": "f56f849d-2653-497f-a35e-f218e4cd500a",
   "metadata": {},
   "outputs": [],
   "source": [
    "# function to extract only a specific metric\n",
    "def extract_metric(df, metric_name):\n",
    "    \"\"\"Extracts rows where the Metric column ends with 'metric_name' and returns only Metric and Value columns.\"\"\"\n",
    "    return df[df['Metric'].str.endswith(metric_name)][['Metric', 'Value']].sort_values(by='Metric')"
   ]
  },
  {
   "cell_type": "code",
   "execution_count": 9,
   "id": "0e1ac705-5f37-4140-aba8-c6b4cb60076d",
   "metadata": {},
   "outputs": [],
   "source": [
    "# set mlFlow tracking server \n",
    "tracking_uri = \"arn:aws:sagemaker:us-west-2:677276086662:mlflow-tracking-server/dawgsML\"\n",
    "\n",
    "# define our run_ids by recognizable names \n",
    "all_single = \"69d929bbdfdd43b4a2f45b823d945eb7\" # ~300 different huc12 units, 10 epochs each, dapper-pig-680 "
   ]
  },
  {
   "cell_type": "code",
   "execution_count": 11,
   "id": "72f9cff8-9dd6-4f87-a22f-e7fe7268ae88",
   "metadata": {},
   "outputs": [],
   "source": [
    "df_all_single = load_ml_metrics(tracking_uri, all_single, save_local = True)"
   ]
  },
  {
   "cell_type": "code",
   "execution_count": 12,
   "id": "fc080941-a535-4154-a294-7bbf0c24e9ea",
   "metadata": {},
   "outputs": [
    {
     "data": {
      "text/html": [
       "<div>\n",
       "<style scoped>\n",
       "    .dataframe tbody tr th:only-of-type {\n",
       "        vertical-align: middle;\n",
       "    }\n",
       "\n",
       "    .dataframe tbody tr th {\n",
       "        vertical-align: top;\n",
       "    }\n",
       "\n",
       "    .dataframe thead th {\n",
       "        text-align: right;\n",
       "    }\n",
       "</style>\n",
       "<table border=\"1\" class=\"dataframe\">\n",
       "  <thead>\n",
       "    <tr style=\"text-align: right;\">\n",
       "      <th></th>\n",
       "      <th>Metric</th>\n",
       "      <th>Step</th>\n",
       "      <th>Value</th>\n",
       "    </tr>\n",
       "  </thead>\n",
       "  <tbody>\n",
       "    <tr>\n",
       "      <th>0</th>\n",
       "      <td>train_mse_170103040305</td>\n",
       "      <td>0</td>\n",
       "      <td>0.029135</td>\n",
       "    </tr>\n",
       "    <tr>\n",
       "      <th>1</th>\n",
       "      <td>train_mse_170103040305</td>\n",
       "      <td>1</td>\n",
       "      <td>0.008264</td>\n",
       "    </tr>\n",
       "    <tr>\n",
       "      <th>2</th>\n",
       "      <td>train_mse_170103040305</td>\n",
       "      <td>2</td>\n",
       "      <td>0.003490</td>\n",
       "    </tr>\n",
       "    <tr>\n",
       "      <th>3</th>\n",
       "      <td>train_mse_170103040305</td>\n",
       "      <td>3</td>\n",
       "      <td>0.002993</td>\n",
       "    </tr>\n",
       "    <tr>\n",
       "      <th>4</th>\n",
       "      <td>train_mse_170103040305</td>\n",
       "      <td>4</td>\n",
       "      <td>0.002356</td>\n",
       "    </tr>\n",
       "  </tbody>\n",
       "</table>\n",
       "</div>"
      ],
      "text/plain": [
       "                   Metric  Step     Value\n",
       "0  train_mse_170103040305     0  0.029135\n",
       "1  train_mse_170103040305     1  0.008264\n",
       "2  train_mse_170103040305     2  0.003490\n",
       "3  train_mse_170103040305     3  0.002993\n",
       "4  train_mse_170103040305     4  0.002356"
      ]
     },
     "execution_count": 12,
     "metadata": {},
     "output_type": "execute_result"
    }
   ],
   "source": [
    "df_all_single.head()"
   ]
  },
  {
   "cell_type": "code",
   "execution_count": null,
   "id": "f0ed50c6-ab56-4a48-ac4a-842f6b61cbad",
   "metadata": {},
   "outputs": [],
   "source": []
  }
 ],
 "metadata": {
  "kernelspec": {
   "display_name": "Python 3 (ipykernel)",
   "language": "python",
   "name": "python3"
  },
  "language_info": {
   "codemirror_mode": {
    "name": "ipython",
    "version": 3
   },
   "file_extension": ".py",
   "mimetype": "text/x-python",
   "name": "python",
   "nbconvert_exporter": "python",
   "pygments_lexer": "ipython3",
   "version": "3.11.11"
  }
 },
 "nbformat": 4,
 "nbformat_minor": 5
}
