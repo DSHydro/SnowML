{
 "cells": [
  {
   "cell_type": "markdown",
   "id": "3257acf7-f0c4-4a99-a5f8-f02c38caf1f2",
   "metadata": {
    "jp-MarkdownHeadingCollapsed": true
   },
   "source": [
    "# Notebook for retrieving and maping Water Basin Shapefiles "
   ]
  },
  {
   "cell_type": "markdown",
   "id": "556b5455-824a-4da7-8387-e779d5d46a72",
   "metadata": {},
   "source": [
    "# Step 0 Setup Notebook "
   ]
  },
  {
   "cell_type": "code",
   "execution_count": 1,
   "id": "496fa514-5772-4536-ad13-445b9612900f",
   "metadata": {},
   "outputs": [],
   "source": [
    "import easysnowdata\n",
    "import pandas as pd\n",
    "import geopandas as gpd\n",
    "import ee\n",
    "import numpy as np\n",
    "import time\n",
    "from shapely.geometry import box\n",
    "\n",
    "# import contextily as ctx"
   ]
  },
  {
   "cell_type": "code",
   "execution_count": 2,
   "id": "558aae75-9130-468c-9cae-ce5795649c2d",
   "metadata": {},
   "outputs": [
    {
     "data": {
      "text/plain": [
       "True"
      ]
     },
     "execution_count": 2,
     "metadata": {},
     "output_type": "execute_result"
    }
   ],
   "source": [
    "ee.Authenticate()"
   ]
  },
  {
   "cell_type": "markdown",
   "id": "db72db9b-3ae9-47e4-9635-66d808db36a0",
   "metadata": {},
   "source": [
    "# Step 1 Download All HUC 4 Geometries in US & Filter to the Region of Interest "
   ]
  },
  {
   "cell_type": "code",
   "execution_count": 3,
   "id": "bcfe65e3-8b42-494b-8744-67dba4c7f4d9",
   "metadata": {},
   "outputs": [
    {
     "name": "stdout",
     "output_type": "stream",
     "text": [
      "No spatial subsetting because bbox_input was not provided.\n"
     ]
    }
   ],
   "source": [
    "huc04_gdf = easysnowdata.hydroclimatology.get_huc_geometries(huc_level=\"04\")"
   ]
  },
  {
   "cell_type": "code",
   "execution_count": 4,
   "id": "693a8e0a-cd2a-42bb-b36c-cd2bee38f2a0",
   "metadata": {},
   "outputs": [
    {
     "name": "stdout",
     "output_type": "stream",
     "text": [
      "(223, 6)\n"
     ]
    },
    {
     "data": {
      "text/html": [
       "<div>\n",
       "<style scoped>\n",
       "    .dataframe tbody tr th:only-of-type {\n",
       "        vertical-align: middle;\n",
       "    }\n",
       "\n",
       "    .dataframe tbody tr th {\n",
       "        vertical-align: top;\n",
       "    }\n",
       "\n",
       "    .dataframe thead th {\n",
       "        text-align: right;\n",
       "    }\n",
       "</style>\n",
       "<table border=\"1\" class=\"dataframe\">\n",
       "  <thead>\n",
       "    <tr style=\"text-align: right;\">\n",
       "      <th></th>\n",
       "      <th>name</th>\n",
       "      <th>huc4</th>\n",
       "      <th>areasqkm</th>\n",
       "      <th>states</th>\n",
       "      <th>tnmid</th>\n",
       "      <th>geometry</th>\n",
       "    </tr>\n",
       "  </thead>\n",
       "  <tbody>\n",
       "    <tr>\n",
       "      <th>0</th>\n",
       "      <td>St. John</td>\n",
       "      <td>0101</td>\n",
       "      <td>36500.71</td>\n",
       "      <td>CN,ME</td>\n",
       "      <td>{AAB11E45-75A7-47FE-85F1-AB3621CD80BD}</td>\n",
       "      <td>POLYGON ((-70.43221 46.43988, -70.43221 46.439...</td>\n",
       "    </tr>\n",
       "    <tr>\n",
       "      <th>1</th>\n",
       "      <td>Penobscot</td>\n",
       "      <td>0102</td>\n",
       "      <td>22299.81</td>\n",
       "      <td>CN,ME</td>\n",
       "      <td>{84FA3A11-3D62-4DF7-AA9B-044E583A5D33}</td>\n",
       "      <td>POLYGON ((-70.4183 45.7942, -70.41818 45.79408...</td>\n",
       "    </tr>\n",
       "  </tbody>\n",
       "</table>\n",
       "</div>"
      ],
      "text/plain": [
       "        name  huc4  areasqkm states                                   tnmid  \\\n",
       "0   St. John  0101  36500.71  CN,ME  {AAB11E45-75A7-47FE-85F1-AB3621CD80BD}   \n",
       "1  Penobscot  0102  22299.81  CN,ME  {84FA3A11-3D62-4DF7-AA9B-044E583A5D33}   \n",
       "\n",
       "                                            geometry  \n",
       "0  POLYGON ((-70.43221 46.43988, -70.43221 46.439...  \n",
       "1  POLYGON ((-70.4183 45.7942, -70.41818 45.79408...  "
      ]
     },
     "execution_count": 4,
     "metadata": {},
     "output_type": "execute_result"
    }
   ],
   "source": [
    "print(huc04_gdf.shape)\n",
    "huc04_gdf.head(2)"
   ]
  },
  {
   "cell_type": "code",
   "execution_count": 5,
   "id": "73a04183-4c44-4b1e-814e-35083f6df231",
   "metadata": {},
   "outputs": [],
   "source": [
    "# function that filters a gdf with a huc4 column to including ony\n",
    "# those hucs in a specific huc02 area (01-17); default is PNW (17)\n",
    "def filter_by_HUC02(gdf, huc_02_region=\"17\"):\n",
    "    filtered_04 = gdf[gdf[\"huc4\"].str.startswith(huc_02_region)]\n",
    "    print(\n",
    "        f\"There are {filtered_04.shape[0]} HUC04 regions within HUCO2 region {huc_02_region}\"\n",
    "    )\n",
    "    # print(\"Full name list is:\")\n",
    "    # print(filtered_04[\"name\"])\n",
    "    return filtered_04"
   ]
  },
  {
   "cell_type": "code",
   "execution_count": 6,
   "id": "9320bcbb-da45-4017-b9c7-169e44c304b9",
   "metadata": {},
   "outputs": [
    {
     "name": "stdout",
     "output_type": "stream",
     "text": [
      "There are 6 HUC04 regions within HUCO2 region 16\n"
     ]
    },
    {
     "data": {
      "text/html": [
       "<div>\n",
       "<style scoped>\n",
       "    .dataframe tbody tr th:only-of-type {\n",
       "        vertical-align: middle;\n",
       "    }\n",
       "\n",
       "    .dataframe tbody tr th {\n",
       "        vertical-align: top;\n",
       "    }\n",
       "\n",
       "    .dataframe thead th {\n",
       "        text-align: right;\n",
       "    }\n",
       "</style>\n",
       "<table border=\"1\" class=\"dataframe\">\n",
       "  <thead>\n",
       "    <tr style=\"text-align: right;\">\n",
       "      <th></th>\n",
       "      <th>name</th>\n",
       "      <th>huc4</th>\n",
       "      <th>areasqkm</th>\n",
       "      <th>states</th>\n",
       "      <th>tnmid</th>\n",
       "      <th>geometry</th>\n",
       "    </tr>\n",
       "  </thead>\n",
       "  <tbody>\n",
       "    <tr>\n",
       "      <th>66</th>\n",
       "      <td>Great Salt Lake</td>\n",
       "      <td>1602</td>\n",
       "      <td>74295.03</td>\n",
       "      <td>ID,NV,UT,WY</td>\n",
       "      <td>{98264C17-0E40-4139-9A8A-516BC4A9414F}</td>\n",
       "      <td>POLYGON ((-115.00992 41.45147, -115.00985 41.4...</td>\n",
       "    </tr>\n",
       "    <tr>\n",
       "      <th>146</th>\n",
       "      <td>Bear</td>\n",
       "      <td>1601</td>\n",
       "      <td>19462.57</td>\n",
       "      <td>ID,UT,WY</td>\n",
       "      <td>{7492C028-E858-42FB-848C-A49CB81CEE4B}</td>\n",
       "      <td>POLYGON ((-112.55219 42.27961, -112.55216 42.2...</td>\n",
       "    </tr>\n",
       "  </tbody>\n",
       "</table>\n",
       "</div>"
      ],
      "text/plain": [
       "                name  huc4  areasqkm       states  \\\n",
       "66   Great Salt Lake  1602  74295.03  ID,NV,UT,WY   \n",
       "146             Bear  1601  19462.57     ID,UT,WY   \n",
       "\n",
       "                                      tnmid  \\\n",
       "66   {98264C17-0E40-4139-9A8A-516BC4A9414F}   \n",
       "146  {7492C028-E858-42FB-848C-A49CB81CEE4B}   \n",
       "\n",
       "                                              geometry  \n",
       "66   POLYGON ((-115.00992 41.45147, -115.00985 41.4...  \n",
       "146  POLYGON ((-112.55219 42.27961, -112.55216 42.2...  "
      ]
     },
     "execution_count": 6,
     "metadata": {},
     "output_type": "execute_result"
    }
   ],
   "source": [
    "# Example - Find the Huc04 Regions for the PNW\n",
    "huc_02_region = \"16\"\n",
    "filtered_04 = filter_by_HUC02(huc04_gdf, huc_02_region)\n",
    "filtered_04.head(2)"
   ]
  },
  {
   "cell_type": "markdown",
   "id": "ceff16a0-c40b-4352-a91d-9b95d27ef316",
   "metadata": {},
   "source": [
    "# Step 2 Calculate bounding box for each region "
   ]
  },
  {
   "cell_type": "code",
   "execution_count": 7,
   "id": "b5e1fb12-c922-4f43-adb3-d8b27a0740e1",
   "metadata": {},
   "outputs": [],
   "source": [
    "# function that creates an outer boundary box for a given geometry\n",
    "def create_bbox(sp):\n",
    "    minx, miny, maxx, maxy = sp.bounds\n",
    "    bbox = box(minx, miny, maxx, maxy)\n",
    "    return bbox\n",
    "\n",
    "\n",
    "# function that adds a crude bounding box to each geometry in the gdf\n",
    "def add_bbox(gdf):\n",
    "    result = gdf.copy()\n",
    "    result[\"bbox\"] = gdf[\"geometry\"].apply(create_bbox)\n",
    "    return result"
   ]
  },
  {
   "cell_type": "code",
   "execution_count": 8,
   "id": "16086244-d59f-4d0a-a607-412675bbdfa6",
   "metadata": {},
   "outputs": [
    {
     "data": {
      "text/html": [
       "<div>\n",
       "<style scoped>\n",
       "    .dataframe tbody tr th:only-of-type {\n",
       "        vertical-align: middle;\n",
       "    }\n",
       "\n",
       "    .dataframe tbody tr th {\n",
       "        vertical-align: top;\n",
       "    }\n",
       "\n",
       "    .dataframe thead th {\n",
       "        text-align: right;\n",
       "    }\n",
       "</style>\n",
       "<table border=\"1\" class=\"dataframe\">\n",
       "  <thead>\n",
       "    <tr style=\"text-align: right;\">\n",
       "      <th></th>\n",
       "      <th>name</th>\n",
       "      <th>huc4</th>\n",
       "      <th>areasqkm</th>\n",
       "      <th>states</th>\n",
       "      <th>tnmid</th>\n",
       "      <th>geometry</th>\n",
       "      <th>bbox</th>\n",
       "    </tr>\n",
       "  </thead>\n",
       "  <tbody>\n",
       "    <tr>\n",
       "      <th>66</th>\n",
       "      <td>Great Salt Lake</td>\n",
       "      <td>1602</td>\n",
       "      <td>74295.03</td>\n",
       "      <td>ID,NV,UT,WY</td>\n",
       "      <td>{98264C17-0E40-4139-9A8A-516BC4A9414F}</td>\n",
       "      <td>POLYGON ((-115.00992 41.45147, -115.00985 41.4...</td>\n",
       "      <td>POLYGON ((-110.88522 37.94716, -110.88522 42.4...</td>\n",
       "    </tr>\n",
       "    <tr>\n",
       "      <th>146</th>\n",
       "      <td>Bear</td>\n",
       "      <td>1601</td>\n",
       "      <td>19462.57</td>\n",
       "      <td>ID,UT,WY</td>\n",
       "      <td>{7492C028-E858-42FB-848C-A49CB81CEE4B}</td>\n",
       "      <td>POLYGON ((-112.55219 42.27961, -112.55216 42.2...</td>\n",
       "      <td>POLYGON ((-110.59848 40.71036, -110.59848 42.8...</td>\n",
       "    </tr>\n",
       "  </tbody>\n",
       "</table>\n",
       "</div>"
      ],
      "text/plain": [
       "                name  huc4  areasqkm       states  \\\n",
       "66   Great Salt Lake  1602  74295.03  ID,NV,UT,WY   \n",
       "146             Bear  1601  19462.57     ID,UT,WY   \n",
       "\n",
       "                                      tnmid  \\\n",
       "66   {98264C17-0E40-4139-9A8A-516BC4A9414F}   \n",
       "146  {7492C028-E858-42FB-848C-A49CB81CEE4B}   \n",
       "\n",
       "                                              geometry  \\\n",
       "66   POLYGON ((-115.00992 41.45147, -115.00985 41.4...   \n",
       "146  POLYGON ((-112.55219 42.27961, -112.55216 42.2...   \n",
       "\n",
       "                                                  bbox  \n",
       "66   POLYGON ((-110.88522 37.94716, -110.88522 42.4...  \n",
       "146  POLYGON ((-110.59848 40.71036, -110.59848 42.8...  "
      ]
     },
     "execution_count": 8,
     "metadata": {},
     "output_type": "execute_result"
    }
   ],
   "source": [
    "filtered_04_bbox = add_bbox(filtered_04)\n",
    "filtered_04_bbox.head(2)"
   ]
  },
  {
   "cell_type": "markdown",
   "id": "3a0d9a3e-504f-4d6c-95d9-fdacd9e3fa00",
   "metadata": {},
   "source": [
    "# Step 3 - Get lower level HUCs based on bounding box"
   ]
  },
  {
   "cell_type": "code",
   "execution_count": 9,
   "id": "91313b5d-d34f-4911-8f0b-36f8c9918965",
   "metadata": {},
   "outputs": [],
   "source": [
    "# function that returns huc geometries given a bounding box and huc level (default = 10)\n",
    "def get_huc(bbox, huc_04_nm, huc_04_num, huc_level=\"10\"):\n",
    "    gdf = easysnowdata.hydroclimatology.get_huc_geometries(\n",
    "        bbox_input=bbox, huc_level=huc_level\n",
    "    )\n",
    "\n",
    "    # discard overinclusive entries that don't match huc_04 starting string\n",
    "    huc_str = gdf.iloc[:, 1]\n",
    "    idx = huc_str.str.startswith(huc_04_num)\n",
    "    gdf = gdf.loc[idx]\n",
    "\n",
    "    print(\n",
    "        f\"There are {gdf.shape[0]} HUC{huc_level} regions within {huc_04_nm}, huc region: {huc_04_num}\"\n",
    "    )\n",
    "    return gdf"
   ]
  },
  {
   "cell_type": "code",
   "execution_count": 10,
   "id": "77fa7cfd-ee3a-4a55-9255-8e8cebb1485b",
   "metadata": {},
   "outputs": [
    {
     "name": "stdout",
     "output_type": "stream",
     "text": [
      "There are 128 HUC10 regions within Great Salt Lake, huc region: 1602\n"
     ]
    },
    {
     "data": {
      "text/html": [
       "<div>\n",
       "<style scoped>\n",
       "    .dataframe tbody tr th:only-of-type {\n",
       "        vertical-align: middle;\n",
       "    }\n",
       "\n",
       "    .dataframe tbody tr th {\n",
       "        vertical-align: top;\n",
       "    }\n",
       "\n",
       "    .dataframe thead th {\n",
       "        text-align: right;\n",
       "    }\n",
       "</style>\n",
       "<table border=\"1\" class=\"dataframe\">\n",
       "  <thead>\n",
       "    <tr style=\"text-align: right;\">\n",
       "      <th></th>\n",
       "      <th>name</th>\n",
       "      <th>huc10</th>\n",
       "      <th>areasqkm</th>\n",
       "      <th>states</th>\n",
       "      <th>tnmid</th>\n",
       "      <th>geometry</th>\n",
       "    </tr>\n",
       "  </thead>\n",
       "  <tbody>\n",
       "    <tr>\n",
       "      <th>16</th>\n",
       "      <td>Lower Deep Creek-Frontal Great Salt Lake</td>\n",
       "      <td>1602030904</td>\n",
       "      <td>675.34</td>\n",
       "      <td>ID,UT</td>\n",
       "      <td>{3ED7E394-C573-4CB9-86FC-50410A3F02FD}</td>\n",
       "      <td>POLYGON ((-113.26979 41.92006, -113.2693 41.92...</td>\n",
       "    </tr>\n",
       "    <tr>\n",
       "      <th>17</th>\n",
       "      <td>Jenkins Canyon-Frontal Bonneville Salt Flats</td>\n",
       "      <td>1602030616</td>\n",
       "      <td>487.62</td>\n",
       "      <td>NV,UT</td>\n",
       "      <td>{6F524BD7-B7D2-467B-9EFC-C78FB6B2597C}</td>\n",
       "      <td>POLYGON ((-114.25315 40.7374, -114.25301 40.73...</td>\n",
       "    </tr>\n",
       "  </tbody>\n",
       "</table>\n",
       "</div>"
      ],
      "text/plain": [
       "                                            name       huc10 areasqkm states  \\\n",
       "16      Lower Deep Creek-Frontal Great Salt Lake  1602030904   675.34  ID,UT   \n",
       "17  Jenkins Canyon-Frontal Bonneville Salt Flats  1602030616   487.62  NV,UT   \n",
       "\n",
       "                                     tnmid  \\\n",
       "16  {3ED7E394-C573-4CB9-86FC-50410A3F02FD}   \n",
       "17  {6F524BD7-B7D2-467B-9EFC-C78FB6B2597C}   \n",
       "\n",
       "                                             geometry  \n",
       "16  POLYGON ((-113.26979 41.92006, -113.2693 41.92...  \n",
       "17  POLYGON ((-114.25315 40.7374, -114.25301 40.73...  "
      ]
     },
     "execution_count": 10,
     "metadata": {},
     "output_type": "execute_result"
    }
   ],
   "source": [
    "# get low level HUCs for the Puget Sound region\n",
    "huc_04 = filtered_04_bbox.iloc[0]  # choose the first huc04 in the filtered region\n",
    "huc_04_nm = huc_04[\"name\"]\n",
    "huc_04_num = huc_04[\"huc4\"]\n",
    "hucXX_gdf = get_huc(huc_04[\"bbox\"], huc_04_nm, huc_04_num, huc_level=\"10\")\n",
    "hucXX_gdf.head(2)"
   ]
  },
  {
   "cell_type": "markdown",
   "id": "7aa4b9df-69b3-49f4-b605-a2d8c198ca87",
   "metadata": {},
   "source": [
    "# Batch Processing - Putting it altogether "
   ]
  },
  {
   "cell_type": "code",
   "execution_count": 11,
   "id": "38d8e5d6-a24a-4806-9488-72b26dd62cb2",
   "metadata": {},
   "outputs": [],
   "source": [
    "# function that produces a gdf of all huc_X geometries within a specificed huc_02 (default is 17)\n",
    "# Assumes that you have already downloaded huc04_gdf\n",
    "def all_huc_geos(huc_04_gdf, huc_02_name=\"17\", huc_level=\"10\"):\n",
    "    huc_04_filtered = filter_by_HUC02(huc04_gdf, huc_02_name).sort_values(\n",
    "        by=huc04_gdf.columns[1]\n",
    "    )\n",
    "    filtered_04_bbox = add_bbox(huc_04_filtered)\n",
    "    results = gpd.GeoDataFrame()\n",
    "    for i in range(filtered_04_bbox.shape[0]):\n",
    "        huc_04 = filtered_04_bbox.iloc[i]\n",
    "        huc_04_nm = huc_04[\"name\"]\n",
    "        huc_04_num = huc_04[\"huc4\"]\n",
    "        print(f\"Gathering the sub-regions within {huc_04_nm}, huc region: {huc_04_num}\")\n",
    "        hucXX_gdf = get_huc(huc_04[\"bbox\"], huc_04_nm, huc_04_num, huc_level=\"10\")\n",
    "        if i == 0:\n",
    "            results = hucXX_gdf\n",
    "        else:\n",
    "            results = pd.concat([results, hucXX_gdf], ignore_index=True)\n",
    "\n",
    "    return results"
   ]
  },
  {
   "cell_type": "code",
   "execution_count": 46,
   "id": "ec9e6c87-6182-4c6f-afff-4edf0a464aae",
   "metadata": {
    "scrolled": true
   },
   "outputs": [
    {
     "name": "stdout",
     "output_type": "stream",
     "text": [
      "There are 10 HUC04 regions within HUCO2 region 18\n",
      "Gathering the sub-regions within Klamath-Northern California Coastal, huc region: 1801\n",
      "There are 147 HUC10 regions within Klamath-Northern California Coastal, huc region: 1801\n",
      "Gathering the sub-regions within Sacramento, huc region: 1802\n",
      "There are 188 HUC10 regions within Sacramento, huc region: 1802\n",
      "Gathering the sub-regions within Tulare-Buena Vista Lakes, huc region: 1803\n",
      "There are 108 HUC10 regions within Tulare-Buena Vista Lakes, huc region: 1803\n",
      "Gathering the sub-regions within San Joaquin, huc region: 1804\n",
      "There are 112 HUC10 regions within San Joaquin, huc region: 1804\n",
      "Gathering the sub-regions within San Francisco Bay, huc region: 1805\n",
      "There are 37 HUC10 regions within San Francisco Bay, huc region: 1805\n",
      "Gathering the sub-regions within Central California Coastal, huc region: 1806\n",
      "There are 64 HUC10 regions within Central California Coastal, huc region: 1806\n",
      "Gathering the sub-regions within Southern California Coastal, huc region: 1807\n",
      "There are 86 HUC10 regions within Southern California Coastal, huc region: 1807\n",
      "Gathering the sub-regions within North Lahontan, huc region: 1808\n",
      "There are 22 HUC10 regions within North Lahontan, huc region: 1808\n",
      "Gathering the sub-regions within Northern Mojave-Mono Lake, huc region: 1809\n",
      "There are 156 HUC10 regions within Northern Mojave-Mono Lake, huc region: 1809\n",
      "Gathering the sub-regions within Southern Mojave-Salton Sea, huc region: 1810\n",
      "There are 89 HUC10 regions within Southern Mojave-Salton Sea, huc region: 1810\n",
      "Time elapsed: 153.92 seconds\n"
     ]
    },
    {
     "data": {
      "text/html": [
       "<div>\n",
       "<style scoped>\n",
       "    .dataframe tbody tr th:only-of-type {\n",
       "        vertical-align: middle;\n",
       "    }\n",
       "\n",
       "    .dataframe tbody tr th {\n",
       "        vertical-align: top;\n",
       "    }\n",
       "\n",
       "    .dataframe thead th {\n",
       "        text-align: right;\n",
       "    }\n",
       "</style>\n",
       "<table border=\"1\" class=\"dataframe\">\n",
       "  <thead>\n",
       "    <tr style=\"text-align: right;\">\n",
       "      <th></th>\n",
       "      <th>name</th>\n",
       "      <th>huc10</th>\n",
       "      <th>areasqkm</th>\n",
       "      <th>states</th>\n",
       "      <th>tnmid</th>\n",
       "      <th>geometry</th>\n",
       "    </tr>\n",
       "  </thead>\n",
       "  <tbody>\n",
       "    <tr>\n",
       "      <th>0</th>\n",
       "      <td>Alder Creek-Frontal Pacific Ocean</td>\n",
       "      <td>1801010809</td>\n",
       "      <td>760.04</td>\n",
       "      <td>CA</td>\n",
       "      <td>{A71AD21F-315A-4069-882C-AD197C90FD3E}</td>\n",
       "      <td>POLYGON ((-123.82103 39.16205, -123.8208 39.16...</td>\n",
       "    </tr>\n",
       "    <tr>\n",
       "      <th>1</th>\n",
       "      <td>Salmon Creek-Frontal Pacific Ocean</td>\n",
       "      <td>1801010902</td>\n",
       "      <td>662.26</td>\n",
       "      <td>CA</td>\n",
       "      <td>{D578C388-5513-4A8C-AF69-9ADD8026D18D}</td>\n",
       "      <td>POLYGON ((-123.58388 38.72315, -123.58325 38.7...</td>\n",
       "    </tr>\n",
       "  </tbody>\n",
       "</table>\n",
       "</div>"
      ],
      "text/plain": [
       "                                 name       huc10 areasqkm states  \\\n",
       "0   Alder Creek-Frontal Pacific Ocean  1801010809   760.04     CA   \n",
       "1  Salmon Creek-Frontal Pacific Ocean  1801010902   662.26     CA   \n",
       "\n",
       "                                    tnmid  \\\n",
       "0  {A71AD21F-315A-4069-882C-AD197C90FD3E}   \n",
       "1  {D578C388-5513-4A8C-AF69-9ADD8026D18D}   \n",
       "\n",
       "                                            geometry  \n",
       "0  POLYGON ((-123.82103 39.16205, -123.8208 39.16...  \n",
       "1  POLYGON ((-123.58388 38.72315, -123.58325 38.7...  "
      ]
     },
     "execution_count": 46,
     "metadata": {},
     "output_type": "execute_result"
    }
   ],
   "source": [
    "start_time = time.time()\n",
    "huc_02 = \"18\"\n",
    "huc_level = \"10\"\n",
    "huc10 = all_huc_geos(huc04_gdf, huc_02_name=huc_02, huc_level=huc_level)\n",
    "end_time = time.time()\n",
    "print(f\"Time elapsed: {end_time - start_time:.2f} seconds\")\n",
    "huc10.head(2)"
   ]
  },
  {
   "cell_type": "code",
   "execution_count": 47,
   "id": "a41307ed-9a9b-42cc-810d-22d5031aeed9",
   "metadata": {},
   "outputs": [
    {
     "data": {
      "text/plain": [
       "'huc10_in_18'"
      ]
     },
     "execution_count": 47,
     "metadata": {},
     "output_type": "execute_result"
    }
   ],
   "source": [
    "f_out = f\"huc{huc_level}_in_{huc_02}\"\n",
    "f_out"
   ]
  },
  {
   "cell_type": "code",
   "execution_count": 48,
   "id": "fa9aaa05-e23d-4d5b-afea-b1be8d965579",
   "metadata": {},
   "outputs": [],
   "source": [
    "huc10.to_file(f_out, driver=\"ESRI Shapefile\")"
   ]
  },
  {
   "cell_type": "markdown",
   "id": "2960e86e-066d-40a4-862e-09f6fc88c560",
   "metadata": {},
   "source": [
    "# Cut file in two if too large for Github"
   ]
  },
  {
   "cell_type": "code",
   "execution_count": 49,
   "id": "8847151b-0223-41b7-af64-7fd60f9071cf",
   "metadata": {},
   "outputs": [],
   "source": [
    "def splitfiles(huc10):\n",
    "    f_outA = f\"huc{huc_level}_in_{huc_02}_A\"\n",
    "    f_outB = f\"huc{huc_level}_in_{huc_02}_B\"\n",
    "    rows = huc10.shape[0]\n",
    "    split_idx = int(rows / 2)\n",
    "    huc10A = huc10.iloc[0:split_idx, :]\n",
    "    huc10B = huc10.iloc[split_idx:, :]\n",
    "    huc10A.to_file(f_outA, driver=\"ESRI Shapefile\")\n",
    "    huc10B.to_file(f_outB, driver=\"ESRI Shapefile\")"
   ]
  },
  {
   "cell_type": "code",
   "execution_count": 50,
   "id": "99a21b2f-7f1e-4b25-8cc1-445c20798448",
   "metadata": {},
   "outputs": [],
   "source": [
    "huc10 = huc10.sort_values(by=\"huc10\")\n",
    "splitfiles(huc10)"
   ]
  },
  {
   "cell_type": "code",
   "execution_count": 51,
   "id": "5ad2697a-1ad2-4e8c-9945-d32e8f618672",
   "metadata": {},
   "outputs": [],
   "source": [
    "f_outA = f\"huc{huc_level}_in_{huc_02}_A\"\n",
    "f_outB = f\"huc{huc_level}_in_{huc_02}_B\""
   ]
  },
  {
   "cell_type": "code",
   "execution_count": 52,
   "id": "236cc8b4-aad5-4a38-90ca-11b140fff6ea",
   "metadata": {},
   "outputs": [
    {
     "data": {
      "text/html": [
       "<div>\n",
       "<style scoped>\n",
       "    .dataframe tbody tr th:only-of-type {\n",
       "        vertical-align: middle;\n",
       "    }\n",
       "\n",
       "    .dataframe tbody tr th {\n",
       "        vertical-align: top;\n",
       "    }\n",
       "\n",
       "    .dataframe thead th {\n",
       "        text-align: right;\n",
       "    }\n",
       "</style>\n",
       "<table border=\"1\" class=\"dataframe\">\n",
       "  <thead>\n",
       "    <tr style=\"text-align: right;\">\n",
       "      <th></th>\n",
       "      <th>name</th>\n",
       "      <th>huc10</th>\n",
       "      <th>areasqkm</th>\n",
       "      <th>states</th>\n",
       "      <th>tnmid</th>\n",
       "      <th>geometry</th>\n",
       "    </tr>\n",
       "  </thead>\n",
       "  <tbody>\n",
       "    <tr>\n",
       "      <th>502</th>\n",
       "      <td>Dry Creek</td>\n",
       "      <td>1804000807</td>\n",
       "      <td>280.93</td>\n",
       "      <td>CA</td>\n",
       "      <td>{7B55A498-48F2-44ED-A36F-1BD6708CD43F}</td>\n",
       "      <td>POLYGON ((-120.64566 37.47644, -120.64556 37.4...</td>\n",
       "    </tr>\n",
       "    <tr>\n",
       "      <th>503</th>\n",
       "      <td>Ingalsbe Slough-Merced River</td>\n",
       "      <td>1804000808</td>\n",
       "      <td>321.38</td>\n",
       "      <td>CA</td>\n",
       "      <td>{32294535-1318-439C-821D-FCBA7DC444E8}</td>\n",
       "      <td>POLYGON ((-120.97566 37.34971, -120.97559 37.3...</td>\n",
       "    </tr>\n",
       "  </tbody>\n",
       "</table>\n",
       "</div>"
      ],
      "text/plain": [
       "                             name       huc10 areasqkm states  \\\n",
       "502                     Dry Creek  1804000807   280.93     CA   \n",
       "503  Ingalsbe Slough-Merced River  1804000808   321.38     CA   \n",
       "\n",
       "                                      tnmid  \\\n",
       "502  {7B55A498-48F2-44ED-A36F-1BD6708CD43F}   \n",
       "503  {32294535-1318-439C-821D-FCBA7DC444E8}   \n",
       "\n",
       "                                              geometry  \n",
       "502  POLYGON ((-120.64566 37.47644, -120.64556 37.4...  \n",
       "503  POLYGON ((-120.97566 37.34971, -120.97559 37.3...  "
      ]
     },
     "execution_count": 52,
     "metadata": {},
     "output_type": "execute_result"
    }
   ],
   "source": [
    "test = gpd.read_file(f_outA)\n",
    "test.tail(2)"
   ]
  },
  {
   "cell_type": "code",
   "execution_count": 53,
   "id": "58b7bd55-fecc-40fe-995c-1f474d056f1e",
   "metadata": {},
   "outputs": [
    {
     "data": {
      "text/html": [
       "<div>\n",
       "<style scoped>\n",
       "    .dataframe tbody tr th:only-of-type {\n",
       "        vertical-align: middle;\n",
       "    }\n",
       "\n",
       "    .dataframe tbody tr th {\n",
       "        vertical-align: top;\n",
       "    }\n",
       "\n",
       "    .dataframe thead th {\n",
       "        text-align: right;\n",
       "    }\n",
       "</style>\n",
       "<table border=\"1\" class=\"dataframe\">\n",
       "  <thead>\n",
       "    <tr style=\"text-align: right;\">\n",
       "      <th></th>\n",
       "      <th>name</th>\n",
       "      <th>huc10</th>\n",
       "      <th>areasqkm</th>\n",
       "      <th>states</th>\n",
       "      <th>tnmid</th>\n",
       "      <th>geometry</th>\n",
       "    </tr>\n",
       "  </thead>\n",
       "  <tbody>\n",
       "    <tr>\n",
       "      <th>0</th>\n",
       "      <td>Headwaters Tuolumne River</td>\n",
       "      <td>1804000901</td>\n",
       "      <td>553.66</td>\n",
       "      <td>CA</td>\n",
       "      <td>{A5662066-ACCE-4142-8935-EA2D0A5BEC5F}</td>\n",
       "      <td>POLYGON ((-119.5455 37.91816, -119.54522 37.91...</td>\n",
       "    </tr>\n",
       "    <tr>\n",
       "      <th>1</th>\n",
       "      <td>Rancheria Creek</td>\n",
       "      <td>1804000902</td>\n",
       "      <td>193.03</td>\n",
       "      <td>CA</td>\n",
       "      <td>{FF05F826-EFE6-466D-B2F1-E9AC7A80E33B}</td>\n",
       "      <td>POLYGON ((-119.72715 37.95363, -119.7271 37.95...</td>\n",
       "    </tr>\n",
       "  </tbody>\n",
       "</table>\n",
       "</div>"
      ],
      "text/plain": [
       "                        name       huc10 areasqkm states  \\\n",
       "0  Headwaters Tuolumne River  1804000901   553.66     CA   \n",
       "1            Rancheria Creek  1804000902   193.03     CA   \n",
       "\n",
       "                                    tnmid  \\\n",
       "0  {A5662066-ACCE-4142-8935-EA2D0A5BEC5F}   \n",
       "1  {FF05F826-EFE6-466D-B2F1-E9AC7A80E33B}   \n",
       "\n",
       "                                            geometry  \n",
       "0  POLYGON ((-119.5455 37.91816, -119.54522 37.91...  \n",
       "1  POLYGON ((-119.72715 37.95363, -119.7271 37.95...  "
      ]
     },
     "execution_count": 53,
     "metadata": {},
     "output_type": "execute_result"
    }
   ],
   "source": [
    "test2 = gpd.read_file(f_outB)\n",
    "test2.head(2)"
   ]
  },
  {
   "cell_type": "code",
   "execution_count": null,
   "id": "b2c69ad4-dcfc-41c0-9bff-934687e81e65",
   "metadata": {},
   "outputs": [],
   "source": []
  }
 ],
 "metadata": {
  "kernelspec": {
   "display_name": "Python 3 (ipykernel)",
   "language": "python",
   "name": "python3"
  },
  "language_info": {
   "codemirror_mode": {
    "name": "ipython",
    "version": 3
   },
   "file_extension": ".py",
   "mimetype": "text/x-python",
   "name": "python",
   "nbconvert_exporter": "python",
   "pygments_lexer": "ipython3",
   "version": "3.11.8"
  }
 },
 "nbformat": 4,
 "nbformat_minor": 5
}
