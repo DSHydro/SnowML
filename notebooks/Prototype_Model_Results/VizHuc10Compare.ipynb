{
 "cells": [
  {
   "cell_type": "markdown",
   "id": "bcb1ed52-52ee-4c2a-9b8b-6db478c384b9",
   "metadata": {},
   "source": [
    "# Notebook to Visualize Huc10 Results - Prototype Model w/ New Data"
   ]
  },
  {
   "cell_type": "markdown",
   "id": "c6624b8e-4a56-4933-a375-da6f85e2e758",
   "metadata": {},
   "source": [
    "# Step 0 = Set up Notebook"
   ]
  },
  {
   "cell_type": "code",
   "execution_count": 2,
   "id": "0a8ea9b8-e4f5-410c-90cd-bd7a09c6c86d",
   "metadata": {},
   "outputs": [],
   "source": [
    "# import needed libaries\n",
    "import os\n",
    "import boto3\n",
    "import mlflow\n",
    "from PIL import Image\n",
    "import pandas as pd\n",
    "import matplotlib.pyplot as plt\n",
    "import numpy as np\n",
    "from snowML import snow_types as st"
   ]
  },
  {
   "cell_type": "code",
   "execution_count": 4,
   "id": "1e0f482b-6ff1-41bc-be88-574feaf83f96",
   "metadata": {},
   "outputs": [
    {
     "data": {
      "text/plain": [
       "True"
      ]
     },
     "execution_count": 4,
     "metadata": {},
     "output_type": "execute_result"
    }
   ],
   "source": [
    "# initialize erathengine credentials\n",
    "import ee\n",
    "ee.Authenticate()"
   ]
  },
  {
   "cell_type": "markdown",
   "id": "e0d212b4-aa21-4830-9e9c-26eff136b0e7",
   "metadata": {},
   "source": [
    "# Step1 - Download ML Metrics"
   ]
  },
  {
   "cell_type": "code",
   "execution_count": 5,
   "id": "d07ec993-08ff-47df-909c-899564171ede",
   "metadata": {},
   "outputs": [],
   "source": [
    "# function to retrieve metrics from ML server \n",
    "def load_ml_metrics(tracking_uri, run_id, save_local=False):\n",
    "    mlflow.set_tracking_uri(tracking_uri)\n",
    "    client = mlflow.MlflowClient()\n",
    "    # Get all metric keys from the run\n",
    "    run_data = client.get_run(run_id).data\n",
    "    metric_keys = run_data.metrics.keys()\n",
    "    # Retrieve full metric history for each key\n",
    "    all_metrics = []\n",
    "    for metric in metric_keys:\n",
    "        history = client.get_metric_history(run_id, metric)\n",
    "        for record in history:\n",
    "            all_metrics.append({\n",
    "                \"Metric\": metric,\n",
    "                \"Step\": record.step,\n",
    "                \"Value\": record.value\n",
    "            })\n",
    "    \n",
    "    # Convert to DataFrame\n",
    "    metrics_df = pd.DataFrame(all_metrics)\n",
    "    \n",
    "    # Save to CSV if needed\n",
    "    if save_local:\n",
    "        f_out = f\"run_id_data/metrics_from_{run_id}.csv\"\n",
    "        metrics_df.to_csv(f_out, index=False)\n",
    "\n",
    "    return metrics_df"
   ]
  },
  {
   "cell_type": "code",
   "execution_count": 6,
   "id": "80d0cafc-3281-4f1f-935e-630e4b0e470e",
   "metadata": {},
   "outputs": [],
   "source": [
    "# function to extract only a specific metric\n",
    "def extract_metric(df, metric_name):\n",
    "    \"\"\"Extracts rows where the Metric column ends with 'metric_name' and returns only Metric and Value columns.\"\"\"\n",
    "    return df[df['Metric'].str.endswith(metric_name)][['Metric', 'Value']].sort_values(by='Metric')"
   ]
  },
  {
   "cell_type": "code",
   "execution_count": 7,
   "id": "8c2f20af-3249-46ca-ad49-b4b18b3e3163",
   "metadata": {},
   "outputs": [],
   "source": [
    "# set mlFlow tracking server \n",
    "tracking_uri = \"arn:aws:sagemaker:us-west-2:677276086662:mlflow-tracking-server/dawgsML\"\n",
    "\n",
    "# define our run_ids by recognizable names \n",
    "orig_30 = \"0d8be0dc44a447099f7901c83032a59e\"  # orig data, 30 epochs, MLflow name is legendary toad 940 \n",
    "orig_200 = \"41f1a7b318f94b2bb2c4fdfbf892a018\"  # (orig data, 200 epochs, MLflow name is clumsy-ray-666\n",
    "new_10 = \"69d929bbdfdd43b4a2f45b823d945eb7\" # new data 10 epochs, ML flow name is dapper pig 680"
   ]
  },
  {
   "cell_type": "code",
   "execution_count": 8,
   "id": "6e186644-c6cd-4131-bcfb-58a57229eeb6",
   "metadata": {},
   "outputs": [],
   "source": [
    "df_orig30 = load_ml_metrics(tracking_uri, orig_30)\n",
    "df_orig30_tkge = extract_metric(df_orig30, \"test_kge\")\n",
    "df_orig30_tmse = extract_metric(df_orig30, \"test_mse\")\n"
   ]
  },
  {
   "cell_type": "code",
   "execution_count": 9,
   "id": "2788a3a6-1a97-4b98-8aca-ab35a329af5f",
   "metadata": {},
   "outputs": [
    {
     "data": {
      "text/html": [
       "<div>\n",
       "<style scoped>\n",
       "    .dataframe tbody tr th:only-of-type {\n",
       "        vertical-align: middle;\n",
       "    }\n",
       "\n",
       "    .dataframe tbody tr th {\n",
       "        vertical-align: top;\n",
       "    }\n",
       "\n",
       "    .dataframe thead th {\n",
       "        text-align: right;\n",
       "    }\n",
       "</style>\n",
       "<table border=\"1\" class=\"dataframe\">\n",
       "  <thead>\n",
       "    <tr style=\"text-align: right;\">\n",
       "      <th></th>\n",
       "      <th>Metric</th>\n",
       "      <th>Value</th>\n",
       "    </tr>\n",
       "  </thead>\n",
       "  <tbody>\n",
       "    <tr>\n",
       "      <th>10</th>\n",
       "      <td>1711000504_test_kge</td>\n",
       "      <td>0.387495</td>\n",
       "    </tr>\n",
       "    <tr>\n",
       "      <th>6</th>\n",
       "      <td>1711000505_test_kge</td>\n",
       "      <td>0.450601</td>\n",
       "    </tr>\n",
       "    <tr>\n",
       "      <th>20</th>\n",
       "      <td>1711000506_test_kge</td>\n",
       "      <td>0.443174</td>\n",
       "    </tr>\n",
       "    <tr>\n",
       "      <th>14</th>\n",
       "      <td>1711000507_test_kge</td>\n",
       "      <td>0.543197</td>\n",
       "    </tr>\n",
       "    <tr>\n",
       "      <th>27</th>\n",
       "      <td>1711000508_test_kge</td>\n",
       "      <td>0.488562</td>\n",
       "    </tr>\n",
       "    <tr>\n",
       "      <th>4</th>\n",
       "      <td>1711000509_test_kge</td>\n",
       "      <td>0.488394</td>\n",
       "    </tr>\n",
       "    <tr>\n",
       "      <th>13</th>\n",
       "      <td>1711000511_test_kge</td>\n",
       "      <td>0.513360</td>\n",
       "    </tr>\n",
       "  </tbody>\n",
       "</table>\n",
       "</div>"
      ],
      "text/plain": [
       "                 Metric     Value\n",
       "10  1711000504_test_kge  0.387495\n",
       "6   1711000505_test_kge  0.450601\n",
       "20  1711000506_test_kge  0.443174\n",
       "14  1711000507_test_kge  0.543197\n",
       "27  1711000508_test_kge  0.488562\n",
       "4   1711000509_test_kge  0.488394\n",
       "13  1711000511_test_kge  0.513360"
      ]
     },
     "execution_count": 9,
     "metadata": {},
     "output_type": "execute_result"
    }
   ],
   "source": [
    "df_orig30_tkge"
   ]
  },
  {
   "cell_type": "code",
   "execution_count": 10,
   "id": "95cef692-3d32-4153-96b1-f4c443e31bce",
   "metadata": {},
   "outputs": [],
   "source": [
    "df_orig200 = load_ml_metrics(tracking_uri, orig_200)\n",
    "df_orig200_tkge = extract_metric(df_orig200, \"test_kge\")\n",
    "df_orig200_tmse = extract_metric(df_orig200, \"test_mse\")\n"
   ]
  },
  {
   "cell_type": "code",
   "execution_count": 11,
   "id": "959ab8df-d31c-4af0-921e-8b5ef902a8d4",
   "metadata": {},
   "outputs": [
    {
     "data": {
      "text/html": [
       "<div>\n",
       "<style scoped>\n",
       "    .dataframe tbody tr th:only-of-type {\n",
       "        vertical-align: middle;\n",
       "    }\n",
       "\n",
       "    .dataframe tbody tr th {\n",
       "        vertical-align: top;\n",
       "    }\n",
       "\n",
       "    .dataframe thead th {\n",
       "        text-align: right;\n",
       "    }\n",
       "</style>\n",
       "<table border=\"1\" class=\"dataframe\">\n",
       "  <thead>\n",
       "    <tr style=\"text-align: right;\">\n",
       "      <th></th>\n",
       "      <th>Metric</th>\n",
       "      <th>Value</th>\n",
       "    </tr>\n",
       "  </thead>\n",
       "  <tbody>\n",
       "    <tr>\n",
       "      <th>22</th>\n",
       "      <td>1711000504_test_kge</td>\n",
       "      <td>0.469891</td>\n",
       "    </tr>\n",
       "    <tr>\n",
       "      <th>3</th>\n",
       "      <td>1711000505_test_kge</td>\n",
       "      <td>0.602654</td>\n",
       "    </tr>\n",
       "    <tr>\n",
       "      <th>20</th>\n",
       "      <td>1711000506_test_kge</td>\n",
       "      <td>0.524301</td>\n",
       "    </tr>\n",
       "    <tr>\n",
       "      <th>5</th>\n",
       "      <td>1711000507_test_kge</td>\n",
       "      <td>0.665654</td>\n",
       "    </tr>\n",
       "    <tr>\n",
       "      <th>15</th>\n",
       "      <td>1711000508_test_kge</td>\n",
       "      <td>0.667101</td>\n",
       "    </tr>\n",
       "    <tr>\n",
       "      <th>27</th>\n",
       "      <td>1711000509_test_kge</td>\n",
       "      <td>0.707040</td>\n",
       "    </tr>\n",
       "    <tr>\n",
       "      <th>12</th>\n",
       "      <td>1711000511_test_kge</td>\n",
       "      <td>0.528663</td>\n",
       "    </tr>\n",
       "  </tbody>\n",
       "</table>\n",
       "</div>"
      ],
      "text/plain": [
       "                 Metric     Value\n",
       "22  1711000504_test_kge  0.469891\n",
       "3   1711000505_test_kge  0.602654\n",
       "20  1711000506_test_kge  0.524301\n",
       "5   1711000507_test_kge  0.665654\n",
       "15  1711000508_test_kge  0.667101\n",
       "27  1711000509_test_kge  0.707040\n",
       "12  1711000511_test_kge  0.528663"
      ]
     },
     "execution_count": 11,
     "metadata": {},
     "output_type": "execute_result"
    }
   ],
   "source": [
    "df_orig200_tkge"
   ]
  },
  {
   "cell_type": "markdown",
   "id": "462efa79-48bd-4a3a-a939-c97802c13226",
   "metadata": {},
   "source": [
    "# Step 2 - Plot Results "
   ]
  },
  {
   "cell_type": "code",
   "execution_count": 12,
   "id": "4687f0ae-28f5-4c3d-b8c9-f47bad761770",
   "metadata": {},
   "outputs": [],
   "source": [
    "# define a function to plot results side by side \n",
    "\n",
    "def plot_side_by_side(df1, df2, label1, label2):\n",
    "    \"\"\"Plots a side-by-side bar chart comparing values from two DataFrames by Metric.\"\"\"\n",
    "    \n",
    "    # Merge DataFrames on 'Metric'\n",
    "    merged_df = df1.merge(df2, on='Metric', suffixes=(f'_{label1}', f'_{label2}'))\n",
    "    \n",
    "    metrics = merged_df['Metric']\n",
    "    values1 = merged_df[f'Value_{label1}']\n",
    "    values2 = merged_df[f'Value_{label2}']\n",
    "    \n",
    "    x = np.arange(len(metrics))  # Label locations\n",
    "    width = 0.4  # Bar width\n",
    "    \n",
    "    fig, ax = plt.subplots(figsize=(12, 6))\n",
    "    bars1 = ax.bar(x - width/2, values1, width, label=label1, color='b', alpha=0.7)\n",
    "    bars2 = ax.bar(x + width/2, values2, width, label=label2, color='r', alpha=0.7)\n",
    "\n",
    "    ax.set_xlabel(\"Metric\")\n",
    "    ax.set_ylabel(\"Value\")\n",
    "    ax.set_title(\"Side-by-Side Metric Comparison\")\n",
    "    ax.set_xticks(x)\n",
    "    ax.set_xticklabels(metrics, rotation=45, ha=\"right\")\n",
    "    ax.legend()\n",
    "\n",
    "    plt.show()\n",
    "\n"
   ]
  },
  {
   "cell_type": "code",
   "execution_count": 13,
   "id": "c85989b5-e324-430b-82c3-e3b9748e09b1",
   "metadata": {},
   "outputs": [
    {
     "data": {
      "image/png": "[encoded data removed]",
      "text/plain": [
       "<Figure size 1200x600 with 1 Axes>"
      ]
     },
     "metadata": {},
     "output_type": "display_data"
    }
   ],
   "source": [
    "plot_side_by_side(df_orig30_tkge, df_orig200_tkge, \"tkge_origin30\", \"tkge_origin200\")\n"
   ]
  },
  {
   "cell_type": "code",
   "execution_count": 37,
   "id": "14db079e-83a6-4b41-bda5-2910c5503528",
   "metadata": {},
   "outputs": [
    {
     "data": {
      "image/png": "[encoded data removed]",
      "text/plain": [
       "<Figure size 1200x600 with 1 Axes>"
      ]
     },
     "metadata": {},
     "output_type": "display_data"
    }
   ],
   "source": [
    "plot_side_by_side(df_orig30_tmse, df_orig200_tmse, \"tmse_origin30\", \"tmse_origin200\")"
   ]
  },
  {
   "cell_type": "code",
   "execution_count": 14,
   "id": "785ac15d-85c6-4bb3-8d24-c0791df329d3",
   "metadata": {},
   "outputs": [],
   "source": [
    "df_new10 = load_ml_metrics(tracking_uri, new_10)"
   ]
  },
  {
   "cell_type": "code",
   "execution_count": 15,
   "id": "6022fdae-ac80-4b5b-9aba-8bb56f85197b",
   "metadata": {},
   "outputs": [
    {
     "data": {
      "text/html": [
       "<div>\n",
       "<style scoped>\n",
       "    .dataframe tbody tr th:only-of-type {\n",
       "        vertical-align: middle;\n",
       "    }\n",
       "\n",
       "    .dataframe tbody tr th {\n",
       "        vertical-align: top;\n",
       "    }\n",
       "\n",
       "    .dataframe thead th {\n",
       "        text-align: right;\n",
       "    }\n",
       "</style>\n",
       "<table border=\"1\" class=\"dataframe\">\n",
       "  <thead>\n",
       "    <tr style=\"text-align: right;\">\n",
       "      <th></th>\n",
       "      <th>Metric</th>\n",
       "      <th>Step</th>\n",
       "      <th>Value</th>\n",
       "    </tr>\n",
       "  </thead>\n",
       "  <tbody>\n",
       "    <tr>\n",
       "      <th>0</th>\n",
       "      <td>train_mse_170103040305</td>\n",
       "      <td>0</td>\n",
       "      <td>0.029135</td>\n",
       "    </tr>\n",
       "    <tr>\n",
       "      <th>1</th>\n",
       "      <td>train_mse_170103040305</td>\n",
       "      <td>1</td>\n",
       "      <td>0.008264</td>\n",
       "    </tr>\n",
       "    <tr>\n",
       "      <th>2</th>\n",
       "      <td>train_mse_170103040305</td>\n",
       "      <td>2</td>\n",
       "      <td>0.003490</td>\n",
       "    </tr>\n",
       "    <tr>\n",
       "      <th>3</th>\n",
       "      <td>train_mse_170103040305</td>\n",
       "      <td>3</td>\n",
       "      <td>0.002993</td>\n",
       "    </tr>\n",
       "    <tr>\n",
       "      <th>4</th>\n",
       "      <td>train_mse_170103040305</td>\n",
       "      <td>4</td>\n",
       "      <td>0.002356</td>\n",
       "    </tr>\n",
       "    <tr>\n",
       "      <th>...</th>\n",
       "      <td>...</td>\n",
       "      <td>...</td>\n",
       "      <td>...</td>\n",
       "    </tr>\n",
       "    <tr>\n",
       "      <th>3589</th>\n",
       "      <td>train_mse_170200100101</td>\n",
       "      <td>4</td>\n",
       "      <td>0.002884</td>\n",
       "    </tr>\n",
       "    <tr>\n",
       "      <th>3590</th>\n",
       "      <td>train_mse_170200100101</td>\n",
       "      <td>5</td>\n",
       "      <td>0.002963</td>\n",
       "    </tr>\n",
       "    <tr>\n",
       "      <th>3591</th>\n",
       "      <td>train_mse_170200100101</td>\n",
       "      <td>6</td>\n",
       "      <td>0.002589</td>\n",
       "    </tr>\n",
       "    <tr>\n",
       "      <th>3592</th>\n",
       "      <td>train_mse_170200100101</td>\n",
       "      <td>7</td>\n",
       "      <td>0.004654</td>\n",
       "    </tr>\n",
       "    <tr>\n",
       "      <th>3593</th>\n",
       "      <td>train_mse_170200100101</td>\n",
       "      <td>8</td>\n",
       "      <td>0.002564</td>\n",
       "    </tr>\n",
       "  </tbody>\n",
       "</table>\n",
       "<p>3594 rows × 3 columns</p>\n",
       "</div>"
      ],
      "text/plain": [
       "                      Metric  Step     Value\n",
       "0     train_mse_170103040305     0  0.029135\n",
       "1     train_mse_170103040305     1  0.008264\n",
       "2     train_mse_170103040305     2  0.003490\n",
       "3     train_mse_170103040305     3  0.002993\n",
       "4     train_mse_170103040305     4  0.002356\n",
       "...                      ...   ...       ...\n",
       "3589  train_mse_170200100101     4  0.002884\n",
       "3590  train_mse_170200100101     5  0.002963\n",
       "3591  train_mse_170200100101     6  0.002589\n",
       "3592  train_mse_170200100101     7  0.004654\n",
       "3593  train_mse_170200100101     8  0.002564\n",
       "\n",
       "[3594 rows x 3 columns]"
      ]
     },
     "execution_count": 15,
     "metadata": {},
     "output_type": "execute_result"
    }
   ],
   "source": [
    "df_new10"
   ]
  },
  {
   "cell_type": "code",
   "execution_count": null,
   "id": "c2f1c505-cd20-4867-9676-3bb26915e930",
   "metadata": {},
   "outputs": [],
   "source": []
  }
 ],
 "metadata": {
  "kernelspec": {
   "display_name": "Python 3 (ipykernel)",
   "language": "python",
   "name": "python3"
  },
  "language_info": {
   "codemirror_mode": {
    "name": "ipython",
    "version": 3
   },
   "file_extension": ".py",
   "mimetype": "text/x-python",
   "name": "python",
   "nbconvert_exporter": "python",
   "pygments_lexer": "ipython3",
   "version": "3.11.11"
  }
 },
 "nbformat": 4,
 "nbformat_minor": 5
}
