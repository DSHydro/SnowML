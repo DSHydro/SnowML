{
 "cells": [
  {
   "cell_type": "markdown",
   "id": "03d4688b-a933-46a3-ac43-75ef8082a637",
   "metadata": {},
   "source": [
    "# Investigate Region 17 Errors "
   ]
  },
  {
   "cell_type": "code",
   "execution_count": 2,
   "id": "ce6072cc-85bc-402a-87ae-75c73752b9fe",
   "metadata": {},
   "outputs": [],
   "source": [
    "import geopandas as gpd\n",
    "import pandas as pd\n",
    "from snowML.datapipe.utils import get_geos as gg"
   ]
  },
  {
   "cell_type": "code",
   "execution_count": null,
   "id": "8fc85783-a3fc-40e0-bac7-621501e5f547",
   "metadata": {},
   "outputs": [],
   "source": [
    "# forest_cover_err: ['17070102', '17080001', '17090007', '17110021'], ca-hucs = 567\n",
    "\n",
    "# dem_err = [], ca-hucs = 567\n",
    "\n",
    "# st_err = ['] 17010205' - ['170102051501'] \n",
    "# '17080001' - ['170800010505'] \n",
    "# '17100101', - ['171001010608']\n",
    "# '17100106',  - ['171001060701']\n",
    "# '17110002 - ['171100020401'], ca_hucs = 567"
   ]
  },
  {
   "cell_type": "markdown",
   "id": "b94e954e-4f2e-410e-8f59-e536eb3d8928",
   "metadata": {},
   "source": [
    "To Do \n",
    "1. [DONE] Clear as many snow_type errors as you can\n",
    "2. Create new combine \n",
    "3. Rerun model ready data for newly added hucs - all vars \n",
    "4. Rerun model ready data - just the last step (model overwrite = true) "
   ]
  },
  {
   "cell_type": "code",
   "execution_count": 35,
   "id": "afb813ed-4b3a-4e3a-bf1e-6d8387fba84a",
   "metadata": {},
   "outputs": [],
   "source": [
    "huc = 17010205\n",
    "geos = gg.get_geos_with_name(huc, '12')"
   ]
  },
  {
   "cell_type": "code",
   "execution_count": 36,
   "id": "b96f4cd8-999d-41be-8075-7f6a7777063a",
   "metadata": {},
   "outputs": [],
   "source": [
    "ls = list(geos[\"huc_id\"])"
   ]
  },
  {
   "cell_type": "code",
   "execution_count": 39,
   "id": "c7933ff2-e06d-4588-b96e-0a7b233dfa33",
   "metadata": {},
   "outputs": [],
   "source": [
    "#ls\n"
   ]
  },
  {
   "cell_type": "code",
   "execution_count": 38,
   "id": "dee40ad8-c515-4730-a2ea-8788277246d4",
   "metadata": {},
   "outputs": [
    {
     "data": {
      "text/plain": [
       "86"
      ]
     },
     "execution_count": 38,
     "metadata": {},
     "output_type": "execute_result"
    }
   ],
   "source": [
    "len(ls)"
   ]
  },
  {
   "cell_type": "code",
   "execution_count": null,
   "id": "739949ba-a7e7-4dca-880f-0987cab18113",
   "metadata": {},
   "outputs": [],
   "source": []
  }
 ],
 "metadata": {
  "kernelspec": {
   "display_name": "Python 3 (ipykernel)",
   "language": "python",
   "name": "python3"
  },
  "language_info": {
   "codemirror_mode": {
    "name": "ipython",
    "version": 3
   },
   "file_extension": ".py",
   "mimetype": "text/x-python",
   "name": "python",
   "nbconvert_exporter": "python",
   "pygments_lexer": "ipython3",
   "version": "3.11.8"
  }
 },
 "nbformat": 4,
 "nbformat_minor": 5
}
