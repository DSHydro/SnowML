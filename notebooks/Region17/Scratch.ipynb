{
 "cells": [
  {
   "cell_type": "markdown",
   "id": "f28ece2a-9f08-43d4-aae2-97244d162e51",
   "metadata": {},
   "source": [
    "# Scratch "
   ]
  },
  {
   "cell_type": "code",
   "execution_count": 1,
   "id": "e9d6887d-4f92-4cef-8bda-a11b42f1f4ac",
   "metadata": {},
   "outputs": [],
   "source": [
    "import pandas as pd\n",
    "import json\n",
    "from snowML.datapipe.utils import data_utils as du"
   ]
  },
  {
   "cell_type": "code",
   "execution_count": 2,
   "id": "2573eaa5-a3fb-4921-9f78-1c475400607d",
   "metadata": {},
   "outputs": [],
   "source": [
    "def drop_swe_columns(df): \n",
    "    df_slim = df.loc[:, ~df.columns.str.contains('swe', case=False)]\n",
    "    return df_slim\n",
    "\n",
    "def add_lagged_swe(df, num_list): \n",
    "    col_names = [f\"mean_swe_lag_{num}\" for num in num_list]\n",
    "    for num, col in zip(num_list, col_names):\n",
    "        df[col] = df[\"mean_swe\"].shift(num)\n",
    "    return df\n",
    "\n",
    "def load_UA(huc):\n",
    "    f_UA = f\"model_ready_huc{huc}.csv\"\n",
    "    b_mr = \"snowml-model-ready\"  # TO DO - Make Dynamic \n",
    "    df_UA = du.s3_to_df(f_UA, b_mr)\n",
    "    df_UA.set_index(\"day\", inplace=True)\n",
    "    col_order = list(df_UA.columns)\n",
    "    return df_UA, col_order\n",
    "\n",
    "def load_UCLA(huc):\n",
    "    f_UCLA = f\"mean_swe_ucla_2_in_{huc}.csv\"\n",
    "    b_s = \"snowml-gold\" # TO DO - Make Dynamic \n",
    "    df_UCLA = du.s3_to_df(f_UCLA, b_s)\n",
    "    df_UCLA.set_index(\"day\", inplace=True)\n",
    "    df_UCLA.rename(columns={\"SWE_Post\": \"mean_swe\"}, inplace=True)\n",
    "    return df_UCLA\n",
    "\n",
    "def process_one_huc(huc): \n",
    "    df_UA, col_order = load_UA(huc)\n",
    "    df_model_slim = drop_swe_columns(df_UA)\n",
    "    df_UCLA = load_UCLA(huc)\n",
    "    df_model = df_UCLA.join(df_model_slim, how=\"inner\")\n",
    "    num_list = [7, 30, 60]\n",
    "    df_model = add_lagged_swe(df_model, num_list)\n",
    "    df_model_final = df_model[col_order]\n",
    "    f_out = f\"model_ready_huc{huc}_ucla\"\n",
    "    b_mr = \"snowml-model-ready\"  # TO DO - Make Dynamic \n",
    "    du.dat_to_s3(df_model_final, b_mr, f_out, file_type=\"csv\")\n",
    "    return df_model_final\n",
    "    \n",
    "  "
   ]
  },
  {
   "cell_type": "code",
   "execution_count": 3,
   "id": "abd46c7a-c264-4214-a167-81332c41aca4",
   "metadata": {},
   "outputs": [],
   "source": [
    "huc_id = \"171100051002\""
   ]
  },
  {
   "cell_type": "code",
   "execution_count": 4,
   "id": "cce315e3-44f1-4223-8fe2-35efaa873a4b",
   "metadata": {},
   "outputs": [
    {
     "name": "stdout",
     "output_type": "stream",
     "text": [
      "File model_ready_huc171100051002_ucla.csv successfully uploaded to snowml-model-ready\n",
      "(13149, 12)\n"
     ]
    },
    {
     "data": {
      "text/html": [
       "<div>\n",
       "<style scoped>\n",
       "    .dataframe tbody tr th:only-of-type {\n",
       "        vertical-align: middle;\n",
       "    }\n",
       "\n",
       "    .dataframe tbody tr th {\n",
       "        vertical-align: top;\n",
       "    }\n",
       "\n",
       "    .dataframe thead th {\n",
       "        text-align: right;\n",
       "    }\n",
       "</style>\n",
       "<table border=\"1\" class=\"dataframe\">\n",
       "  <thead>\n",
       "    <tr style=\"text-align: right;\">\n",
       "      <th></th>\n",
       "      <th>mean_pr</th>\n",
       "      <th>mean_tair</th>\n",
       "      <th>mean_vs</th>\n",
       "      <th>mean_srad</th>\n",
       "      <th>mean_hum</th>\n",
       "      <th>mean_swe</th>\n",
       "      <th>Mean Elevation</th>\n",
       "      <th>Predominant Snow</th>\n",
       "      <th>Mean Forest Cover</th>\n",
       "      <th>mean_swe_lag_7</th>\n",
       "      <th>mean_swe_lag_30</th>\n",
       "      <th>mean_swe_lag_60</th>\n",
       "    </tr>\n",
       "    <tr>\n",
       "      <th>day</th>\n",
       "      <th></th>\n",
       "      <th></th>\n",
       "      <th></th>\n",
       "      <th></th>\n",
       "      <th></th>\n",
       "      <th></th>\n",
       "      <th></th>\n",
       "      <th></th>\n",
       "      <th></th>\n",
       "      <th></th>\n",
       "      <th></th>\n",
       "      <th></th>\n",
       "    </tr>\n",
       "  </thead>\n",
       "  <tbody>\n",
       "    <tr>\n",
       "      <th>1984-10-01</th>\n",
       "      <td>0.00</td>\n",
       "      <td>8.16250</td>\n",
       "      <td>2.175</td>\n",
       "      <td>144.50</td>\n",
       "      <td>0.660562</td>\n",
       "      <td>0.0</td>\n",
       "      <td>1204.386841</td>\n",
       "      <td>Maritime</td>\n",
       "      <td>45.459721</td>\n",
       "      <td>NaN</td>\n",
       "      <td>NaN</td>\n",
       "      <td>NaN</td>\n",
       "    </tr>\n",
       "    <tr>\n",
       "      <th>1984-10-02</th>\n",
       "      <td>1.95</td>\n",
       "      <td>10.24375</td>\n",
       "      <td>1.475</td>\n",
       "      <td>121.85</td>\n",
       "      <td>0.706625</td>\n",
       "      <td>0.0</td>\n",
       "      <td>1204.386841</td>\n",
       "      <td>Maritime</td>\n",
       "      <td>45.459721</td>\n",
       "      <td>NaN</td>\n",
       "      <td>NaN</td>\n",
       "      <td>NaN</td>\n",
       "    </tr>\n",
       "  </tbody>\n",
       "</table>\n",
       "</div>"
      ],
      "text/plain": [
       "            mean_pr  mean_tair  mean_vs  mean_srad  mean_hum  mean_swe  \\\n",
       "day                                                                      \n",
       "1984-10-01     0.00    8.16250    2.175     144.50  0.660562       0.0   \n",
       "1984-10-02     1.95   10.24375    1.475     121.85  0.706625       0.0   \n",
       "\n",
       "            Mean Elevation Predominant Snow  Mean Forest Cover  \\\n",
       "day                                                              \n",
       "1984-10-01     1204.386841         Maritime          45.459721   \n",
       "1984-10-02     1204.386841         Maritime          45.459721   \n",
       "\n",
       "            mean_swe_lag_7  mean_swe_lag_30  mean_swe_lag_60  \n",
       "day                                                           \n",
       "1984-10-01             NaN              NaN              NaN  \n",
       "1984-10-02             NaN              NaN              NaN  "
      ]
     },
     "execution_count": 4,
     "metadata": {},
     "output_type": "execute_result"
    }
   ],
   "source": [
    "df_model = process_one_huc(huc_id)\n",
    "print(df_model.shape)\n",
    "df_model.head(2)"
   ]
  },
  {
   "cell_type": "code",
   "execution_count": 5,
   "id": "ed2297f6-db15-49eb-8a02-069b8e6b82ab",
   "metadata": {},
   "outputs": [
    {
     "data": {
      "text/plain": [
       "154"
      ]
     },
     "execution_count": 5,
     "metadata": {},
     "output_type": "execute_result"
    }
   ],
   "source": [
    "f = \"../../src/snowML/datapipe/huc_lists/MandM_hucs_.json\"\n",
    "with open(f, 'r', encoding='utf-8') as file: data = json.load(file)\n",
    "hucs_mar = data[\"maritime_hucs\"]\n",
    "len(hucs_mar)"
   ]
  },
  {
   "cell_type": "code",
   "execution_count": 6,
   "id": "0be9f4e6-e14e-4e2a-8524-9d67509feed9",
   "metadata": {},
   "outputs": [],
   "source": [
    "hucs_mar_small = hucs_mar\n",
    "# df_errors was ['171100050602'"
   ]
  },
  {
   "cell_type": "code",
   "execution_count": 9,
   "id": "de2f1f63-7ee0-4710-bd04-47bf3f44a333",
   "metadata": {},
   "outputs": [],
   "source": [
    "# no errors in tum hucs \n",
    "tum_hucs = ['180400090101',\n",
    " '180400090102',\n",
    " '180400090103',\n",
    " '180400090104',\n",
    " '180400090105',\n",
    " '180400090106',\n",
    " '180400090107',\n",
    " '180400090201',\n",
    " '180400090202',\n",
    " '180400090301',\n",
    " '180400090302',\n",
    " '180400090303',\n",
    " '180400090401',\n",
    " '180400090402',\n",
    " '180400090403',\n",
    " '180400090404',\n",
    " '180400090501',\n",
    " '180400090502',\n",
    " '180400090503',\n",
    " '180400090504',\n",
    " '180400090601',\n",
    " '180400090801']"
   ]
  },
  {
   "cell_type": "code",
   "execution_count": 11,
   "id": "bfdaa8c0-2805-47a3-841b-2053e6856f74",
   "metadata": {},
   "outputs": [
    {
     "data": {
      "text/plain": [
       "187"
      ]
     },
     "execution_count": 11,
     "metadata": {},
     "output_type": "execute_result"
    }
   ],
   "source": [
    "hucs_mon = data[\"montane_hucs\"]\n",
    "len(hucs_mon)"
   ]
  },
  {
   "cell_type": "code",
   "execution_count": 12,
   "id": "c2c6cd8a-c463-4fe1-a9f9-b4c0bfebbc1a",
   "metadata": {},
   "outputs": [
    {
     "name": "stdout",
     "output_type": "stream",
     "text": [
      "['170200090208', '170200090209', '170200090301', '170200090302', '170200090304', '170200110406', '170200110501', '170200110502', '170200110503', '170200110601', '170200110602', '170200110603', '170200110704', '171100050402', '171100050404', '171100050501', '170300010201', '170300010204', '170300010205', '170300010401', '170300010402', '170300010501', '170300010503', '170300010504', '170300010508', '170300010509', '170300010601', '170300010602', '170300020108', '170300020109', '170300020201', '170300020202', '170300020203', '170300020205', '170300020206', '170300020306', '170300020307', '170300020308', '170300020309', '170300030101', '170300030102', '170300030103', '170300030602', '170200100101', '170200100102', '170200100103', '170200100204', '170200100205', '170200100208', '170200100305', '170200100309', '170200100310', '170200100402', '170103040101', '170103040102', '170103040103', '170103040104', '170103040105', '170103040201', '170103040202', '170103040203', '170103040301', '170103040302', '170103040303', '170103040304', '170103040305', '170103040306', '170103040307', '170103040308', '170103040401', '170103040402', '170103040501', '170103040502', '170103040503', '170103040504', '170103040505', '170103040601', '170103040602', '170103040603', '170103040604', '170103040606', '170103040701', '170103040702', '170103040703', '170103040801', '170103040803', '170103040804', '170103040901', '170103020101', '170103020102', '170103020103', '170103020201', '170103020202', '170103020301', '170103020302', '170103020303', '170602070101', '170602070102', '170602070103', '170602070104', '170602070105', '170602070106', '170602070201', '170602070202', '170602070203', '170602070204', '170602070205', '170602070206', '170602070301', '170602070302', '170602070303', '170602070304', '170602070305', '170602070306', '170602070401', '170602070402', '170602070403', '170602070501', '170602070502', '170602070503', '170602070504', '170602070601', '170602070602', '170602070603', '170602070701', '170602070702', '170602070703', '170602070704', '170602070705', '170602070706', '170602070707', '170602070801', '170602070802', '170602070803', '170602070901', '170602070902', '170602070903', '170602070904', '170602071001', '170602071002', '170602071102', '170602071103', '170602071104', '170602071105', '170602071106', '170602071107', '170602080101', '170602080102', '170602080103', '170602080104', '170602080105', '170602080106', '170602080107', '170602080108', '170602080201', '170602080202', '170602080203', '170602080204', '170602080205', '170602080206', '170602080301', '170602080302', '170602080303', '170602080401', '170602080402', '170602080405', '170602080406', '170602080407', '170602080408', '170602080409', '170602080410', '170602080411', '170602080412', '170602080501', '170602080502', '170602080503', '170602080504', '170602080505', '170602080506', '170602080507', '170602080601', '170602080603', '170602080604', '170602080605', '170602080606', '170602080607', '170602080608']\n"
     ]
    }
   ],
   "source": [
    "df_errors = []\n",
    "for huc in hucs_mon: \n",
    "    try: \n",
    "        process_one_huc(huc)\n",
    "    except: \n",
    "        df_errors.append(huc)\n",
    "print (df_errors)"
   ]
  },
  {
   "cell_type": "code",
   "execution_count": null,
   "id": "a2e35694-0370-4876-a65e-b3db2a7fcc2a",
   "metadata": {},
   "outputs": [],
   "source": []
  }
 ],
 "metadata": {
  "kernelspec": {
   "display_name": "Python 3 (ipykernel)",
   "language": "python",
   "name": "python3"
  },
  "language_info": {
   "codemirror_mode": {
    "name": "ipython",
    "version": 3
   },
   "file_extension": ".py",
   "mimetype": "text/x-python",
   "name": "python",
   "nbconvert_exporter": "python",
   "pygments_lexer": "ipython3",
   "version": "3.11.8"
  }
 },
 "nbformat": 4,
 "nbformat_minor": 5
}
