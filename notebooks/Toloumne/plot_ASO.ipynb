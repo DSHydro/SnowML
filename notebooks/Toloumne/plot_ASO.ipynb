{
 "cells": [
  {
   "cell_type": "code",
   "execution_count": 1,
   "id": "b03131e9-7408-4ca9-ba40-1f1fa445cf92",
   "metadata": {},
   "outputs": [],
   "source": [
    "import geopandas as gpd\n",
    "import rasterio\n",
    "import rioxarray\n",
    "import pandas as pd\n",
    "import xarray as xr\n",
    "import matplotlib.pyplot as plt\n",
    "from shapely.geometry import mapping\n",
    "import geopandas as gpd\n",
    "from rasterio.features import geometry_mask\n",
    "import numpy as np\n",
    "from rasterio.enums import Resampling\n",
    "import datetime"
   ]
  },
  {
   "cell_type": "code",
   "execution_count": 2,
   "id": "595e9eea-c7b9-48d0-9ab1-f9f6c277e098",
   "metadata": {},
   "outputs": [],
   "source": [
    "# Load the shapefile\n",
    "#shapefile_path = '/home/jovyan/tests/data/Tum_lat_lon_shp'\n",
    "shapefile_path = \"tumlatlon.shp\"\n",
    "gdf_Tum_shp = gpd.read_file(shapefile_path)"
   ]
  },
  {
   "cell_type": "code",
   "execution_count": 3,
   "id": "11af3382-2936-4bd8-8d7b-84ba4f787e8e",
   "metadata": {},
   "outputs": [],
   "source": [
    "new_crs = \"EPSG:4326\"  # Example: WGS 84 / Pseudo-Mercator\n",
    "gdf_Tum_reprojected = gdf_Tum_shp.to_crs(new_crs)"
   ]
  },
  {
   "cell_type": "code",
   "execution_count": 4,
   "id": "fde37aa1-6f79-435f-9479-d158359cd1b5",
   "metadata": {},
   "outputs": [],
   "source": [
    "poly_reprojected = gdf_Tum_reprojected.geometry.to_list()"
   ]
  },
  {
   "cell_type": "code",
   "execution_count": 5,
   "id": "71e2842f-d701-469f-b0df-fee005993aec",
   "metadata": {},
   "outputs": [
    {
     "ename": "RasterioIOError",
     "evalue": "/home/jovyan/tests/data/ASO_Tuolumne_2025Feb08-09_swe_50m.tif: No such file or directory",
     "output_type": "error",
     "traceback": [
      "\u001b[0;31m---------------------------------------------------------------------------\u001b[0m",
      "\u001b[0;31mKeyError\u001b[0m                                  Traceback (most recent call last)",
      "File \u001b[0;32m~/miniconda3/lib/python3.11/site-packages/xarray/backends/file_manager.py:211\u001b[0m, in \u001b[0;36mCachingFileManager._acquire_with_cache_info\u001b[0;34m(self, needs_lock)\u001b[0m\n\u001b[1;32m    210\u001b[0m \u001b[38;5;28;01mtry\u001b[39;00m:\n\u001b[0;32m--> 211\u001b[0m     file \u001b[38;5;241m=\u001b[39m \u001b[38;5;28mself\u001b[39m\u001b[38;5;241m.\u001b[39m_cache[\u001b[38;5;28mself\u001b[39m\u001b[38;5;241m.\u001b[39m_key]\n\u001b[1;32m    212\u001b[0m \u001b[38;5;28;01mexcept\u001b[39;00m \u001b[38;5;167;01mKeyError\u001b[39;00m:\n",
      "File \u001b[0;32m~/miniconda3/lib/python3.11/site-packages/xarray/backends/lru_cache.py:56\u001b[0m, in \u001b[0;36mLRUCache.__getitem__\u001b[0;34m(self, key)\u001b[0m\n\u001b[1;32m     55\u001b[0m \u001b[38;5;28;01mwith\u001b[39;00m \u001b[38;5;28mself\u001b[39m\u001b[38;5;241m.\u001b[39m_lock:\n\u001b[0;32m---> 56\u001b[0m     value \u001b[38;5;241m=\u001b[39m \u001b[38;5;28mself\u001b[39m\u001b[38;5;241m.\u001b[39m_cache[key]\n\u001b[1;32m     57\u001b[0m     \u001b[38;5;28mself\u001b[39m\u001b[38;5;241m.\u001b[39m_cache\u001b[38;5;241m.\u001b[39mmove_to_end(key)\n",
      "\u001b[0;31mKeyError\u001b[0m: [<function open at 0x7f7b311b2ac0>, ('/home/jovyan/tests/data/ASO_Tuolumne_2025Feb08-09_swe_50m.tif',), 'r', (('sharing', False),), '415a5b90-5698-48d6-a519-16b87b6bc343']",
      "\nDuring handling of the above exception, another exception occurred:\n",
      "\u001b[0;31mCPLE_OpenFailedError\u001b[0m                      Traceback (most recent call last)",
      "File \u001b[0;32mrasterio/_base.pyx:310\u001b[0m, in \u001b[0;36mrasterio._base.DatasetBase.__init__\u001b[0;34m()\u001b[0m\n",
      "File \u001b[0;32mrasterio/_base.pyx:221\u001b[0m, in \u001b[0;36mrasterio._base.open_dataset\u001b[0;34m()\u001b[0m\n",
      "File \u001b[0;32mrasterio/_err.pyx:359\u001b[0m, in \u001b[0;36mrasterio._err.exc_wrap_pointer\u001b[0;34m()\u001b[0m\n",
      "\u001b[0;31mCPLE_OpenFailedError\u001b[0m: /home/jovyan/tests/data/ASO_Tuolumne_2025Feb08-09_swe_50m.tif: No such file or directory",
      "\nDuring handling of the above exception, another exception occurred:\n",
      "\u001b[0;31mRasterioIOError\u001b[0m                           Traceback (most recent call last)",
      "Cell \u001b[0;32mIn[5], line 3\u001b[0m\n\u001b[1;32m      1\u001b[0m file_path_aso_Feb9_25 \u001b[38;5;241m=\u001b[39m \u001b[38;5;124m\"\u001b[39m\u001b[38;5;124m/home/jovyan/tests/data/ASO_Tuolumne_2025Feb08-09_swe_50m.tif\u001b[39m\u001b[38;5;124m\"\u001b[39m  \u001b[38;5;66;03m# Replace with your file path\u001b[39;00m\n\u001b[1;32m      2\u001b[0m file_path_aso_Feb25_25 \u001b[38;5;241m=\u001b[39m \u001b[38;5;124m\"\u001b[39m\u001b[38;5;124m/home/jovyan/tests/data/ASO_Tuolumne_2025Feb25_swe_50m.tif\u001b[39m\u001b[38;5;124m\"\u001b[39m  \u001b[38;5;66;03m# Replace with your file path\u001b[39;00m\n\u001b[0;32m----> 3\u001b[0m aso_Feb9_25 \u001b[38;5;241m=\u001b[39m rioxarray\u001b[38;5;241m.\u001b[39mopen_rasterio(file_path_aso_Feb9_25)\n\u001b[1;32m      4\u001b[0m aso_Feb25_25 \u001b[38;5;241m=\u001b[39m rioxarray\u001b[38;5;241m.\u001b[39mopen_rasterio(file_path_aso_Feb25_25)\n",
      "File \u001b[0;32m~/miniconda3/lib/python3.11/site-packages/rioxarray/_io.py:1135\u001b[0m, in \u001b[0;36mopen_rasterio\u001b[0;34m(filename, parse_coordinates, chunks, cache, lock, masked, mask_and_scale, variable, group, default_name, decode_times, decode_timedelta, band_as_variable, **open_kwargs)\u001b[0m\n\u001b[1;32m   1133\u001b[0m     \u001b[38;5;28;01melse\u001b[39;00m:\n\u001b[1;32m   1134\u001b[0m         manager \u001b[38;5;241m=\u001b[39m URIManager(file_opener, filename, mode\u001b[38;5;241m=\u001b[39m\u001b[38;5;124m\"\u001b[39m\u001b[38;5;124mr\u001b[39m\u001b[38;5;124m\"\u001b[39m, kwargs\u001b[38;5;241m=\u001b[39mopen_kwargs)\n\u001b[0;32m-> 1135\u001b[0m     riods \u001b[38;5;241m=\u001b[39m manager\u001b[38;5;241m.\u001b[39macquire()\n\u001b[1;32m   1136\u001b[0m     captured_warnings \u001b[38;5;241m=\u001b[39m rio_warnings\u001b[38;5;241m.\u001b[39mcopy()\n\u001b[1;32m   1138\u001b[0m \u001b[38;5;66;03m# raise the NotGeoreferencedWarning if applicable\u001b[39;00m\n",
      "File \u001b[0;32m~/miniconda3/lib/python3.11/site-packages/xarray/backends/file_manager.py:193\u001b[0m, in \u001b[0;36mCachingFileManager.acquire\u001b[0;34m(self, needs_lock)\u001b[0m\n\u001b[1;32m    178\u001b[0m \u001b[38;5;28;01mdef\u001b[39;00m \u001b[38;5;21macquire\u001b[39m(\u001b[38;5;28mself\u001b[39m, needs_lock\u001b[38;5;241m=\u001b[39m\u001b[38;5;28;01mTrue\u001b[39;00m):\n\u001b[1;32m    179\u001b[0m \u001b[38;5;250m    \u001b[39m\u001b[38;5;124;03m\"\"\"Acquire a file object from the manager.\u001b[39;00m\n\u001b[1;32m    180\u001b[0m \n\u001b[1;32m    181\u001b[0m \u001b[38;5;124;03m    A new file is only opened if it has expired from the\u001b[39;00m\n\u001b[0;32m   (...)\u001b[0m\n\u001b[1;32m    191\u001b[0m \u001b[38;5;124;03m        An open file object, as returned by ``opener(*args, **kwargs)``.\u001b[39;00m\n\u001b[1;32m    192\u001b[0m \u001b[38;5;124;03m    \"\"\"\u001b[39;00m\n\u001b[0;32m--> 193\u001b[0m     file, _ \u001b[38;5;241m=\u001b[39m \u001b[38;5;28mself\u001b[39m\u001b[38;5;241m.\u001b[39m_acquire_with_cache_info(needs_lock)\n\u001b[1;32m    194\u001b[0m     \u001b[38;5;28;01mreturn\u001b[39;00m file\n",
      "File \u001b[0;32m~/miniconda3/lib/python3.11/site-packages/xarray/backends/file_manager.py:217\u001b[0m, in \u001b[0;36mCachingFileManager._acquire_with_cache_info\u001b[0;34m(self, needs_lock)\u001b[0m\n\u001b[1;32m    215\u001b[0m     kwargs \u001b[38;5;241m=\u001b[39m kwargs\u001b[38;5;241m.\u001b[39mcopy()\n\u001b[1;32m    216\u001b[0m     kwargs[\u001b[38;5;124m\"\u001b[39m\u001b[38;5;124mmode\u001b[39m\u001b[38;5;124m\"\u001b[39m] \u001b[38;5;241m=\u001b[39m \u001b[38;5;28mself\u001b[39m\u001b[38;5;241m.\u001b[39m_mode\n\u001b[0;32m--> 217\u001b[0m file \u001b[38;5;241m=\u001b[39m \u001b[38;5;28mself\u001b[39m\u001b[38;5;241m.\u001b[39m_opener(\u001b[38;5;241m*\u001b[39m\u001b[38;5;28mself\u001b[39m\u001b[38;5;241m.\u001b[39m_args, \u001b[38;5;241m*\u001b[39m\u001b[38;5;241m*\u001b[39mkwargs)\n\u001b[1;32m    218\u001b[0m \u001b[38;5;28;01mif\u001b[39;00m \u001b[38;5;28mself\u001b[39m\u001b[38;5;241m.\u001b[39m_mode \u001b[38;5;241m==\u001b[39m \u001b[38;5;124m\"\u001b[39m\u001b[38;5;124mw\u001b[39m\u001b[38;5;124m\"\u001b[39m:\n\u001b[1;32m    219\u001b[0m     \u001b[38;5;66;03m# ensure file doesn't get overridden when opened again\u001b[39;00m\n\u001b[1;32m    220\u001b[0m     \u001b[38;5;28mself\u001b[39m\u001b[38;5;241m.\u001b[39m_mode \u001b[38;5;241m=\u001b[39m \u001b[38;5;124m\"\u001b[39m\u001b[38;5;124ma\u001b[39m\u001b[38;5;124m\"\u001b[39m\n",
      "File \u001b[0;32m~/miniconda3/lib/python3.11/site-packages/rasterio/env.py:463\u001b[0m, in \u001b[0;36mensure_env_with_credentials.<locals>.wrapper\u001b[0;34m(*args, **kwds)\u001b[0m\n\u001b[1;32m    460\u001b[0m     session \u001b[38;5;241m=\u001b[39m DummySession()\n\u001b[1;32m    462\u001b[0m \u001b[38;5;28;01mwith\u001b[39;00m env_ctor(session\u001b[38;5;241m=\u001b[39msession):\n\u001b[0;32m--> 463\u001b[0m     \u001b[38;5;28;01mreturn\u001b[39;00m f(\u001b[38;5;241m*\u001b[39margs, \u001b[38;5;241m*\u001b[39m\u001b[38;5;241m*\u001b[39mkwds)\n",
      "File \u001b[0;32m~/miniconda3/lib/python3.11/site-packages/rasterio/__init__.py:355\u001b[0m, in \u001b[0;36mopen\u001b[0;34m(fp, mode, driver, width, height, count, crs, transform, dtype, nodata, sharing, opener, **kwargs)\u001b[0m\n\u001b[1;32m    352\u001b[0m     path \u001b[38;5;241m=\u001b[39m _parse_path(raw_dataset_path)\n\u001b[1;32m    354\u001b[0m \u001b[38;5;28;01mif\u001b[39;00m mode \u001b[38;5;241m==\u001b[39m \u001b[38;5;124m\"\u001b[39m\u001b[38;5;124mr\u001b[39m\u001b[38;5;124m\"\u001b[39m:\n\u001b[0;32m--> 355\u001b[0m     dataset \u001b[38;5;241m=\u001b[39m DatasetReader(path, driver\u001b[38;5;241m=\u001b[39mdriver, sharing\u001b[38;5;241m=\u001b[39msharing, \u001b[38;5;241m*\u001b[39m\u001b[38;5;241m*\u001b[39mkwargs)\n\u001b[1;32m    356\u001b[0m \u001b[38;5;28;01melif\u001b[39;00m mode \u001b[38;5;241m==\u001b[39m \u001b[38;5;124m\"\u001b[39m\u001b[38;5;124mr+\u001b[39m\u001b[38;5;124m\"\u001b[39m:\n\u001b[1;32m    357\u001b[0m     dataset \u001b[38;5;241m=\u001b[39m get_writer_for_path(path, driver\u001b[38;5;241m=\u001b[39mdriver)(\n\u001b[1;32m    358\u001b[0m         path, mode, driver\u001b[38;5;241m=\u001b[39mdriver, sharing\u001b[38;5;241m=\u001b[39msharing, \u001b[38;5;241m*\u001b[39m\u001b[38;5;241m*\u001b[39mkwargs\n\u001b[1;32m    359\u001b[0m     )\n",
      "File \u001b[0;32mrasterio/_base.pyx:312\u001b[0m, in \u001b[0;36mrasterio._base.DatasetBase.__init__\u001b[0;34m()\u001b[0m\n",
      "\u001b[0;31mRasterioIOError\u001b[0m: /home/jovyan/tests/data/ASO_Tuolumne_2025Feb08-09_swe_50m.tif: No such file or directory"
     ]
    }
   ],
   "source": [
    "file_path_aso_Feb9_25 = \"/home/jovyan/tests/data/ASO_Tuolumne_2025Feb08-09_swe_50m.tif\"  # Replace with your file path\n",
    "file_path_aso_Feb25_25 = \"/home/jovyan/tests/data/ASO_Tuolumne_2025Feb25_swe_50m.tif\"  # Replace with your file path\n",
    "aso_Feb9_25 = rioxarray.open_rasterio(file_path_aso_Feb9_25)\n",
    "aso_Feb25_25 = rioxarray.open_rasterio(file_path_aso_Feb25_25)"
   ]
  },
  {
   "cell_type": "code",
   "execution_count": null,
   "id": "dee016d3-5b98-44d7-a1d0-5f1fc420dbf9",
   "metadata": {},
   "outputs": [],
   "source": [
    "clipped_aso_Feb9_25 = aso_Feb9_25.rio.clip(gdf_Tum_shp.geometry.values, gdf_Tum_shp.crs, drop=False, invert=False)\n",
    "clipped_aso_Feb25_25 = aso_Feb25_25.rio.clip(gdf_Tum_shp.geometry.values, gdf_Tum_shp.crs, drop=False, invert=False)"
   ]
  },
  {
   "cell_type": "code",
   "execution_count": null,
   "id": "ebfc7a1e-2db8-4c06-a332-e950c119205c",
   "metadata": {},
   "outputs": [],
   "source": [
    "clipped_aso_Feb9_25.plot()"
   ]
  },
  {
   "cell_type": "code",
   "execution_count": null,
   "id": "3cbc17b5-f522-4ae8-9571-2e5a50e772a9",
   "metadata": {},
   "outputs": [],
   "source": [
    "clipped_aso_Feb25_25.plot()"
   ]
  },
  {
   "cell_type": "code",
   "execution_count": null,
   "id": "d07741b2-6e76-446d-8615-6d009bbe9522",
   "metadata": {},
   "outputs": [],
   "source": [
    "clipped_aso_Feb9_25.mean()"
   ]
  },
  {
   "cell_type": "code",
   "execution_count": null,
   "id": "c3c7823f-8d66-4d5d-865b-de486f695116",
   "metadata": {},
   "outputs": [],
   "source": [
    "clipped_aso_Feb25_25.mean()"
   ]
  },
  {
   "cell_type": "code",
   "execution_count": null,
   "id": "4aab6161-dacd-4af3-abc5-19c23095a6b9",
   "metadata": {},
   "outputs": [],
   "source": [
    "ds_with_nans_Feb9_25 = clipped_aso_Feb9_25.where(clipped_aso_Feb9_25 != 0, np.nan)\n",
    "ds_with_nans_Feb25_25 = clipped_aso_Feb25_25.where(clipped_aso_Feb25_25 != 0, np.nan)"
   ]
  },
  {
   "cell_type": "code",
   "execution_count": null,
   "id": "52c74bab-a3b5-42d0-9c4d-cf7c98c896db",
   "metadata": {},
   "outputs": [],
   "source": [
    "mean_Feb9_25 = ds_with_nans_Feb9_25.mean()\n",
    "mean_Feb25_25 = ds_with_nans_Feb25_25.mean()"
   ]
  },
  {
   "cell_type": "code",
   "execution_count": null,
   "id": "fb09607e-1cbe-461b-8c97-2381422321c6",
   "metadata": {},
   "outputs": [],
   "source": [
    "mean_Feb9_25"
   ]
  },
  {
   "cell_type": "code",
   "execution_count": null,
   "id": "83386fcd-479b-431d-b69f-2d71a37f6582",
   "metadata": {},
   "outputs": [],
   "source": [
    "mean_Feb25_25"
   ]
  }
 ],
 "metadata": {
  "kernelspec": {
   "display_name": "Python 3 (ipykernel)",
   "language": "python",
   "name": "python3"
  },
  "language_info": {
   "codemirror_mode": {
    "name": "ipython",
    "version": 3
   },
   "file_extension": ".py",
   "mimetype": "text/x-python",
   "name": "python",
   "nbconvert_exporter": "python",
   "pygments_lexer": "ipython3",
   "version": "3.11.8"
  }
 },
 "nbformat": 4,
 "nbformat_minor": 5
}
