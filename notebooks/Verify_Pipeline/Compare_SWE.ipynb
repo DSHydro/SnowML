{
 "cells": [
  {
   "cell_type": "markdown",
   "id": "e6a9fedd-0433-4997-8035-f580008c5aca",
   "metadata": {},
   "source": [
    "# Notebook to compare SWE DataSources "
   ]
  },
  {
   "cell_type": "markdown",
   "id": "7228ba5e-3166-40c8-96f2-284151ba929b",
   "metadata": {},
   "source": [
    "# Step 0 Set up Notebook"
   ]
  },
  {
   "cell_type": "code",
   "execution_count": null,
   "id": "4a217d9a-23ce-4c67-ae83-411ef55b58b2",
   "metadata": {},
   "outputs": [],
   "source": [
    "import pandas as pd\n",
    "import boto3\n",
    "import s3fs\n",
    "import xarray as xr\n",
    "import matplotlib.pyplot as plt\n",
    "import matplotlib.dates as mdates\n",
    "import io\n",
    "import requests\n",
    "from io import StringIO\n",
    "from snowML.datapipe import data_utils as du \n",
    "from snowML.LSTM import LSTM_metrics as met\n",
    "from sklearn.metrics import r2_score\n",
    "from scipy.stats import pearsonr\n",
    "import numpy as np\n",
    "import itertools\n"
   ]
  },
  {
   "cell_type": "markdown",
   "id": "8bbb4491-9ce1-4174-952d-233affb845cf",
   "metadata": {},
   "source": [
    "# Step 1 - Define Functions to Gather Data"
   ]
  },
  {
   "cell_type": "code",
   "execution_count": null,
   "id": "ac357824-9fe6-4849-b92f-17cc760d8e20",
   "metadata": {},
   "outputs": [],
   "source": [
    "def get_UA_data(huc_id): \n",
    "    f = f\"mean_swe_in_{huc_id}.csv\"\n",
    "    b = \"snowml-gold\"\n",
    "    df = du.s3_to_df(f, b)\n",
    "    df.set_index('day', inplace=True)\n",
    "    df.index = pd.to_datetime(df.index)\n",
    "    df[\"mean_swe\"] = df[\"mean_swe\"]/1000\n",
    "    return df"
   ]
  },
  {
   "cell_type": "code",
   "execution_count": null,
   "id": "368a0f66-744a-4847-a782-f37f032fcfd1",
   "metadata": {},
   "outputs": [],
   "source": [
    "def get_Skagit(huc_id): \n",
    "    f = f\"data_prior/wus-sr-skagit-{huc_id}-mean-swe.csv\"\n",
    "    df = pd.read_csv(f)\n",
    "    df.rename(columns={\"time\": \"day\", \"mean\": \"mean_swe\"}, inplace=True)\n",
    "    df.set_index('day', inplace=True)\n",
    "    df.index = pd.to_datetime(df.index)\n",
    "    df[\"huc_id\"] = huc_id\n",
    "    df = df[[\"mean_swe\", \"huc_id\"]]\n",
    "    return df\n",
    "    "
   ]
  },
  {
   "cell_type": "code",
   "execution_count": null,
   "id": "a21bd8b6-08c8-4568-b207-7602b65a756d",
   "metadata": {},
   "outputs": [],
   "source": [
    "def get_UCLA(huc_id): \n",
    "    f = f\"mean_swe_in_{huc_id}_UCLA.csv\"\n",
    "    b = \"snowml-gold\"\n",
    "    df = du.s3_to_df(f, b)\n",
    "    df.rename(columns={\"time\": \"day\", \"SWE\": \"mean_swe\"}, inplace=True)\n",
    "    df.set_index('day', inplace=True)\n",
    "    df.index = pd.to_datetime(df.index)\n",
    "    return df"
   ]
  },
  {
   "cell_type": "code",
   "execution_count": null,
   "id": "bcc6bf95-08d0-4dd8-a4aa-77c9c46f636d",
   "metadata": {},
   "outputs": [],
   "source": [
    "def filter(df, filter_date):\n",
    "    df_filtered = df[df.index >= filter_date]\n",
    "    return df_filtered"
   ]
  },
  {
   "cell_type": "code",
   "execution_count": null,
   "id": "8302f62e-fa37-42e1-94ae-f66383567e3b",
   "metadata": {},
   "outputs": [],
   "source": [
    "def gather_data(huc_id, filter_date = \"1984-10-01\"):\n",
    "    swe_UA  = filter(get_UA_data(huc_id), filter_date)\n",
    "    swe_Skagit = filter(get_Skagit(huc_id), filter_date)\n",
    "    swe_UCLA = filter(get_UCLA(huc_id), filter_date)\n",
    "    df_dict = {\"UA_data\":swe_UA, \"Skagit_data\": swe_Skagit, \"UCLA_data\":swe_UCLA}\n",
    "    return df_dict"
   ]
  },
  {
   "cell_type": "markdown",
   "id": "6a7a0dd1-caec-4375-953b-d2fe31e03791",
   "metadata": {},
   "source": [
    "# Step 2 - Define Plotting And Analysis Functions"
   ]
  },
  {
   "cell_type": "code",
   "execution_count": null,
   "id": "0d4ff13f-6475-43c7-a4de-017f0bc738d9",
   "metadata": {},
   "outputs": [],
   "source": [
    "def plot_swe(df_dict, huc_id, ttl= \"plot\"):\n",
    "    \"\"\"\n",
    "    Plots mean_swe vs day for a dictionary of DataFrames with yearly x-axis ticks,\n",
    "    rotated labels, and no grid lines.\n",
    "\n",
    "    Parameters:\n",
    "    df_dict (dict): Dictionary where keys are labels and values are DataFrames \n",
    "                    with 'mean_swe' column and 'day' as index.\n",
    "    \"\"\"\n",
    "    plt.figure(figsize=(12, 6))\n",
    "    \n",
    "    for label, df in df_dict.items():\n",
    "        plt.plot(df.index, df['mean_swe'], label=label)\n",
    "    \n",
    "    plt.xlabel('Year')\n",
    "    plt.ylabel('Mean SWE')\n",
    "    plt.title(ttl)\n",
    "    plt.legend()\n",
    "\n",
    "    # Format x-axis to show ticks yearly and rotate them\n",
    "    ax = plt.gca()\n",
    "    ax.xaxis.set_major_locator(mdates.YearLocator())\n",
    "    ax.xaxis.set_major_formatter(mdates.DateFormatter('%Y'))\n",
    "    plt.xticks(rotation=45)\n",
    "\n",
    "    plt.tight_layout()\n",
    "    plt.savefig(f\"charts/{ttl}.png\", bbox_inches='tight')\n",
    "    \n",
    "    plt.show()\n",
    "    plt.close()\n",
    "\n",
    "\n"
   ]
  },
  {
   "cell_type": "code",
   "execution_count": null,
   "id": "b3f0d309-9fcd-4874-8d29-c6291da9d246",
   "metadata": {},
   "outputs": [],
   "source": [
    "def similarity(df_dict):\n",
    "    \"\"\"\n",
    "    Computes R-squared, Pearson correlation, alpha, and beta between 'mean_swe' columns \n",
    "    for each pair of DataFrames in df_dict.\n",
    "\n",
    "    Parameters:\n",
    "    df_dict (dict): Dictionary where keys are identifiers and values are DataFrames\n",
    "                    with a 'mean_swe' column.\n",
    "    \"\"\"\n",
    "    keys = list(df_dict.keys())\n",
    "    results = []\n",
    "\n",
    "    for key1, key2 in itertools.combinations(keys, 2):\n",
    "        df1 = df_dict[key1]\n",
    "        df2 = df_dict[key2]\n",
    "\n",
    "        # Align on index (e.g., day)\n",
    "        df1_aligned, df2_aligned = df1.align(df2, join='inner')\n",
    "\n",
    "        a = df1_aligned['mean_swe']\n",
    "        b = df2_aligned['mean_swe']\n",
    "\n",
    "        r2 = r2_score(a, b)\n",
    "        pearson_corr, _ = pearsonr(a, b)\n",
    "        alpha = np.std(a) / np.std(b) if np.std(b) != 0 else np.nan\n",
    "        beta = np.mean(a) / np.mean(b) if np.mean(b) != 0 else np.nan\n",
    "\n",
    "        results.append((key1, key2, pearson_corr, alpha, beta, r2))\n",
    "\n",
    "    # Create and print a clean DataFrame of results\n",
    "    results_df = pd.DataFrame(\n",
    "        results, \n",
    "        columns=['Dataset 1', 'Dataset 2', 'Pearson Corr', 'Ratio_var', 'Ratio_means', 'R-squared']\n",
    "    )\n",
    "    print(results_df.round(3))\n",
    "\n",
    "\n"
   ]
  },
  {
   "cell_type": "markdown",
   "id": "385ac370-a602-4f52-869f-d3db26a1ab60",
   "metadata": {},
   "source": [
    "# Step 3 - PLot and Analyze Data "
   ]
  },
  {
   "cell_type": "code",
   "execution_count": null,
   "id": "033deeca-c63b-4261-9d1b-5967c8bfc9c6",
   "metadata": {},
   "outputs": [],
   "source": [
    "hucs = [1711000504, 1711000505, 1711000506, 1711000507, 1711000508, 1711000509, 1711000511] "
   ]
  },
  {
   "cell_type": "code",
   "execution_count": null,
   "id": "2ca91631-60d3-4ec0-82ac-17a1d0a9b87c",
   "metadata": {},
   "outputs": [],
   "source": [
    "for huc_id in hucs: \n",
    "    df_dict = gather_data(huc_id)\n",
    "    ttl = f'Mean_SWE_over_Time_for_Huc_{huc_id}' \n",
    "    plot_swe(df_dict, huc_id, ttl = ttl)\n",
    "    df_dict = gather_data(huc_id)\n",
    "    similarity(df_dict)"
   ]
  },
  {
   "cell_type": "code",
   "execution_count": null,
   "id": "969d452b-cd1d-4013-b36f-24efad847f13",
   "metadata": {},
   "outputs": [],
   "source": [
    "filter_date = \"2005-10-01\"\n",
    "for huc_id in hucs: \n",
    "    df_dict = gather_data(huc_id, filter_date = filter_date)\n",
    "    ttl = f'MeanS_WE_over_Time_for_Huc_{huc_id}_2005_through_2022' \n",
    "    plot_swe(df_dict, huc_id, ttl = ttl)\n",
    "    similarity(df_dict)\n",
    "    "
   ]
  },
  {
   "cell_type": "code",
   "execution_count": null,
   "id": "9c7e50e4-c87e-4606-835e-8bd8bb7b9123",
   "metadata": {},
   "outputs": [],
   "source": []
  },
  {
   "cell_type": "code",
   "execution_count": null,
   "id": "a4a3aae9-1c81-43fa-b35c-0b7788a28985",
   "metadata": {},
   "outputs": [],
   "source": []
  },
  {
   "cell_type": "code",
   "execution_count": null,
   "id": "4a3597a5-c0e9-4059-941d-fa654c93b6b9",
   "metadata": {},
   "outputs": [],
   "source": []
  }
 ],
 "metadata": {
  "kernelspec": {
   "display_name": "Python 3 (ipykernel)",
   "language": "python",
   "name": "python3"
  },
  "language_info": {
   "codemirror_mode": {
    "name": "ipython",
    "version": 3
   },
   "file_extension": ".py",
   "mimetype": "text/x-python",
   "name": "python",
   "nbconvert_exporter": "python",
   "pygments_lexer": "ipython3",
   "version": "3.11.8"
  }
 },
 "nbformat": 4,
 "nbformat_minor": 5
}
