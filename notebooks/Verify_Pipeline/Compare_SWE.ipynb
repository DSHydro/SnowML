{
 "cells": [
  {
   "cell_type": "markdown",
   "id": "e6a9fedd-0433-4997-8035-f580008c5aca",
   "metadata": {},
   "source": [
    "# Notebook to compare SWE DataSources "
   ]
  },
  {
   "cell_type": "markdown",
   "id": "7228ba5e-3166-40c8-96f2-284151ba929b",
   "metadata": {},
   "source": [
    "# Step 0 Set up Notebook"
   ]
  },
  {
   "cell_type": "code",
   "execution_count": 1,
   "id": "4a217d9a-23ce-4c67-ae83-411ef55b58b2",
   "metadata": {},
   "outputs": [],
   "source": [
    "import pandas as pd\n",
    "import boto3\n",
    "import s3fs\n",
    "import xarray as xr\n",
    "import matplotlib.pyplot as plt\n",
    "import io\n",
    "import requests\n",
    "from io import StringIO\n",
    "from snowML.datapipe import data_utils as du "
   ]
  },
  {
   "cell_type": "markdown",
   "id": "8bbb4491-9ce1-4174-952d-233affb845cf",
   "metadata": {},
   "source": [
    "# Step 1 - Define Functions to Upload Data for One Huc"
   ]
  },
  {
   "cell_type": "code",
   "execution_count": null,
   "id": "ac357824-9fe6-4849-b92f-17cc760d8e20",
   "metadata": {},
   "outputs": [],
   "source": [
    "def get_UA_data(huc): \n",
    "    f = \"model\n",
    "    b = \"model-ready\"\n",
    "    df = s3_to_df(f, b)\n",
    "    return df"
   ]
  },
  {
   "cell_type": "code",
   "execution_count": null,
   "id": "368a0f66-744a-4847-a782-f37f032fcfd1",
   "metadata": {},
   "outputs": [],
   "source": [
    "def get_Snowtel(huc): \n",
    "    "
   ]
  },
  {
   "cell_type": "code",
   "execution_count": null,
   "id": "a21bd8b6-08c8-4568-b207-7602b65a756d",
   "metadata": {},
   "outputs": [],
   "source": [
    "def get_UCLA(huc): \n",
    "    "
   ]
  }
 ],
 "metadata": {
  "kernelspec": {
   "display_name": "Python 3 (ipykernel)",
   "language": "python",
   "name": "python3"
  },
  "language_info": {
   "codemirror_mode": {
    "name": "ipython",
    "version": 3
   },
   "file_extension": ".py",
   "mimetype": "text/x-python",
   "name": "python",
   "nbconvert_exporter": "python",
   "pygments_lexer": "ipython3",
   "version": "3.11.8"
  }
 },
 "nbformat": 4,
 "nbformat_minor": 5
}
