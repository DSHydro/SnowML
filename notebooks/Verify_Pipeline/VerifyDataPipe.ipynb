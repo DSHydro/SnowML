{
 "cells": [
  {
   "cell_type": "markdown",
   "id": "1511780b-088b-4b4b-a98f-48dec7b746d1",
   "metadata": {},
   "source": [
    "# Verify Frosty Dawgs Data Pipeline\n",
    "\n",
    "This notebook graphs results from the Frosty Dawgs data pipeline, proccessing SWE and WRF data for one region: the Skagit region. It compares the results to data compiled from similar (but not exactly the same) data in a related project (The Prior Project).  The expectation is that the two data sources should look similar but are not expected to be identical.  "
   ]
  },
  {
   "cell_type": "markdown",
   "id": "a341d642-e865-4267-a709-b1802ae52bd7",
   "metadata": {},
   "source": [
    "# Step 0 - Prepare the Notebook "
   ]
  },
  {
   "cell_type": "code",
   "execution_count": 1,
   "id": "7581b5cb-37f8-4bf9-806d-c56725b7df17",
   "metadata": {},
   "outputs": [],
   "source": [
    "import pandas as pd\n",
    "import boto3\n",
    "import s3fs\n",
    "import xarray as xr\n",
    "import rioxarray\n",
    "import matplotlib.pyplot as plt\n",
    "import io\n",
    "import requests\n",
    "from io import StringIO\n",
    "import geopandas as gpd"
   ]
  },
  {
   "cell_type": "markdown",
   "id": "b885c89f-2a15-47d9-b1ac-acaf2486b476",
   "metadata": {},
   "source": [
    "# Step 1 - Import to Notebook \"Model Ready\" Data Produced by Frosty Dawgs Pipeline"
   ]
  },
  {
   "cell_type": "code",
   "execution_count": 2,
   "id": "360ed028-54b2-4efb-80e8-d42ce6211b78",
   "metadata": {},
   "outputs": [],
   "source": [
    "# def some functions to get data from S3\n",
    "\n",
    "def s3_to_ds(bucket_name, file_name):\n",
    "    s3_path = f\"s3://{bucket_name}/{file_name}\"\n",
    "    fs = s3fs.S3FileSystem(anon=False)\n",
    "    with fs.open(s3_path) as f:\n",
    "        ds = xr.open_dataset(f)\n",
    "        ds.load()\n",
    "    return ds\n",
    "\n",
    "def s3_to_df(file_name, bucket_name):\n",
    "    \"\"\"\n",
    "    Loads a CSV file from an S3 bucket into a pandas DataFrame.\n",
    "\n",
    "    Parameters:\n",
    "        file_name (str): The name of the CSV file in the S3 bucket.\n",
    "        bucket_name (str): The name of the S3 bucket.\n",
    "\n",
    "    Returns:\n",
    "        pd.DataFrame: A pandas DataFrame containing the data from the CSV file.\n",
    "    \"\"\"\n",
    "    s3 = boto3.client('s3')\n",
    "    response = s3.get_object(Bucket=bucket_name, Key=file_name)\n",
    "    content = response['Body'].read().decode('utf-8')\n",
    "    df = pd.read_csv(StringIO(content))\n",
    "    return df"
   ]
  },
  {
   "cell_type": "code",
   "execution_count": 16,
   "id": "e42bb2d3-153d-454f-9a08-821122bfcc9e",
   "metadata": {},
   "outputs": [
    {
     "name": "stdout",
     "output_type": "stream",
     "text": [
      "1711000511\n"
     ]
    },
    {
     "data": {
      "text/html": [
       "<div>\n",
       "<style scoped>\n",
       "    .dataframe tbody tr th:only-of-type {\n",
       "        vertical-align: middle;\n",
       "    }\n",
       "\n",
       "    .dataframe tbody tr th {\n",
       "        vertical-align: top;\n",
       "    }\n",
       "\n",
       "    .dataframe thead th {\n",
       "        text-align: right;\n",
       "    }\n",
       "</style>\n",
       "<table border=\"1\" class=\"dataframe\">\n",
       "  <thead>\n",
       "    <tr style=\"text-align: right;\">\n",
       "      <th></th>\n",
       "      <th>Unnamed: 0</th>\n",
       "      <th>day</th>\n",
       "      <th>mean_swe</th>\n",
       "      <th>huc_id</th>\n",
       "      <th>mean_pr</th>\n",
       "    </tr>\n",
       "  </thead>\n",
       "  <tbody>\n",
       "    <tr>\n",
       "      <th>0</th>\n",
       "      <td>0</td>\n",
       "      <td>1994-10-01</td>\n",
       "      <td>0.0</td>\n",
       "      <td>1711000511</td>\n",
       "      <td>NaN</td>\n",
       "    </tr>\n",
       "    <tr>\n",
       "      <th>1</th>\n",
       "      <td>1</td>\n",
       "      <td>1994-10-02</td>\n",
       "      <td>0.0</td>\n",
       "      <td>1711000511</td>\n",
       "      <td>NaN</td>\n",
       "    </tr>\n",
       "    <tr>\n",
       "      <th>2</th>\n",
       "      <td>2</td>\n",
       "      <td>1994-10-03</td>\n",
       "      <td>0.0</td>\n",
       "      <td>1711000511</td>\n",
       "      <td>NaN</td>\n",
       "    </tr>\n",
       "    <tr>\n",
       "      <th>3</th>\n",
       "      <td>3</td>\n",
       "      <td>1994-10-04</td>\n",
       "      <td>0.0</td>\n",
       "      <td>1711000511</td>\n",
       "      <td>NaN</td>\n",
       "    </tr>\n",
       "    <tr>\n",
       "      <th>4</th>\n",
       "      <td>4</td>\n",
       "      <td>1994-10-05</td>\n",
       "      <td>0.0</td>\n",
       "      <td>1711000511</td>\n",
       "      <td>NaN</td>\n",
       "    </tr>\n",
       "  </tbody>\n",
       "</table>\n",
       "</div>"
      ],
      "text/plain": [
       "   Unnamed: 0         day  mean_swe      huc_id  mean_pr\n",
       "0           0  1994-10-01       0.0  1711000511      NaN\n",
       "1           1  1994-10-02       0.0  1711000511      NaN\n",
       "2           2  1994-10-03       0.0  1711000511      NaN\n",
       "3           3  1994-10-04       0.0  1711000511      NaN\n",
       "4           4  1994-10-05       0.0  1711000511      NaN"
      ]
     },
     "execution_count": 16,
     "metadata": {},
     "output_type": "execute_result"
    }
   ],
   "source": [
    "# upload the data from S3 \n",
    "bucket_name = \"dawgs-model-ready\"\n",
    "huc_id = \"17110005\"  \n",
    "huc_lev = \"Huc10\" # Huc 10 as subunit of analysis  \n",
    "sub_huc = '11'\n",
    "full_huc = huc_id + sub_huc\n",
    "print(full_huc)\n",
    "#file_name = f\"model_ready_{huc_lev}_in_{huc_id}.csv\"\n",
    "file_name = f\"model_ready_huc{full_huc}.csv\"\n",
    "df_dawgs = s3_to_df(file_name, bucket_name)\n",
    "df_dawgs.head()"
   ]
  },
  {
   "cell_type": "markdown",
   "id": "b9e9a19f-872d-4591-a8b3-2fa6142c7ec8",
   "metadata": {},
   "source": [
    "Note no data in 0501, 0502, 0503 as they are in Canada\n"
   ]
  },
  {
   "cell_type": "code",
   "execution_count": 18,
   "id": "e8f2ed37-dc86-4c81-83d7-32be45cebc21",
   "metadata": {},
   "outputs": [
    {
     "data": {
      "text/html": [
       "<div>\n",
       "<style scoped>\n",
       "    .dataframe tbody tr th:only-of-type {\n",
       "        vertical-align: middle;\n",
       "    }\n",
       "\n",
       "    .dataframe tbody tr th {\n",
       "        vertical-align: top;\n",
       "    }\n",
       "\n",
       "    .dataframe thead th {\n",
       "        text-align: right;\n",
       "    }\n",
       "</style>\n",
       "<table border=\"1\" class=\"dataframe\">\n",
       "  <thead>\n",
       "    <tr style=\"text-align: right;\">\n",
       "      <th></th>\n",
       "      <th>mean_swe</th>\n",
       "      <th>huc_id</th>\n",
       "      <th>mean_pr</th>\n",
       "      <th>mean_SWE</th>\n",
       "    </tr>\n",
       "    <tr>\n",
       "      <th>day</th>\n",
       "      <th></th>\n",
       "      <th></th>\n",
       "      <th></th>\n",
       "      <th></th>\n",
       "    </tr>\n",
       "  </thead>\n",
       "  <tbody>\n",
       "    <tr>\n",
       "      <th>1996-01-02</th>\n",
       "      <td>123.666664</td>\n",
       "      <td>1711000511</td>\n",
       "      <td>NaN</td>\n",
       "      <td>0.123667</td>\n",
       "    </tr>\n",
       "    <tr>\n",
       "      <th>1996-01-03</th>\n",
       "      <td>123.592590</td>\n",
       "      <td>1711000511</td>\n",
       "      <td>NaN</td>\n",
       "      <td>0.123593</td>\n",
       "    </tr>\n",
       "    <tr>\n",
       "      <th>1996-01-04</th>\n",
       "      <td>111.148150</td>\n",
       "      <td>1711000511</td>\n",
       "      <td>NaN</td>\n",
       "      <td>0.111148</td>\n",
       "    </tr>\n",
       "    <tr>\n",
       "      <th>1996-01-05</th>\n",
       "      <td>150.555560</td>\n",
       "      <td>1711000511</td>\n",
       "      <td>NaN</td>\n",
       "      <td>0.150556</td>\n",
       "    </tr>\n",
       "    <tr>\n",
       "      <th>1996-01-06</th>\n",
       "      <td>114.370370</td>\n",
       "      <td>1711000511</td>\n",
       "      <td>NaN</td>\n",
       "      <td>0.114370</td>\n",
       "    </tr>\n",
       "  </tbody>\n",
       "</table>\n",
       "</div>"
      ],
      "text/plain": [
       "              mean_swe      huc_id  mean_pr  mean_SWE\n",
       "day                                                  \n",
       "1996-01-02  123.666664  1711000511      NaN  0.123667\n",
       "1996-01-03  123.592590  1711000511      NaN  0.123593\n",
       "1996-01-04  111.148150  1711000511      NaN  0.111148\n",
       "1996-01-05  150.555560  1711000511      NaN  0.150556\n",
       "1996-01-06  114.370370  1711000511      NaN  0.114370"
      ]
     },
     "execution_count": 18,
     "metadata": {},
     "output_type": "execute_result"
    }
   ],
   "source": [
    "# a bit of cleaning and filtering \n",
    "\n",
    "# Filter to the -XX subbasin \n",
    "df_dawgs_clean = df_dawgs[df_dawgs['huc_id'] == int(full_huc)]\n",
    "\n",
    "# Ensure the 'time' column is in datetime format\n",
    "df_dawgs_clean['day'] = pd.to_datetime(df_dawgs_clean['day'])\n",
    "\n",
    "# Filter rows where 'time' is after the year 1996\n",
    "df_dawgs_clean = df_dawgs_clean[df_dawgs_clean['day'] > '1996-01-01']\n",
    "\n",
    "# Set time as the index \n",
    "df_dawgs_clean = df_dawgs_clean.set_index('day')\n",
    "\n",
    "# Display \n",
    "df_dawgs_clean.head()\n",
    "\n",
    "# convert units \n",
    "df_dawgs_clean[\"mean_SWE\"] = df_dawgs_clean[\"mean_swe\"]/1000 # mm->m\n",
    "df_dawgs_clean[\"mean_pr\"] = df_dawgs_clean[\"mean_pr\"]/(100**2) # TO DO: EXPLAIN UNIT CHANGE\n",
    "#df_dawgs_clean[\"mean_tmmx\"] = df_dawgs_clean[\"mean_tmmx\"] - 273.15  # degrees K to degrees C\n",
    "#df_dawgs_clean[\"mean_tmmn\"] = df_dawgs_clean[\"mean_tmmn\"] - 273.15  # degrees K to degrees C\n",
    "\n",
    "col_to_kp = df_dawgs_clean.columns.drop(\"Unnamed: 0\") \n",
    "\n",
    "df_dawgs_clean = df_dawgs_clean[col_to_kp]\n",
    "df_dawgs_clean.head()"
   ]
  },
  {
   "cell_type": "markdown",
   "id": "a4cc992b-3cee-43ac-9967-bcf79e407fbe",
   "metadata": {},
   "source": [
    "Note on units.   \n",
    "frosty_dawgs initial units \n",
    " - swe is in mm H20: see https://nsidc.org/data/nsidc-0719/versions/1#anchor-documentation\n",
    " - precipitation_amount is in mm see https://developers.google.com/earth-engine/datasets/catalog/IDAHO_EPSCOR_GRIDMET#bands\n",
    " - tmmx and tmmin (air_temperature) in degrees K see id\n",
    " - vs (wind speed) in m/s\n",
    " - srad (solar radiation) in W/m^2\n",
    " - rhmin and rhmax (relative humidity) in %\n",
    "conversion to match Prior Project Data\n",
    "- swe from mm -> m (/1000)\n",
    "- air temp from K t0 C "
   ]
  },
  {
   "cell_type": "markdown",
   "id": "60889b89-1793-458c-947f-b9a603007f62",
   "metadata": {},
   "source": [
    "# Step 2 -Import to Notebook Data Used from Prior Project  "
   ]
  },
  {
   "cell_type": "code",
   "execution_count": 6,
   "id": "3df20c3f-38a5-4647-91a2-c8cdf3eb5258",
   "metadata": {},
   "outputs": [
    {
     "name": "stdout",
     "output_type": "stream",
     "text": [
      "(9131, 1)\n"
     ]
    },
    {
     "data": {
      "text/html": [
       "<div>\n",
       "<style scoped>\n",
       "    .dataframe tbody tr th:only-of-type {\n",
       "        vertical-align: middle;\n",
       "    }\n",
       "\n",
       "    .dataframe tbody tr th {\n",
       "        vertical-align: top;\n",
       "    }\n",
       "\n",
       "    .dataframe thead th {\n",
       "        text-align: right;\n",
       "    }\n",
       "</style>\n",
       "<table border=\"1\" class=\"dataframe\">\n",
       "  <thead>\n",
       "    <tr style=\"text-align: right;\">\n",
       "      <th></th>\n",
       "      <th>mean_SWE</th>\n",
       "    </tr>\n",
       "    <tr>\n",
       "      <th>time</th>\n",
       "      <th></th>\n",
       "    </tr>\n",
       "  </thead>\n",
       "  <tbody>\n",
       "    <tr>\n",
       "      <th>1996-10-01</th>\n",
       "      <td>0.006141</td>\n",
       "    </tr>\n",
       "    <tr>\n",
       "      <th>1996-10-02</th>\n",
       "      <td>0.005204</td>\n",
       "    </tr>\n",
       "    <tr>\n",
       "      <th>1996-10-03</th>\n",
       "      <td>0.004687</td>\n",
       "    </tr>\n",
       "    <tr>\n",
       "      <th>1996-10-04</th>\n",
       "      <td>0.004180</td>\n",
       "    </tr>\n",
       "    <tr>\n",
       "      <th>1996-10-05</th>\n",
       "      <td>0.003828</td>\n",
       "    </tr>\n",
       "  </tbody>\n",
       "</table>\n",
       "</div>"
      ],
      "text/plain": [
       "            mean_SWE\n",
       "time                \n",
       "1996-10-01  0.006141\n",
       "1996-10-02  0.005204\n",
       "1996-10-03  0.004687\n",
       "1996-10-04  0.004180\n",
       "1996-10-05  0.003828"
      ]
     },
     "execution_count": 6,
     "metadata": {},
     "output_type": "execute_result"
    }
   ],
   "source": [
    "# mean SWE used in Prior Project collab notebook \n",
    "f = f\"data_prior/wus-sr-skagit-{full_huc}-mean-swe.csv\"\n",
    "df_prior_swe = pd.read_csv(f)\n",
    "df_prior_swe.rename(columns={'mean': 'mean_SWE'}, inplace=True)\n",
    "df_prior_swe = df_prior_swe[[\"time\", \"mean_SWE\"]]\n",
    "df_prior_swe['time'] = pd.to_datetime(df_prior_swe['time'])\n",
    "df_prior_swe = df_prior_swe[df_prior_swe['time'] >= '1996-10-01']\n",
    "df_prior_swe.set_index('time', inplace=True)\n",
    "print(df_prior_swe.shape)\n",
    "df_prior_swe.head()\n"
   ]
  },
  {
   "cell_type": "code",
   "execution_count": 7,
   "id": "b597cf54-ab52-49dd-821e-2a3e970b602e",
   "metadata": {},
   "outputs": [
    {
     "data": {
      "text/html": [
       "<div>\n",
       "<style scoped>\n",
       "    .dataframe tbody tr th:only-of-type {\n",
       "        vertical-align: middle;\n",
       "    }\n",
       "\n",
       "    .dataframe tbody tr th {\n",
       "        vertical-align: top;\n",
       "    }\n",
       "\n",
       "    .dataframe thead th {\n",
       "        text-align: right;\n",
       "    }\n",
       "</style>\n",
       "<table border=\"1\" class=\"dataframe\">\n",
       "  <thead>\n",
       "    <tr style=\"text-align: right;\">\n",
       "      <th></th>\n",
       "      <th>spatial_ref</th>\n",
       "      <th>lw</th>\n",
       "      <th>precip</th>\n",
       "      <th>rh</th>\n",
       "      <th>sw</th>\n",
       "      <th>tair</th>\n",
       "      <th>wind</th>\n",
       "    </tr>\n",
       "    <tr>\n",
       "      <th>time</th>\n",
       "      <th></th>\n",
       "      <th></th>\n",
       "      <th></th>\n",
       "      <th></th>\n",
       "      <th></th>\n",
       "      <th></th>\n",
       "      <th></th>\n",
       "    </tr>\n",
       "  </thead>\n",
       "  <tbody>\n",
       "    <tr>\n",
       "      <th>1996-10-01 03:00:00</th>\n",
       "      <td>0</td>\n",
       "      <td>245.537154</td>\n",
       "      <td>0.0</td>\n",
       "      <td>99.956308</td>\n",
       "      <td>0.000000</td>\n",
       "      <td>1.918769</td>\n",
       "      <td>1.210923</td>\n",
       "    </tr>\n",
       "    <tr>\n",
       "      <th>1996-10-01 06:00:00</th>\n",
       "      <td>0</td>\n",
       "      <td>252.534000</td>\n",
       "      <td>0.0</td>\n",
       "      <td>87.618538</td>\n",
       "      <td>166.878231</td>\n",
       "      <td>3.862231</td>\n",
       "      <td>1.210923</td>\n",
       "    </tr>\n",
       "    <tr>\n",
       "      <th>1996-10-01 09:00:00</th>\n",
       "      <td>0</td>\n",
       "      <td>279.512154</td>\n",
       "      <td>0.0</td>\n",
       "      <td>54.057769</td>\n",
       "      <td>498.046308</td>\n",
       "      <td>11.076385</td>\n",
       "      <td>1.210923</td>\n",
       "    </tr>\n",
       "    <tr>\n",
       "      <th>1996-10-01 12:00:00</th>\n",
       "      <td>0</td>\n",
       "      <td>303.595462</td>\n",
       "      <td>0.0</td>\n",
       "      <td>37.019231</td>\n",
       "      <td>509.553154</td>\n",
       "      <td>17.077000</td>\n",
       "      <td>1.210923</td>\n",
       "    </tr>\n",
       "    <tr>\n",
       "      <th>1996-10-01 15:00:00</th>\n",
       "      <td>0</td>\n",
       "      <td>303.955615</td>\n",
       "      <td>0.0</td>\n",
       "      <td>37.343692</td>\n",
       "      <td>191.079308</td>\n",
       "      <td>17.100077</td>\n",
       "      <td>1.210923</td>\n",
       "    </tr>\n",
       "  </tbody>\n",
       "</table>\n",
       "</div>"
      ],
      "text/plain": [
       "                     spatial_ref          lw  precip         rh          sw  \\\n",
       "time                                                                          \n",
       "1996-10-01 03:00:00            0  245.537154     0.0  99.956308    0.000000   \n",
       "1996-10-01 06:00:00            0  252.534000     0.0  87.618538  166.878231   \n",
       "1996-10-01 09:00:00            0  279.512154     0.0  54.057769  498.046308   \n",
       "1996-10-01 12:00:00            0  303.595462     0.0  37.019231  509.553154   \n",
       "1996-10-01 15:00:00            0  303.955615     0.0  37.343692  191.079308   \n",
       "\n",
       "                          tair      wind  \n",
       "time                                      \n",
       "1996-10-01 03:00:00   1.918769  1.210923  \n",
       "1996-10-01 06:00:00   3.862231  1.210923  \n",
       "1996-10-01 09:00:00  11.076385  1.210923  \n",
       "1996-10-01 12:00:00  17.077000  1.210923  \n",
       "1996-10-01 15:00:00  17.100077  1.210923  "
      ]
     },
     "execution_count": 7,
     "metadata": {},
     "output_type": "execute_result"
    }
   ],
   "source": [
    "# mean Wrf used in Prior Project collab notebook \n",
    "f = f\"data_prior/wrf-skagit-{full_huc}-mean.csv\"\n",
    "df_prior_wrf = pd.read_csv(f)\n",
    "\n",
    "df_prior_wrf['time'] = pd.to_datetime(df_prior_wrf['time'])\n",
    "\n",
    "# Filter rows where 'time' is after the year 1996\n",
    "df_prior_wrf = df_prior_wrf[df_prior_wrf['time'] > '1996-10-01']\n",
    "\n",
    "#set time as index\n",
    "df_prior_wrf = df_prior_wrf.set_index('time')\n",
    "df_prior_wrf.head()"
   ]
  },
  {
   "cell_type": "markdown",
   "id": "bb70db0e-aea7-463f-8974-18926e06e35e",
   "metadata": {},
   "source": [
    "# Plotting"
   ]
  },
  {
   "cell_type": "code",
   "execution_count": 8,
   "id": "b8634967-92e2-4407-92b8-70ddfe60f710",
   "metadata": {},
   "outputs": [],
   "source": [
    "# define plotting functions\n",
    "\n",
    "def plot_var(df1, df2, var1, var2, time_period): \n",
    "    plt.figure(figsize=(8, 4))\n",
    "    plt.plot(df1.index, df1[var1], label= \"Prior Project\", color='blue', linewidth=2)\n",
    "    plt.plot(df2.index, df2[var2], label ='Frosty Dawgs', color='red', linewidth=2)\n",
    "    \n",
    "\n",
    "    # Add labels and title\n",
    "    plt.xlabel('Time', fontsize=12)\n",
    "    plt.ylabel(var1, fontsize=12)\n",
    "    plt.title(f'{var1} vs. Time for {time_period} huc: {full_huc}', fontsize=14)\n",
    "\n",
    "    # Improve plot appearance\n",
    "    #plt.grid(visible=True, linestyle='--', alpha=0.6)\n",
    "    plt.legend(fontsize=10)\n",
    "    plt.tight_layout()\n",
    "\n",
    "    # Show the plot\n",
    "    plt.show()\n",
    "    \n",
    "def plot_var_stacked(df1, df2, var1, var2, time_period):\n",
    "    # Set up the figure with two subplots (vertically stacked)\n",
    "    fig, axes = plt.subplots(2, 1, figsize=(8, 8), sharex=True, sharey=True)\n",
    "\n",
    "    # First plot (df1)\n",
    "    axes[0].plot(df1.index, df1[var1], label=f'{var1}_prior_project', color='blue', linewidth=2)\n",
    "    axes[0].set_ylabel(var1, fontsize=12)\n",
    "    axes[0].set_title(f\"{var1} vs. Time (Collab Notebook) for {time_period} huc: {full_huc}\", fontsize=14)\n",
    "    axes[0].legend(fontsize=10)\n",
    "\n",
    "    # Second plot (df2)\n",
    "    # TO DO - FIX HARD CODE OF COL \n",
    "    axes[1].plot(df2.index, df2[var2], label=f'{var2} Dawgs Pipeline', color='red', linewidth=2)\n",
    "    axes[1].set_xlabel('Time', fontsize=12)\n",
    "    axes[1].set_ylabel(f'Mean {var2}', fontsize=12)\n",
    "    axes[1].set_title(f'Mean {var2} vs. Time (Sues Pipeline) for {time_period} huc: {full_huc}', fontsize=14)\n",
    "    axes[1].legend(fontsize=10)\n",
    "\n",
    "    # Improve plot appearance\n",
    "    for ax in axes:\n",
    "        ax.grid(visible=True, linestyle='--', alpha=0.6)\n",
    "\n",
    "    # Adjust layout\n",
    "    plt.tight_layout()\n",
    "\n",
    "    # Show the plot\n",
    "\n"
   ]
  },
  {
   "cell_type": "markdown",
   "id": "f14a0f26-d589-4140-b2dd-fea8d5f1c84e",
   "metadata": {},
   "source": [
    "# Plot comparing Swe Datasources"
   ]
  },
  {
   "cell_type": "code",
   "execution_count": 19,
   "id": "3b492e13-3996-4964-abbb-dadb9fbde961",
   "metadata": {},
   "outputs": [
    {
     "data": {
      "image/png": "[encoded data removed]",
      "text/plain": [
       "<Figure size 800x400 with 1 Axes>"
      ]
     },
     "metadata": {},
     "output_type": "display_data"
    }
   ],
   "source": [
    "time_period = \"1996WY to 2024WY\"\n",
    "var1 = \"mean_SWE\"\n",
    "var2 = \"mean_SWE\"\n",
    "plot_var(df_prior_swe, df_dawgs_clean, var1, var2, time_period)"
   ]
  },
  {
   "cell_type": "code",
   "execution_count": null,
   "id": "e86fa8f5-ca7b-48a6-b0f9-dbd75e61c725",
   "metadata": {},
   "outputs": [],
   "source": [
    "time_period = \"1996WY to 2024WY\"\n",
    "var1 = \"mean_SWE\"\n",
    "var2 = \"mean_SWE\"\n",
    "plot_var_stacked(df_prior_swe, df_dawgs_clean, var1, var2, time_period)"
   ]
  },
  {
   "cell_type": "markdown",
   "id": "9810952c-4ccb-4fb7-bca2-6b9e00ae1d31",
   "metadata": {},
   "source": [
    "# Plot Comparing Precipitation "
   ]
  },
  {
   "cell_type": "code",
   "execution_count": 10,
   "id": "bf8e22aa-e37c-4c48-9e9f-30f694aac004",
   "metadata": {},
   "outputs": [
    {
     "data": {
      "text/html": [
       "<div>\n",
       "<style scoped>\n",
       "    .dataframe tbody tr th:only-of-type {\n",
       "        vertical-align: middle;\n",
       "    }\n",
       "\n",
       "    .dataframe tbody tr th {\n",
       "        vertical-align: top;\n",
       "    }\n",
       "\n",
       "    .dataframe thead th {\n",
       "        text-align: right;\n",
       "    }\n",
       "</style>\n",
       "<table border=\"1\" class=\"dataframe\">\n",
       "  <thead>\n",
       "    <tr style=\"text-align: right;\">\n",
       "      <th></th>\n",
       "      <th>mean_pr</th>\n",
       "    </tr>\n",
       "    <tr>\n",
       "      <th>time</th>\n",
       "      <th></th>\n",
       "    </tr>\n",
       "  </thead>\n",
       "  <tbody>\n",
       "    <tr>\n",
       "      <th>1996-10-01</th>\n",
       "      <td>0.000000</td>\n",
       "    </tr>\n",
       "    <tr>\n",
       "      <th>1996-10-02</th>\n",
       "      <td>0.000046</td>\n",
       "    </tr>\n",
       "  </tbody>\n",
       "</table>\n",
       "</div>"
      ],
      "text/plain": [
       "             mean_pr\n",
       "time                \n",
       "1996-10-01  0.000000\n",
       "1996-10-02  0.000046"
      ]
     },
     "execution_count": 10,
     "metadata": {},
     "output_type": "execute_result"
    }
   ],
   "source": [
    "df_prior_pr = pd.DataFrame(df_prior_wrf.resample('D')['precip'].mean())\n",
    "df_prior_pr.rename(columns={'precip': 'mean_pr'}, inplace=True)\n",
    "df_prior_pr.head(2)"
   ]
  },
  {
   "cell_type": "code",
   "execution_count": 20,
   "id": "136dbc40-7473-4ca1-abae-ccf77ff2377e",
   "metadata": {},
   "outputs": [
    {
     "data": {
      "image/png": "[encoded data removed]",
      "text/plain": [
       "<Figure size 800x400 with 1 Axes>"
      ]
     },
     "metadata": {},
     "output_type": "display_data"
    }
   ],
   "source": [
    "time_period = \"1996WY to 2012WY\"\n",
    "var1 = \"mean_pr\"\n",
    "var2 = \"mean_pr\"\n",
    "plot_var(df_prior_pr, df_dawgs_clean, var1, var2,  time_period)"
   ]
  },
  {
   "cell_type": "code",
   "execution_count": null,
   "id": "3fb6fcbb-69f9-4938-9d60-0bf2a74977be",
   "metadata": {},
   "outputs": [],
   "source": [
    "time_period = \"1996WY to 2012WY\"\n",
    "plot_var_stacked(df_prior_pr, df_dawgs_clean, var1, var2, time_period)"
   ]
  },
  {
   "cell_type": "markdown",
   "id": "f19cd2ef-92eb-44db-b0ca-e1106ecf8ab2",
   "metadata": {},
   "source": [
    "# Plot comparing cumulative precip "
   ]
  },
  {
   "cell_type": "code",
   "execution_count": 12,
   "id": "eba3c803-dc58-4af3-bc39-cbfca37bd978",
   "metadata": {},
   "outputs": [],
   "source": [
    "\n",
    "# Definition to calculate a column for cumulative precipitation\n",
    "\n",
    "def df_to_cumulative_pr (df, var):\n",
    "    df['water_year'] = df.index.to_series().apply(lambda x: x.year + 1 if x.month >= 10 else x.year)\n",
    "    # Calculate the cumulative precipitation within each water year\n",
    "    df['cumulative_pr'] = df.groupby('water_year')[var].cumsum()\n",
    "    return df "
   ]
  },
  {
   "cell_type": "code",
   "execution_count": 22,
   "id": "3052c3a5-2b50-49b1-93dd-008335c53821",
   "metadata": {},
   "outputs": [
    {
     "data": {
      "text/html": [
       "<div>\n",
       "<style scoped>\n",
       "    .dataframe tbody tr th:only-of-type {\n",
       "        vertical-align: middle;\n",
       "    }\n",
       "\n",
       "    .dataframe tbody tr th {\n",
       "        vertical-align: top;\n",
       "    }\n",
       "\n",
       "    .dataframe thead th {\n",
       "        text-align: right;\n",
       "    }\n",
       "</style>\n",
       "<table border=\"1\" class=\"dataframe\">\n",
       "  <thead>\n",
       "    <tr style=\"text-align: right;\">\n",
       "      <th></th>\n",
       "      <th>mean_swe</th>\n",
       "      <th>huc_id</th>\n",
       "      <th>mean_pr</th>\n",
       "      <th>mean_SWE</th>\n",
       "      <th>water_year</th>\n",
       "      <th>cumulative_pr</th>\n",
       "    </tr>\n",
       "    <tr>\n",
       "      <th>day</th>\n",
       "      <th></th>\n",
       "      <th></th>\n",
       "      <th></th>\n",
       "      <th></th>\n",
       "      <th></th>\n",
       "      <th></th>\n",
       "    </tr>\n",
       "  </thead>\n",
       "  <tbody>\n",
       "    <tr>\n",
       "      <th>1996-01-02</th>\n",
       "      <td>123.666664</td>\n",
       "      <td>1711000511</td>\n",
       "      <td>NaN</td>\n",
       "      <td>0.123667</td>\n",
       "      <td>1996</td>\n",
       "      <td>NaN</td>\n",
       "    </tr>\n",
       "    <tr>\n",
       "      <th>1996-01-03</th>\n",
       "      <td>123.592590</td>\n",
       "      <td>1711000511</td>\n",
       "      <td>NaN</td>\n",
       "      <td>0.123593</td>\n",
       "      <td>1996</td>\n",
       "      <td>NaN</td>\n",
       "    </tr>\n",
       "    <tr>\n",
       "      <th>1996-01-04</th>\n",
       "      <td>111.148150</td>\n",
       "      <td>1711000511</td>\n",
       "      <td>NaN</td>\n",
       "      <td>0.111148</td>\n",
       "      <td>1996</td>\n",
       "      <td>NaN</td>\n",
       "    </tr>\n",
       "    <tr>\n",
       "      <th>1996-01-05</th>\n",
       "      <td>150.555560</td>\n",
       "      <td>1711000511</td>\n",
       "      <td>NaN</td>\n",
       "      <td>0.150556</td>\n",
       "      <td>1996</td>\n",
       "      <td>NaN</td>\n",
       "    </tr>\n",
       "    <tr>\n",
       "      <th>1996-01-06</th>\n",
       "      <td>114.370370</td>\n",
       "      <td>1711000511</td>\n",
       "      <td>NaN</td>\n",
       "      <td>0.114370</td>\n",
       "      <td>1996</td>\n",
       "      <td>NaN</td>\n",
       "    </tr>\n",
       "  </tbody>\n",
       "</table>\n",
       "</div>"
      ],
      "text/plain": [
       "              mean_swe      huc_id  mean_pr  mean_SWE  water_year  \\\n",
       "day                                                                 \n",
       "1996-01-02  123.666664  1711000511      NaN  0.123667        1996   \n",
       "1996-01-03  123.592590  1711000511      NaN  0.123593        1996   \n",
       "1996-01-04  111.148150  1711000511      NaN  0.111148        1996   \n",
       "1996-01-05  150.555560  1711000511      NaN  0.150556        1996   \n",
       "1996-01-06  114.370370  1711000511      NaN  0.114370        1996   \n",
       "\n",
       "            cumulative_pr  \n",
       "day                        \n",
       "1996-01-02            NaN  \n",
       "1996-01-03            NaN  \n",
       "1996-01-04            NaN  \n",
       "1996-01-05            NaN  \n",
       "1996-01-06            NaN  "
      ]
     },
     "execution_count": 22,
     "metadata": {},
     "output_type": "execute_result"
    }
   ],
   "source": [
    "df_dawgs_cum = df_to_cumulative_pr(df_dawgs_clean, \"mean_pr\")\n",
    "df_dawgs_cum.head(5)\n"
   ]
  },
  {
   "cell_type": "code",
   "execution_count": 23,
   "id": "5ae0e819-391f-4f77-b967-773c3583bef8",
   "metadata": {},
   "outputs": [
    {
     "data": {
      "text/html": [
       "<div>\n",
       "<style scoped>\n",
       "    .dataframe tbody tr th:only-of-type {\n",
       "        vertical-align: middle;\n",
       "    }\n",
       "\n",
       "    .dataframe tbody tr th {\n",
       "        vertical-align: top;\n",
       "    }\n",
       "\n",
       "    .dataframe thead th {\n",
       "        text-align: right;\n",
       "    }\n",
       "</style>\n",
       "<table border=\"1\" class=\"dataframe\">\n",
       "  <thead>\n",
       "    <tr style=\"text-align: right;\">\n",
       "      <th></th>\n",
       "      <th>mean_pr</th>\n",
       "      <th>water_year</th>\n",
       "      <th>cumulative_pr</th>\n",
       "    </tr>\n",
       "    <tr>\n",
       "      <th>time</th>\n",
       "      <th></th>\n",
       "      <th></th>\n",
       "      <th></th>\n",
       "    </tr>\n",
       "  </thead>\n",
       "  <tbody>\n",
       "    <tr>\n",
       "      <th>1996-10-01</th>\n",
       "      <td>0.000000</td>\n",
       "      <td>1997</td>\n",
       "      <td>0.000000</td>\n",
       "    </tr>\n",
       "    <tr>\n",
       "      <th>1996-10-02</th>\n",
       "      <td>0.000046</td>\n",
       "      <td>1997</td>\n",
       "      <td>0.000046</td>\n",
       "    </tr>\n",
       "    <tr>\n",
       "      <th>1996-10-03</th>\n",
       "      <td>0.000417</td>\n",
       "      <td>1997</td>\n",
       "      <td>0.000463</td>\n",
       "    </tr>\n",
       "    <tr>\n",
       "      <th>1996-10-04</th>\n",
       "      <td>0.002790</td>\n",
       "      <td>1997</td>\n",
       "      <td>0.003254</td>\n",
       "    </tr>\n",
       "    <tr>\n",
       "      <th>1996-10-05</th>\n",
       "      <td>0.001459</td>\n",
       "      <td>1997</td>\n",
       "      <td>0.004713</td>\n",
       "    </tr>\n",
       "  </tbody>\n",
       "</table>\n",
       "</div>"
      ],
      "text/plain": [
       "             mean_pr  water_year  cumulative_pr\n",
       "time                                           \n",
       "1996-10-01  0.000000        1997       0.000000\n",
       "1996-10-02  0.000046        1997       0.000046\n",
       "1996-10-03  0.000417        1997       0.000463\n",
       "1996-10-04  0.002790        1997       0.003254\n",
       "1996-10-05  0.001459        1997       0.004713"
      ]
     },
     "execution_count": 23,
     "metadata": {},
     "output_type": "execute_result"
    }
   ],
   "source": [
    "df_prior_cum = df_to_cumulative_pr(df_prior_pr, \"mean_pr\")\n",
    "df_prior_cum.head(5)"
   ]
  },
  {
   "cell_type": "code",
   "execution_count": 24,
   "id": "7a5c1eb5-d67f-4fb6-acf2-cde303917bed",
   "metadata": {},
   "outputs": [
    {
     "data": {
      "image/png": "[encoded data removed]",
      "text/plain": [
       "<Figure size 800x400 with 1 Axes>"
      ]
     },
     "metadata": {},
     "output_type": "display_data"
    }
   ],
   "source": [
    "plot_var(df_prior_pr, df_dawgs_clean, \"cumulative_pr\", \"cumulative_pr\", time_period)"
   ]
  },
  {
   "cell_type": "markdown",
   "id": "a54a55cf-ed45-48ed-8adf-f206202ef266",
   "metadata": {},
   "source": [
    "# Plot AIR TEMP"
   ]
  },
  {
   "cell_type": "code",
   "execution_count": null,
   "id": "19bc36d5-c4f0-47ef-974d-49730fe3a4a4",
   "metadata": {},
   "outputs": [],
   "source": [
    "df_prior_tair = pd.DataFrame(df_prior_wrf.resample('D')['tair'].mean())\n",
    "df_prior_tair.head(2)\n"
   ]
  },
  {
   "cell_type": "code",
   "execution_count": null,
   "id": "f3c98cec-9609-4c8e-b9d2-3479ccc74a57",
   "metadata": {},
   "outputs": [],
   "source": [
    "var1 = \"tair\"\n",
    "var2 = \"mean_tmmx\"\n",
    "plot_var(df_prior_tair, df_dawgs_clean, var1, var2, time_period)"
   ]
  },
  {
   "cell_type": "code",
   "execution_count": null,
   "id": "6063e253-f853-49d3-9443-827521bc44ae",
   "metadata": {},
   "outputs": [],
   "source": [
    "var1 = \"tair\"\n",
    "var2 = \"mean_tmmn\"\n",
    "plot_var(df_prior_tair, df_dawgs_clean, var1, var2, time_period)"
   ]
  },
  {
   "cell_type": "markdown",
   "id": "90583ee5-0239-44db-9379-1e697fbacfde",
   "metadata": {},
   "source": [
    "# Plot Wind"
   ]
  },
  {
   "cell_type": "code",
   "execution_count": null,
   "id": "1fb64655-b9ab-4bba-a2a3-557568fd6746",
   "metadata": {},
   "outputs": [],
   "source": [
    "df_prior_wind = pd.DataFrame(df_prior_wrf.resample('D')['wind'].mean())\n",
    "df_prior_wind.head(2)"
   ]
  },
  {
   "cell_type": "code",
   "execution_count": null,
   "id": "da35d651-30a6-483a-b174-b30e0e466b9d",
   "metadata": {},
   "outputs": [],
   "source": [
    "var1 = \"wind\"\n",
    "var2 = \"mean_vs\"\n",
    "plot_var(df_prior_wind, df_dawgs_clean, var1, var2, time_period)"
   ]
  },
  {
   "cell_type": "code",
   "execution_count": null,
   "id": "8eacf1f2-39b8-420c-9c34-1c4b41bb2705",
   "metadata": {},
   "outputs": [],
   "source": [
    "plot_var_stacked(df_prior_wind, df_dawgs_clean, var1, var2, time_period)"
   ]
  },
  {
   "cell_type": "markdown",
   "id": "283bbc1c-3adb-41d3-9021-0255bad556fb",
   "metadata": {},
   "source": [
    "# Plot Short Wave Radiation "
   ]
  },
  {
   "cell_type": "code",
   "execution_count": null,
   "id": "d63b0605-b27f-427a-b7ca-9228b319ac5c",
   "metadata": {},
   "outputs": [],
   "source": [
    "df_prior_sr = pd.DataFrame(df_prior_wrf.resample('D')['sw'].mean())\n",
    "var1 = \"sw\"\n",
    "var2 = \"mean_srad\"\n",
    "plot_var(df_prior_sr, df_dawgs_clean, var1, var2, time_period)"
   ]
  },
  {
   "cell_type": "code",
   "execution_count": null,
   "id": "b435a160-4e0b-42ad-8065-077459ee838a",
   "metadata": {},
   "outputs": [],
   "source": [
    "plot_var_stacked(df_prior_sr, df_dawgs_clean, var1, var2, time_period)"
   ]
  },
  {
   "cell_type": "markdown",
   "id": "854a25c5-1b77-4694-9cc2-b0764a3edaac",
   "metadata": {},
   "source": [
    "# Plot Humidity "
   ]
  },
  {
   "cell_type": "code",
   "execution_count": null,
   "id": "4101aee8-30cf-4cda-bdce-7e9da4d6d745",
   "metadata": {},
   "outputs": [],
   "source": [
    "df_prior_rh = pd.DataFrame(df_prior_wrf.resample('D')['rh'].mean())\n",
    "var1 = \"rh\"\n",
    "var2 = \"mean_rmin\"\n",
    "plot_var(df_prior_rh, df_dawgs_clean, var1, var2, time_period)"
   ]
  },
  {
   "cell_type": "markdown",
   "id": "88e8b6bc-fd7a-448c-b229-af17afe53065",
   "metadata": {},
   "source": [
    "# Plot Skagit"
   ]
  },
  {
   "cell_type": "code",
   "execution_count": null,
   "id": "9d4071bd-f3a3-4ee0-acce-188a913a7c7c",
   "metadata": {},
   "outputs": [],
   "source": [
    "\n",
    "def s3_to_gdf(bucket_name, file_name, region_name=\"us-east-1\"):\n",
    "\n",
    "    s3_client = boto3.client(\"s3\", region_name=region_name)\n",
    "    \n",
    "    # Download the file from S3 into a bytes buffer\n",
    "    try:\n",
    "        buffer = io.BytesIO()\n",
    "        s3_client.download_fileobj(bucket_name, file_name, buffer)\n",
    "        buffer.seek(0)  # Reset buffer position to the beginning\n",
    "\n",
    "        # Read the file into a GeoDataFrame (assuming GeoJSON format)\n",
    "        geos = gpd.read_file(buffer)\n",
    "\n",
    "        return geos\n",
    "    \n",
    "    except Exception as e:\n",
    "        print(f\"Error downloading or reading file from S3: {e}\")\n",
    "        return None"
   ]
  },
  {
   "cell_type": "code",
   "execution_count": null,
   "id": "1eb6b59b-d829-4e5b-84a1-aed9805d8fde",
   "metadata": {},
   "outputs": [],
   "source": [
    "b = \"shape-bronze\"\n",
    "f = \"Huc10_in_17110005.geojson\"\n",
    "geos = s3_to_gdf(b, f)\n",
    "geos"
   ]
  },
  {
   "cell_type": "code",
   "execution_count": null,
   "id": "5cc58ee7-fde3-4f61-bf10-d37b9e5081c8",
   "metadata": {},
   "outputs": [],
   "source": [
    "geos.explore()"
   ]
  },
  {
   "cell_type": "code",
   "execution_count": null,
   "id": "47db12a2-3708-4706-9d15-0f781fb9b1e8",
   "metadata": {},
   "outputs": [],
   "source": []
  }
 ],
 "metadata": {
  "kernelspec": {
   "display_name": "Python 3 (ipykernel)",
   "language": "python",
   "name": "python3"
  },
  "language_info": {
   "codemirror_mode": {
    "name": "ipython",
    "version": 3
   },
   "file_extension": ".py",
   "mimetype": "text/x-python",
   "name": "python",
   "nbconvert_exporter": "python",
   "pygments_lexer": "ipython3",
   "version": "3.11.8"
  }
 },
 "nbformat": 4,
 "nbformat_minor": 5
}
