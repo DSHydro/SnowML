{
 "cells": [
  {
   "cell_type": "markdown",
   "id": "1254aa71-f5be-4de1-816c-25f6d6dfc8f2",
   "metadata": {},
   "source": [
    "# Notebook to verify ucla swe data "
   ]
  },
  {
   "cell_type": "code",
   "execution_count": 1,
   "id": "a887c200-ee0b-4f18-b907-db7ca10186ea",
   "metadata": {},
   "outputs": [],
   "source": [
    "import pandas as pd\n",
    "import xarray as xr \n",
    "from snowML.datapipe.utils import data_utils as du \n",
    "from snowML.Scripts.load_hucs import load_huc_splits as lhs"
   ]
  },
  {
   "cell_type": "markdown",
   "id": "1265a73f-efde-4882-b026-e207068e30f0",
   "metadata": {},
   "source": [
    "# Load an example file "
   ]
  },
  {
   "cell_type": "code",
   "execution_count": 2,
   "id": "5c8275fa-65be-4888-80cd-6313d0fcad43",
   "metadata": {},
   "outputs": [
    {
     "name": "stdout",
     "output_type": "stream",
     "text": [
      "13514\n"
     ]
    },
    {
     "data": {
      "text/html": [
       "<div>\n",
       "<style scoped>\n",
       "    .dataframe tbody tr th:only-of-type {\n",
       "        vertical-align: middle;\n",
       "    }\n",
       "\n",
       "    .dataframe tbody tr th {\n",
       "        vertical-align: top;\n",
       "    }\n",
       "\n",
       "    .dataframe thead th {\n",
       "        text-align: right;\n",
       "    }\n",
       "</style>\n",
       "<table border=\"1\" class=\"dataframe\">\n",
       "  <thead>\n",
       "    <tr style=\"text-align: right;\">\n",
       "      <th></th>\n",
       "      <th>day</th>\n",
       "      <th>SWE_Post</th>\n",
       "    </tr>\n",
       "  </thead>\n",
       "  <tbody>\n",
       "    <tr>\n",
       "      <th>0</th>\n",
       "      <td>1984-10-01</td>\n",
       "      <td>0.000000</td>\n",
       "    </tr>\n",
       "    <tr>\n",
       "      <th>1</th>\n",
       "      <td>1984-10-02</td>\n",
       "      <td>0.000000</td>\n",
       "    </tr>\n",
       "    <tr>\n",
       "      <th>2</th>\n",
       "      <td>1984-10-03</td>\n",
       "      <td>0.000000</td>\n",
       "    </tr>\n",
       "    <tr>\n",
       "      <th>3</th>\n",
       "      <td>1984-10-04</td>\n",
       "      <td>0.000000</td>\n",
       "    </tr>\n",
       "    <tr>\n",
       "      <th>4</th>\n",
       "      <td>1984-10-05</td>\n",
       "      <td>0.000025</td>\n",
       "    </tr>\n",
       "  </tbody>\n",
       "</table>\n",
       "</div>"
      ],
      "text/plain": [
       "          day  SWE_Post\n",
       "0  1984-10-01  0.000000\n",
       "1  1984-10-02  0.000000\n",
       "2  1984-10-03  0.000000\n",
       "3  1984-10-04  0.000000\n",
       "4  1984-10-05  0.000025"
      ]
     },
     "execution_count": 2,
     "metadata": {},
     "output_type": "execute_result"
    }
   ],
   "source": [
    "b = \"snowml-gold\" \n",
    "f = \"mean_swe_ucla_2_in_171100050805.csv\"\n",
    "df = du.s3_to_df(f, b)\n",
    "print(df.shape[0])\n",
    "df.head()"
   ]
  },
  {
   "cell_type": "code",
   "execution_count": 3,
   "id": "89d6a992-5eb3-4373-a9d0-364dadce9b35",
   "metadata": {},
   "outputs": [
    {
     "data": {
      "text/html": [
       "<div>\n",
       "<style scoped>\n",
       "    .dataframe tbody tr th:only-of-type {\n",
       "        vertical-align: middle;\n",
       "    }\n",
       "\n",
       "    .dataframe tbody tr th {\n",
       "        vertical-align: top;\n",
       "    }\n",
       "\n",
       "    .dataframe thead th {\n",
       "        text-align: right;\n",
       "    }\n",
       "</style>\n",
       "<table border=\"1\" class=\"dataframe\">\n",
       "  <thead>\n",
       "    <tr style=\"text-align: right;\">\n",
       "      <th></th>\n",
       "      <th>day</th>\n",
       "      <th>SWE_Post</th>\n",
       "    </tr>\n",
       "  </thead>\n",
       "  <tbody>\n",
       "    <tr>\n",
       "      <th>13509</th>\n",
       "      <td>2021-09-26</td>\n",
       "      <td>0.012049</td>\n",
       "    </tr>\n",
       "    <tr>\n",
       "      <th>13510</th>\n",
       "      <td>2021-09-27</td>\n",
       "      <td>0.011895</td>\n",
       "    </tr>\n",
       "    <tr>\n",
       "      <th>13511</th>\n",
       "      <td>2021-09-28</td>\n",
       "      <td>0.012089</td>\n",
       "    </tr>\n",
       "    <tr>\n",
       "      <th>13512</th>\n",
       "      <td>2021-09-29</td>\n",
       "      <td>0.012306</td>\n",
       "    </tr>\n",
       "    <tr>\n",
       "      <th>13513</th>\n",
       "      <td>2021-09-30</td>\n",
       "      <td>0.012108</td>\n",
       "    </tr>\n",
       "  </tbody>\n",
       "</table>\n",
       "</div>"
      ],
      "text/plain": [
       "              day  SWE_Post\n",
       "13509  2021-09-26  0.012049\n",
       "13510  2021-09-27  0.011895\n",
       "13511  2021-09-28  0.012089\n",
       "13512  2021-09-29  0.012306\n",
       "13513  2021-09-30  0.012108"
      ]
     },
     "execution_count": 3,
     "metadata": {},
     "output_type": "execute_result"
    }
   ],
   "source": [
    "df.tail()"
   ]
  },
  {
   "cell_type": "code",
   "execution_count": 4,
   "id": "3f2f6c55-25b0-4bf5-bed5-d8f74ebe20c1",
   "metadata": {},
   "outputs": [],
   "source": [
    "def check_day_issues(huc_list):\n",
    "    b = \"snowml-gold\"\n",
    "    hucs_with_missing_days = []\n",
    "    hucs_with_duplicate_days = []\n",
    "    hucs_w_no_df_found = []\n",
    "    hucs_w_unspecified_error = []\n",
    "\n",
    "    for huc in huc_list:\n",
    "        f = f\"mean_swe_ucla_2_in_{huc}.csv\"\n",
    "        try:\n",
    "            df = du.s3_to_df(f, b)\n",
    "        except Exception:\n",
    "            hucs_w_no_df_found.append(huc)\n",
    "            continue\n",
    "\n",
    "        # Make a copy and ensure 'day' is datetime\n",
    "        try: \n",
    "            df_copy = df.copy()\n",
    "            df_copy['day'] = pd.to_datetime(df_copy['day'])\n",
    "\n",
    "            # Check for duplicate days\n",
    "            has_duplicates = df_copy['day'].duplicated().any()\n",
    "\n",
    "            # Check for missing days\n",
    "            full_range = pd.date_range(start=df_copy['day'].min(), end=df_copy['day'].max())\n",
    "            unique_days = df_copy['day'].drop_duplicates()\n",
    "            has_missing = len(unique_days) != len(full_range)\n",
    "\n",
    "            if has_missing:\n",
    "                hucs_with_missing_days.append(huc)\n",
    "            if has_duplicates:\n",
    "                hucs_with_duplicate_days.append(huc)\n",
    "        except: \n",
    "            hucs_w_unspecified_error.append(huc)\n",
    "\n",
    "    return {\n",
    "        \"hucs_with_missing_days\": hucs_with_missing_days,\n",
    "        \"hucs_with_duplicate_days\": hucs_with_duplicate_days,\n",
    "        \"hucs_w_no_df_found\": hucs_w_no_df_found, \n",
    "        \"hucs_w_unspecified_error\": hucs_w_unspecified_error\n",
    "    }\n",
    "\n"
   ]
  },
  {
   "cell_type": "code",
   "execution_count": 5,
   "id": "d89cd33f-279c-4fad-9b97-185424e084a1",
   "metadata": {},
   "outputs": [
    {
     "data": {
      "text/plain": [
       "{'hucs_with_missing_days': [],\n",
       " 'hucs_with_duplicate_days': [],\n",
       " 'hucs_w_no_df_found': [54],\n",
       " 'hucs_w_unspecified_error': []}"
      ]
     },
     "execution_count": 5,
     "metadata": {},
     "output_type": "execute_result"
    }
   ],
   "source": [
    "check_day_issues([171100050805, 54])"
   ]
  },
  {
   "cell_type": "markdown",
   "id": "0e007d43-9801-420a-886b-9bf92317e362",
   "metadata": {},
   "source": [
    "# Run on All "
   ]
  },
  {
   "cell_type": "code",
   "execution_count": 6,
   "id": "7a46b92a-5dad-4c28-ba0d-4f73ddf82af7",
   "metadata": {},
   "outputs": [],
   "source": [
    "f = \"../../src/snowML/datapipe/huc_lists/MarMultiSplits.json\""
   ]
  },
  {
   "cell_type": "code",
   "execution_count": 7,
   "id": "3bccd42c-0068-4072-a3aa-6dc0123ecdc9",
   "metadata": {},
   "outputs": [],
   "source": [
    "m1, m2, m3  = lhs.huc_split(f)"
   ]
  },
  {
   "cell_type": "code",
   "execution_count": 8,
   "id": "ca6cb7fb-2dbe-424e-a514-d24d221418a8",
   "metadata": {},
   "outputs": [],
   "source": [
    "all = m1+m2+m3"
   ]
  },
  {
   "cell_type": "code",
   "execution_count": 9,
   "id": "9f41a7c1-1582-4645-8543-3d1b2e273b41",
   "metadata": {},
   "outputs": [
    {
     "data": {
      "text/plain": [
       "{'hucs_with_missing_days': [],\n",
       " 'hucs_with_duplicate_days': [],\n",
       " 'hucs_w_no_df_found': [],\n",
       " 'hucs_w_unspecified_error': ['171100080201', '171100050602']}"
      ]
     },
     "execution_count": 9,
     "metadata": {},
     "output_type": "execute_result"
    }
   ],
   "source": [
    "issues_dict = check_day_issues(all)\n",
    "issues_dict"
   ]
  },
  {
   "cell_type": "code",
   "execution_count": 10,
   "id": "ed47dac3-4e67-458c-a1ef-161c0c0ebea0",
   "metadata": {},
   "outputs": [
    {
     "data": {
      "text/plain": [
       "0"
      ]
     },
     "execution_count": 10,
     "metadata": {},
     "output_type": "execute_result"
    }
   ],
   "source": [
    "len(issues_dict[\"hucs_w_no_df_found\"])"
   ]
  },
  {
   "cell_type": "code",
   "execution_count": 11,
   "id": "bb5a8575-689b-4d35-99d5-fea70674cdf7",
   "metadata": {},
   "outputs": [],
   "source": [
    "# Error ls from gold update: \n",
    "# ['171100080201', '171100050602']\n",
    "#  '171100050602' - continued errors \n",
    "\n"
   ]
  },
  {
   "cell_type": "code",
   "execution_count": null,
   "id": "1ed9a167-a058-4787-a2f5-93ccab6f1c6e",
   "metadata": {},
   "outputs": [],
   "source": []
  }
 ],
 "metadata": {
  "kernelspec": {
   "display_name": "Python 3 (ipykernel)",
   "language": "python",
   "name": "python3"
  },
  "language_info": {
   "codemirror_mode": {
    "name": "ipython",
    "version": 3
   },
   "file_extension": ".py",
   "mimetype": "text/x-python",
   "name": "python",
   "nbconvert_exporter": "python",
   "pygments_lexer": "ipython3",
   "version": "3.11.8"
  }
 },
 "nbformat": 4,
 "nbformat_minor": 5
}
