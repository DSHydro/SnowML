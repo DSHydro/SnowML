{
 "cells": [
  {
   "cell_type": "code",
   "execution_count": 1,
   "id": "f9fd8d74-a418-4df5-8872-f0005b67e114",
   "metadata": {},
   "outputs": [],
   "source": [
    "import matplotlib.pyplot as plt\n",
    "import pandas as pd\n",
    "import numpy as np\n",
    "import torch\n",
    "from einops import rearrange\n",
    "from gluonts.dataset.multivariate_grouper import MultivariateGrouper\n",
    "from gluonts.dataset.pandas import PandasDataset\n",
    "from gluonts.dataset.split import split\n",
    "\n",
    "from uni2ts.eval_util.plot import plot_single, plot_next_multi\n",
    "from uni2ts.model.moirai import MoiraiForecast, MoiraiModule\n",
    "from uni2ts.model.moirai_moe import MoiraiMoEForecast, MoiraiMoEModule"
   ]
  },
  {
   "cell_type": "code",
   "execution_count": 2,
   "id": "5c0a08be-8858-4f36-8372-47024e9f5fdd",
   "metadata": {},
   "outputs": [],
   "source": [
    "from collections.abc import Generator\n",
    "from pathlib import Path\n",
    "from typing import Any\n",
    "\n",
    "import datasets\n",
    "import pandas as pd\n",
    "from datasets import Features, Sequence, Value"
   ]
  },
  {
   "cell_type": "code",
   "execution_count": 3,
   "id": "04a306ed-8e57-4230-a69d-74057e015572",
   "metadata": {},
   "outputs": [],
   "source": [
    "COLS = [\"mean_swe\", \"mean_pr\", \"mean_tair\", \"mean_vs\", \"mean_srad\", \"mean_hum\"]"
   ]
  },
  {
   "cell_type": "code",
   "execution_count": 4,
   "id": "5926c700-8e7e-48fd-909b-c0a13c1c98b9",
   "metadata": {},
   "outputs": [
    {
     "data": {
      "text/plain": [
       "Index(['mean_swe', 'mean_pr', 'mean_tair', 'mean_vs', 'mean_srad', 'mean_hum'], dtype='object')"
      ]
     },
     "execution_count": 4,
     "metadata": {},
     "output_type": "execute_result"
    }
   ],
   "source": [
    "data_path = \"model_ready_huc170103010101.csv\"\n",
    "df = pd.read_csv(data_path, index_col=0, parse_dates=True)\n",
    "df = df[COLS]\n",
    "df.columns"
   ]
  },
  {
   "cell_type": "code",
   "execution_count": 5,
   "id": "bf9e363c-954d-4070-b75a-22936793ecac",
   "metadata": {},
   "outputs": [
    {
     "data": {
      "application/vnd.jupyter.widget-view+json": {
       "model_id": "ec03b528c08a4db9a10609eecbb8aeb6",
       "version_major": 2,
       "version_minor": 0
      },
      "text/plain": [
       "Generating train split: 0 examples [00:00, ? examples/s]"
      ]
     },
     "metadata": {},
     "output_type": "display_data"
    }
   ],
   "source": [
    "# Load dataframe\n",
    "url_wide = (\n",
    "    \"https://gist.githubusercontent.com/rsnirwan/c8c8654a98350fadd229b00167174ec4\"\n",
    "    \"/raw/a42101c7786d4bc7695228a0f2c8cea41340e18f/ts_wide.csv\"\n",
    ")\n",
    "df = pd.read_csv(url_wide, index_col=0, parse_dates=True)\n",
    "\n",
    "df.head()\n",
    "\n",
    "def example_gen_func() -> Generator[dict[str, Any]]:\n",
    "    for i in range(len(df.columns)):\n",
    "        yield {\n",
    "            \"target\": df.iloc[:, i].to_numpy(),  # array of shape (time,)\n",
    "            \"start\": df.index[0],\n",
    "            \"freq\": pd.infer_freq(df.index),\n",
    "            \"item_id\": f\"item_{i}\",\n",
    "        }\n",
    "\n",
    "\n",
    "features = Features(\n",
    "    dict(\n",
    "        target=Sequence(Value(\"float32\")),\n",
    "        start=Value(\"timestamp[s]\"),\n",
    "        freq=Value(\"string\"),\n",
    "        item_id=Value(\"string\"),\n",
    "    )\n",
    ")\n",
    "\n",
    "hf_dataset = datasets.Dataset.from_generator(example_gen_func, features=features)"
   ]
  },
  {
   "cell_type": "code",
   "execution_count": 8,
   "id": "402b0cc8-124e-4379-829f-9c943d05efbb",
   "metadata": {},
   "outputs": [
    {
     "data": {
      "text/plain": [
       "{'target': Sequence(feature=Value(dtype='float32', id=None), length=-1, id=None),\n",
       " 'start': Value(dtype='timestamp[s]', id=None),\n",
       " 'freq': Value(dtype='string', id=None),\n",
       " 'item_id': Value(dtype='string', id=None)}"
      ]
     },
     "execution_count": 8,
     "metadata": {},
     "output_type": "execute_result"
    }
   ],
   "source": [
    "hf_dataset.features.copy()"
   ]
  },
  {
   "cell_type": "code",
   "execution_count": null,
   "id": "0430fa4b-8631-419f-9820-2e6909405096",
   "metadata": {},
   "outputs": [],
   "source": []
  }
 ],
 "metadata": {
  "kernelspec": {
   "display_name": "Python 3 (ipykernel)",
   "language": "python",
   "name": "python3"
  },
  "language_info": {
   "codemirror_mode": {
    "name": "ipython",
    "version": 3
   },
   "file_extension": ".py",
   "mimetype": "text/x-python",
   "name": "python",
   "nbconvert_exporter": "python",
   "pygments_lexer": "ipython3",
   "version": "3.11.8"
  }
 },
 "nbformat": 4,
 "nbformat_minor": 5
}
